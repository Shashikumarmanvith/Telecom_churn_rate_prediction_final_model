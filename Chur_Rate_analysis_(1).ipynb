{
  "nbformat": 4,
  "nbformat_minor": 0,
  "metadata": {
    "colab": {
      "provenance": []
    },
    "kernelspec": {
      "name": "python3",
      "display_name": "Python 3"
    },
    "language_info": {
      "name": "python"
    },
    "accelerator": "GPU",
    "gpuClass": "standard"
  },
  "cells": [
    {
      "cell_type": "markdown",
      "source": [
        "##Import the all the necessary libraries"
      ],
      "metadata": {
        "id": "DcS4ev6yaNhF"
      }
    },
    {
      "cell_type": "code",
      "execution_count": 1,
      "metadata": {
        "id": "NeFlnUsBBwWx"
      },
      "outputs": [],
      "source": [
        "import pandas as pd\n",
        "import numpy as np\n",
        "import matplotlib.pyplot as plt\n",
        "import seaborn as sns\n",
        "import warnings\n",
        "warnings.filterwarnings(\"ignore\")"
      ]
    },
    {
      "cell_type": "markdown",
      "source": [
        "##import Data set"
      ],
      "metadata": {
        "id": "jSUilJsyaes_"
      }
    },
    {
      "cell_type": "code",
      "source": [
        "df = pd.read_csv('Churn.csv')"
      ],
      "metadata": {
        "id": "iweK5xgSCMdu"
      },
      "execution_count": 2,
      "outputs": []
    },
    {
      "cell_type": "code",
      "source": [
        "df.head()"
      ],
      "metadata": {
        "colab": {
          "base_uri": "https://localhost:8080/",
          "height": 317
        },
        "id": "B5FEyhPJCdlf",
        "outputId": "4b5b67cf-55ed-4b06-bdf5-18721a94f4d0"
      },
      "execution_count": 3,
      "outputs": [
        {
          "output_type": "execute_result",
          "data": {
            "text/plain": [
              "   Unnamed: 0 state      area.code  account.length voice.plan  voice.messages  \\\n",
              "0           1    KS  area_code_415             128        yes              25   \n",
              "1           2    OH  area_code_415             107        yes              26   \n",
              "2           3    NJ  area_code_415             137         no               0   \n",
              "3           4    OH  area_code_408              84         no               0   \n",
              "4           5    OK  area_code_415              75         no               0   \n",
              "\n",
              "  intl.plan  intl.mins  intl.calls  intl.charge  ...  day.calls  day.charge  \\\n",
              "0        no       10.0           3         2.70  ...        110       45.07   \n",
              "1        no       13.7           3         3.70  ...        123       27.47   \n",
              "2        no       12.2           5         3.29  ...        114       41.38   \n",
              "3       yes        6.6           7         1.78  ...         71        50.9   \n",
              "4       yes       10.1           3         2.73  ...        113       28.34   \n",
              "\n",
              "  eve.mins eve.calls  eve.charge  night.mins  night.calls  night.charge  \\\n",
              "0    197.4        99       16.78       244.7           91         11.01   \n",
              "1    195.5       103       16.62       254.4          103         11.45   \n",
              "2    121.2       110       10.30       162.6          104          7.32   \n",
              "3     61.9        88        5.26       196.9           89          8.86   \n",
              "4    148.3       122       12.61       186.9          121          8.41   \n",
              "\n",
              "   customer.calls  churn  \n",
              "0               1     no  \n",
              "1               1     no  \n",
              "2               0     no  \n",
              "3               2     no  \n",
              "4               3     no  \n",
              "\n",
              "[5 rows x 21 columns]"
            ],
            "text/html": [
              "\n",
              "  <div id=\"df-ac368f07-24b1-4ee2-8194-06fef9c3dae9\">\n",
              "    <div class=\"colab-df-container\">\n",
              "      <div>\n",
              "<style scoped>\n",
              "    .dataframe tbody tr th:only-of-type {\n",
              "        vertical-align: middle;\n",
              "    }\n",
              "\n",
              "    .dataframe tbody tr th {\n",
              "        vertical-align: top;\n",
              "    }\n",
              "\n",
              "    .dataframe thead th {\n",
              "        text-align: right;\n",
              "    }\n",
              "</style>\n",
              "<table border=\"1\" class=\"dataframe\">\n",
              "  <thead>\n",
              "    <tr style=\"text-align: right;\">\n",
              "      <th></th>\n",
              "      <th>Unnamed: 0</th>\n",
              "      <th>state</th>\n",
              "      <th>area.code</th>\n",
              "      <th>account.length</th>\n",
              "      <th>voice.plan</th>\n",
              "      <th>voice.messages</th>\n",
              "      <th>intl.plan</th>\n",
              "      <th>intl.mins</th>\n",
              "      <th>intl.calls</th>\n",
              "      <th>intl.charge</th>\n",
              "      <th>...</th>\n",
              "      <th>day.calls</th>\n",
              "      <th>day.charge</th>\n",
              "      <th>eve.mins</th>\n",
              "      <th>eve.calls</th>\n",
              "      <th>eve.charge</th>\n",
              "      <th>night.mins</th>\n",
              "      <th>night.calls</th>\n",
              "      <th>night.charge</th>\n",
              "      <th>customer.calls</th>\n",
              "      <th>churn</th>\n",
              "    </tr>\n",
              "  </thead>\n",
              "  <tbody>\n",
              "    <tr>\n",
              "      <th>0</th>\n",
              "      <td>1</td>\n",
              "      <td>KS</td>\n",
              "      <td>area_code_415</td>\n",
              "      <td>128</td>\n",
              "      <td>yes</td>\n",
              "      <td>25</td>\n",
              "      <td>no</td>\n",
              "      <td>10.0</td>\n",
              "      <td>3</td>\n",
              "      <td>2.70</td>\n",
              "      <td>...</td>\n",
              "      <td>110</td>\n",
              "      <td>45.07</td>\n",
              "      <td>197.4</td>\n",
              "      <td>99</td>\n",
              "      <td>16.78</td>\n",
              "      <td>244.7</td>\n",
              "      <td>91</td>\n",
              "      <td>11.01</td>\n",
              "      <td>1</td>\n",
              "      <td>no</td>\n",
              "    </tr>\n",
              "    <tr>\n",
              "      <th>1</th>\n",
              "      <td>2</td>\n",
              "      <td>OH</td>\n",
              "      <td>area_code_415</td>\n",
              "      <td>107</td>\n",
              "      <td>yes</td>\n",
              "      <td>26</td>\n",
              "      <td>no</td>\n",
              "      <td>13.7</td>\n",
              "      <td>3</td>\n",
              "      <td>3.70</td>\n",
              "      <td>...</td>\n",
              "      <td>123</td>\n",
              "      <td>27.47</td>\n",
              "      <td>195.5</td>\n",
              "      <td>103</td>\n",
              "      <td>16.62</td>\n",
              "      <td>254.4</td>\n",
              "      <td>103</td>\n",
              "      <td>11.45</td>\n",
              "      <td>1</td>\n",
              "      <td>no</td>\n",
              "    </tr>\n",
              "    <tr>\n",
              "      <th>2</th>\n",
              "      <td>3</td>\n",
              "      <td>NJ</td>\n",
              "      <td>area_code_415</td>\n",
              "      <td>137</td>\n",
              "      <td>no</td>\n",
              "      <td>0</td>\n",
              "      <td>no</td>\n",
              "      <td>12.2</td>\n",
              "      <td>5</td>\n",
              "      <td>3.29</td>\n",
              "      <td>...</td>\n",
              "      <td>114</td>\n",
              "      <td>41.38</td>\n",
              "      <td>121.2</td>\n",
              "      <td>110</td>\n",
              "      <td>10.30</td>\n",
              "      <td>162.6</td>\n",
              "      <td>104</td>\n",
              "      <td>7.32</td>\n",
              "      <td>0</td>\n",
              "      <td>no</td>\n",
              "    </tr>\n",
              "    <tr>\n",
              "      <th>3</th>\n",
              "      <td>4</td>\n",
              "      <td>OH</td>\n",
              "      <td>area_code_408</td>\n",
              "      <td>84</td>\n",
              "      <td>no</td>\n",
              "      <td>0</td>\n",
              "      <td>yes</td>\n",
              "      <td>6.6</td>\n",
              "      <td>7</td>\n",
              "      <td>1.78</td>\n",
              "      <td>...</td>\n",
              "      <td>71</td>\n",
              "      <td>50.9</td>\n",
              "      <td>61.9</td>\n",
              "      <td>88</td>\n",
              "      <td>5.26</td>\n",
              "      <td>196.9</td>\n",
              "      <td>89</td>\n",
              "      <td>8.86</td>\n",
              "      <td>2</td>\n",
              "      <td>no</td>\n",
              "    </tr>\n",
              "    <tr>\n",
              "      <th>4</th>\n",
              "      <td>5</td>\n",
              "      <td>OK</td>\n",
              "      <td>area_code_415</td>\n",
              "      <td>75</td>\n",
              "      <td>no</td>\n",
              "      <td>0</td>\n",
              "      <td>yes</td>\n",
              "      <td>10.1</td>\n",
              "      <td>3</td>\n",
              "      <td>2.73</td>\n",
              "      <td>...</td>\n",
              "      <td>113</td>\n",
              "      <td>28.34</td>\n",
              "      <td>148.3</td>\n",
              "      <td>122</td>\n",
              "      <td>12.61</td>\n",
              "      <td>186.9</td>\n",
              "      <td>121</td>\n",
              "      <td>8.41</td>\n",
              "      <td>3</td>\n",
              "      <td>no</td>\n",
              "    </tr>\n",
              "  </tbody>\n",
              "</table>\n",
              "<p>5 rows × 21 columns</p>\n",
              "</div>\n",
              "      <button class=\"colab-df-convert\" onclick=\"convertToInteractive('df-ac368f07-24b1-4ee2-8194-06fef9c3dae9')\"\n",
              "              title=\"Convert this dataframe to an interactive table.\"\n",
              "              style=\"display:none;\">\n",
              "        \n",
              "  <svg xmlns=\"http://www.w3.org/2000/svg\" height=\"24px\"viewBox=\"0 0 24 24\"\n",
              "       width=\"24px\">\n",
              "    <path d=\"M0 0h24v24H0V0z\" fill=\"none\"/>\n",
              "    <path d=\"M18.56 5.44l.94 2.06.94-2.06 2.06-.94-2.06-.94-.94-2.06-.94 2.06-2.06.94zm-11 1L8.5 8.5l.94-2.06 2.06-.94-2.06-.94L8.5 2.5l-.94 2.06-2.06.94zm10 10l.94 2.06.94-2.06 2.06-.94-2.06-.94-.94-2.06-.94 2.06-2.06.94z\"/><path d=\"M17.41 7.96l-1.37-1.37c-.4-.4-.92-.59-1.43-.59-.52 0-1.04.2-1.43.59L10.3 9.45l-7.72 7.72c-.78.78-.78 2.05 0 2.83L4 21.41c.39.39.9.59 1.41.59.51 0 1.02-.2 1.41-.59l7.78-7.78 2.81-2.81c.8-.78.8-2.07 0-2.86zM5.41 20L4 18.59l7.72-7.72 1.47 1.35L5.41 20z\"/>\n",
              "  </svg>\n",
              "      </button>\n",
              "      \n",
              "  <style>\n",
              "    .colab-df-container {\n",
              "      display:flex;\n",
              "      flex-wrap:wrap;\n",
              "      gap: 12px;\n",
              "    }\n",
              "\n",
              "    .colab-df-convert {\n",
              "      background-color: #E8F0FE;\n",
              "      border: none;\n",
              "      border-radius: 50%;\n",
              "      cursor: pointer;\n",
              "      display: none;\n",
              "      fill: #1967D2;\n",
              "      height: 32px;\n",
              "      padding: 0 0 0 0;\n",
              "      width: 32px;\n",
              "    }\n",
              "\n",
              "    .colab-df-convert:hover {\n",
              "      background-color: #E2EBFA;\n",
              "      box-shadow: 0px 1px 2px rgba(60, 64, 67, 0.3), 0px 1px 3px 1px rgba(60, 64, 67, 0.15);\n",
              "      fill: #174EA6;\n",
              "    }\n",
              "\n",
              "    [theme=dark] .colab-df-convert {\n",
              "      background-color: #3B4455;\n",
              "      fill: #D2E3FC;\n",
              "    }\n",
              "\n",
              "    [theme=dark] .colab-df-convert:hover {\n",
              "      background-color: #434B5C;\n",
              "      box-shadow: 0px 1px 3px 1px rgba(0, 0, 0, 0.15);\n",
              "      filter: drop-shadow(0px 1px 2px rgba(0, 0, 0, 0.3));\n",
              "      fill: #FFFFFF;\n",
              "    }\n",
              "  </style>\n",
              "\n",
              "      <script>\n",
              "        const buttonEl =\n",
              "          document.querySelector('#df-ac368f07-24b1-4ee2-8194-06fef9c3dae9 button.colab-df-convert');\n",
              "        buttonEl.style.display =\n",
              "          google.colab.kernel.accessAllowed ? 'block' : 'none';\n",
              "\n",
              "        async function convertToInteractive(key) {\n",
              "          const element = document.querySelector('#df-ac368f07-24b1-4ee2-8194-06fef9c3dae9');\n",
              "          const dataTable =\n",
              "            await google.colab.kernel.invokeFunction('convertToInteractive',\n",
              "                                                     [key], {});\n",
              "          if (!dataTable) return;\n",
              "\n",
              "          const docLinkHtml = 'Like what you see? Visit the ' +\n",
              "            '<a target=\"_blank\" href=https://colab.research.google.com/notebooks/data_table.ipynb>data table notebook</a>'\n",
              "            + ' to learn more about interactive tables.';\n",
              "          element.innerHTML = '';\n",
              "          dataTable['output_type'] = 'display_data';\n",
              "          await google.colab.output.renderOutput(dataTable, element);\n",
              "          const docLink = document.createElement('div');\n",
              "          docLink.innerHTML = docLinkHtml;\n",
              "          element.appendChild(docLink);\n",
              "        }\n",
              "      </script>\n",
              "    </div>\n",
              "  </div>\n",
              "  "
            ]
          },
          "metadata": {},
          "execution_count": 3
        }
      ]
    },
    {
      "cell_type": "code",
      "source": [
        "df.tail()"
      ],
      "metadata": {
        "colab": {
          "base_uri": "https://localhost:8080/",
          "height": 317
        },
        "id": "XjBhyHtYCjrX",
        "outputId": "a1af2a7b-f9b8-4653-a359-180989ea96ab"
      },
      "execution_count": 4,
      "outputs": [
        {
          "output_type": "execute_result",
          "data": {
            "text/plain": [
              "      Unnamed: 0 state      area.code  account.length voice.plan  \\\n",
              "4995        4996    HI  area_code_408              50        yes   \n",
              "4996        4997    WV  area_code_415             152         no   \n",
              "4997        4998    DC  area_code_415              61         no   \n",
              "4998        4999    DC  area_code_510             109         no   \n",
              "4999        5000    VT  area_code_415              86        yes   \n",
              "\n",
              "      voice.messages intl.plan  intl.mins  intl.calls  intl.charge  ...  \\\n",
              "4995              40        no        9.9           5         2.67  ...   \n",
              "4996               0        no       14.7           2         3.97  ...   \n",
              "4997               0        no       13.6           4         3.67  ...   \n",
              "4998               0        no        8.5           6         2.30  ...   \n",
              "4999              34        no        9.3          16         2.51  ...   \n",
              "\n",
              "      day.calls  day.charge eve.mins eve.calls  eve.charge  night.mins  \\\n",
              "4995        127       40.07      223       126       18.96       297.5   \n",
              "4996         90       31.31    256.8        73       21.83       213.6   \n",
              "4997         89        23.9    172.8       128       14.69       212.4   \n",
              "4998         67        32.1    171.7        92       14.59       224.4   \n",
              "4999        102          22    267.1       104       22.70       154.8   \n",
              "\n",
              "      night.calls  night.charge  customer.calls  churn  \n",
              "4995          116         13.39               2     no  \n",
              "4996          113          9.61               3    yes  \n",
              "4997           97          9.56               1     no  \n",
              "4998           89         10.10               0     no  \n",
              "4999          100          6.97               0     no  \n",
              "\n",
              "[5 rows x 21 columns]"
            ],
            "text/html": [
              "\n",
              "  <div id=\"df-ce9a913d-9240-4447-8909-773c999e684e\">\n",
              "    <div class=\"colab-df-container\">\n",
              "      <div>\n",
              "<style scoped>\n",
              "    .dataframe tbody tr th:only-of-type {\n",
              "        vertical-align: middle;\n",
              "    }\n",
              "\n",
              "    .dataframe tbody tr th {\n",
              "        vertical-align: top;\n",
              "    }\n",
              "\n",
              "    .dataframe thead th {\n",
              "        text-align: right;\n",
              "    }\n",
              "</style>\n",
              "<table border=\"1\" class=\"dataframe\">\n",
              "  <thead>\n",
              "    <tr style=\"text-align: right;\">\n",
              "      <th></th>\n",
              "      <th>Unnamed: 0</th>\n",
              "      <th>state</th>\n",
              "      <th>area.code</th>\n",
              "      <th>account.length</th>\n",
              "      <th>voice.plan</th>\n",
              "      <th>voice.messages</th>\n",
              "      <th>intl.plan</th>\n",
              "      <th>intl.mins</th>\n",
              "      <th>intl.calls</th>\n",
              "      <th>intl.charge</th>\n",
              "      <th>...</th>\n",
              "      <th>day.calls</th>\n",
              "      <th>day.charge</th>\n",
              "      <th>eve.mins</th>\n",
              "      <th>eve.calls</th>\n",
              "      <th>eve.charge</th>\n",
              "      <th>night.mins</th>\n",
              "      <th>night.calls</th>\n",
              "      <th>night.charge</th>\n",
              "      <th>customer.calls</th>\n",
              "      <th>churn</th>\n",
              "    </tr>\n",
              "  </thead>\n",
              "  <tbody>\n",
              "    <tr>\n",
              "      <th>4995</th>\n",
              "      <td>4996</td>\n",
              "      <td>HI</td>\n",
              "      <td>area_code_408</td>\n",
              "      <td>50</td>\n",
              "      <td>yes</td>\n",
              "      <td>40</td>\n",
              "      <td>no</td>\n",
              "      <td>9.9</td>\n",
              "      <td>5</td>\n",
              "      <td>2.67</td>\n",
              "      <td>...</td>\n",
              "      <td>127</td>\n",
              "      <td>40.07</td>\n",
              "      <td>223</td>\n",
              "      <td>126</td>\n",
              "      <td>18.96</td>\n",
              "      <td>297.5</td>\n",
              "      <td>116</td>\n",
              "      <td>13.39</td>\n",
              "      <td>2</td>\n",
              "      <td>no</td>\n",
              "    </tr>\n",
              "    <tr>\n",
              "      <th>4996</th>\n",
              "      <td>4997</td>\n",
              "      <td>WV</td>\n",
              "      <td>area_code_415</td>\n",
              "      <td>152</td>\n",
              "      <td>no</td>\n",
              "      <td>0</td>\n",
              "      <td>no</td>\n",
              "      <td>14.7</td>\n",
              "      <td>2</td>\n",
              "      <td>3.97</td>\n",
              "      <td>...</td>\n",
              "      <td>90</td>\n",
              "      <td>31.31</td>\n",
              "      <td>256.8</td>\n",
              "      <td>73</td>\n",
              "      <td>21.83</td>\n",
              "      <td>213.6</td>\n",
              "      <td>113</td>\n",
              "      <td>9.61</td>\n",
              "      <td>3</td>\n",
              "      <td>yes</td>\n",
              "    </tr>\n",
              "    <tr>\n",
              "      <th>4997</th>\n",
              "      <td>4998</td>\n",
              "      <td>DC</td>\n",
              "      <td>area_code_415</td>\n",
              "      <td>61</td>\n",
              "      <td>no</td>\n",
              "      <td>0</td>\n",
              "      <td>no</td>\n",
              "      <td>13.6</td>\n",
              "      <td>4</td>\n",
              "      <td>3.67</td>\n",
              "      <td>...</td>\n",
              "      <td>89</td>\n",
              "      <td>23.9</td>\n",
              "      <td>172.8</td>\n",
              "      <td>128</td>\n",
              "      <td>14.69</td>\n",
              "      <td>212.4</td>\n",
              "      <td>97</td>\n",
              "      <td>9.56</td>\n",
              "      <td>1</td>\n",
              "      <td>no</td>\n",
              "    </tr>\n",
              "    <tr>\n",
              "      <th>4998</th>\n",
              "      <td>4999</td>\n",
              "      <td>DC</td>\n",
              "      <td>area_code_510</td>\n",
              "      <td>109</td>\n",
              "      <td>no</td>\n",
              "      <td>0</td>\n",
              "      <td>no</td>\n",
              "      <td>8.5</td>\n",
              "      <td>6</td>\n",
              "      <td>2.30</td>\n",
              "      <td>...</td>\n",
              "      <td>67</td>\n",
              "      <td>32.1</td>\n",
              "      <td>171.7</td>\n",
              "      <td>92</td>\n",
              "      <td>14.59</td>\n",
              "      <td>224.4</td>\n",
              "      <td>89</td>\n",
              "      <td>10.10</td>\n",
              "      <td>0</td>\n",
              "      <td>no</td>\n",
              "    </tr>\n",
              "    <tr>\n",
              "      <th>4999</th>\n",
              "      <td>5000</td>\n",
              "      <td>VT</td>\n",
              "      <td>area_code_415</td>\n",
              "      <td>86</td>\n",
              "      <td>yes</td>\n",
              "      <td>34</td>\n",
              "      <td>no</td>\n",
              "      <td>9.3</td>\n",
              "      <td>16</td>\n",
              "      <td>2.51</td>\n",
              "      <td>...</td>\n",
              "      <td>102</td>\n",
              "      <td>22</td>\n",
              "      <td>267.1</td>\n",
              "      <td>104</td>\n",
              "      <td>22.70</td>\n",
              "      <td>154.8</td>\n",
              "      <td>100</td>\n",
              "      <td>6.97</td>\n",
              "      <td>0</td>\n",
              "      <td>no</td>\n",
              "    </tr>\n",
              "  </tbody>\n",
              "</table>\n",
              "<p>5 rows × 21 columns</p>\n",
              "</div>\n",
              "      <button class=\"colab-df-convert\" onclick=\"convertToInteractive('df-ce9a913d-9240-4447-8909-773c999e684e')\"\n",
              "              title=\"Convert this dataframe to an interactive table.\"\n",
              "              style=\"display:none;\">\n",
              "        \n",
              "  <svg xmlns=\"http://www.w3.org/2000/svg\" height=\"24px\"viewBox=\"0 0 24 24\"\n",
              "       width=\"24px\">\n",
              "    <path d=\"M0 0h24v24H0V0z\" fill=\"none\"/>\n",
              "    <path d=\"M18.56 5.44l.94 2.06.94-2.06 2.06-.94-2.06-.94-.94-2.06-.94 2.06-2.06.94zm-11 1L8.5 8.5l.94-2.06 2.06-.94-2.06-.94L8.5 2.5l-.94 2.06-2.06.94zm10 10l.94 2.06.94-2.06 2.06-.94-2.06-.94-.94-2.06-.94 2.06-2.06.94z\"/><path d=\"M17.41 7.96l-1.37-1.37c-.4-.4-.92-.59-1.43-.59-.52 0-1.04.2-1.43.59L10.3 9.45l-7.72 7.72c-.78.78-.78 2.05 0 2.83L4 21.41c.39.39.9.59 1.41.59.51 0 1.02-.2 1.41-.59l7.78-7.78 2.81-2.81c.8-.78.8-2.07 0-2.86zM5.41 20L4 18.59l7.72-7.72 1.47 1.35L5.41 20z\"/>\n",
              "  </svg>\n",
              "      </button>\n",
              "      \n",
              "  <style>\n",
              "    .colab-df-container {\n",
              "      display:flex;\n",
              "      flex-wrap:wrap;\n",
              "      gap: 12px;\n",
              "    }\n",
              "\n",
              "    .colab-df-convert {\n",
              "      background-color: #E8F0FE;\n",
              "      border: none;\n",
              "      border-radius: 50%;\n",
              "      cursor: pointer;\n",
              "      display: none;\n",
              "      fill: #1967D2;\n",
              "      height: 32px;\n",
              "      padding: 0 0 0 0;\n",
              "      width: 32px;\n",
              "    }\n",
              "\n",
              "    .colab-df-convert:hover {\n",
              "      background-color: #E2EBFA;\n",
              "      box-shadow: 0px 1px 2px rgba(60, 64, 67, 0.3), 0px 1px 3px 1px rgba(60, 64, 67, 0.15);\n",
              "      fill: #174EA6;\n",
              "    }\n",
              "\n",
              "    [theme=dark] .colab-df-convert {\n",
              "      background-color: #3B4455;\n",
              "      fill: #D2E3FC;\n",
              "    }\n",
              "\n",
              "    [theme=dark] .colab-df-convert:hover {\n",
              "      background-color: #434B5C;\n",
              "      box-shadow: 0px 1px 3px 1px rgba(0, 0, 0, 0.15);\n",
              "      filter: drop-shadow(0px 1px 2px rgba(0, 0, 0, 0.3));\n",
              "      fill: #FFFFFF;\n",
              "    }\n",
              "  </style>\n",
              "\n",
              "      <script>\n",
              "        const buttonEl =\n",
              "          document.querySelector('#df-ce9a913d-9240-4447-8909-773c999e684e button.colab-df-convert');\n",
              "        buttonEl.style.display =\n",
              "          google.colab.kernel.accessAllowed ? 'block' : 'none';\n",
              "\n",
              "        async function convertToInteractive(key) {\n",
              "          const element = document.querySelector('#df-ce9a913d-9240-4447-8909-773c999e684e');\n",
              "          const dataTable =\n",
              "            await google.colab.kernel.invokeFunction('convertToInteractive',\n",
              "                                                     [key], {});\n",
              "          if (!dataTable) return;\n",
              "\n",
              "          const docLinkHtml = 'Like what you see? Visit the ' +\n",
              "            '<a target=\"_blank\" href=https://colab.research.google.com/notebooks/data_table.ipynb>data table notebook</a>'\n",
              "            + ' to learn more about interactive tables.';\n",
              "          element.innerHTML = '';\n",
              "          dataTable['output_type'] = 'display_data';\n",
              "          await google.colab.output.renderOutput(dataTable, element);\n",
              "          const docLink = document.createElement('div');\n",
              "          docLink.innerHTML = docLinkHtml;\n",
              "          element.appendChild(docLink);\n",
              "        }\n",
              "      </script>\n",
              "    </div>\n",
              "  </div>\n",
              "  "
            ]
          },
          "metadata": {},
          "execution_count": 4
        }
      ]
    },
    {
      "cell_type": "code",
      "source": [
        "df.shape"
      ],
      "metadata": {
        "colab": {
          "base_uri": "https://localhost:8080/"
        },
        "id": "f4aAhBSnaAcP",
        "outputId": "a87a0281-0c7a-4f97-c5de-14191ac1703c"
      },
      "execution_count": 5,
      "outputs": [
        {
          "output_type": "execute_result",
          "data": {
            "text/plain": [
              "(5000, 21)"
            ]
          },
          "metadata": {},
          "execution_count": 5
        }
      ]
    },
    {
      "cell_type": "markdown",
      "source": [
        "the data set having 5000 observation and 21 features "
      ],
      "metadata": {
        "id": "FkluLD8SaEhF"
      }
    },
    {
      "cell_type": "code",
      "source": [
        "df.columns"
      ],
      "metadata": {
        "colab": {
          "base_uri": "https://localhost:8080/"
        },
        "id": "JSrGVfhPm8ni",
        "outputId": "cb73bfbe-ee11-45f6-ae45-8648ed5dce14"
      },
      "execution_count": 6,
      "outputs": [
        {
          "output_type": "execute_result",
          "data": {
            "text/plain": [
              "Index(['Unnamed: 0', 'state', 'area.code', 'account.length', 'voice.plan',\n",
              "       'voice.messages', 'intl.plan', 'intl.mins', 'intl.calls', 'intl.charge',\n",
              "       'day.mins', 'day.calls', 'day.charge', 'eve.mins', 'eve.calls',\n",
              "       'eve.charge', 'night.mins', 'night.calls', 'night.charge',\n",
              "       'customer.calls', 'churn'],\n",
              "      dtype='object')"
            ]
          },
          "metadata": {},
          "execution_count": 6
        }
      ]
    },
    {
      "cell_type": "markdown",
      "source": [
        "1.\tstate: Categorical, for the 51 states and the District of Columbia.\n",
        "2.\tArea.code\n",
        "3.\taccount.length: how long the account has been active.\n",
        "4.\tvoice.plan: yes or no, voicemail plan.\n",
        "5.\tvoice.messages: number of voicemail messages.\n",
        "6.\tintl.plan: yes or no, international plan.\n",
        "7.\tintl.mins: minutes customer used service to make international calls.\n",
        "8.\tintl.calls: total number of international calls.\n",
        "9. intl.charge: total international charge.\n",
        "10.\tday.mins: minutes customer used service during the day.\n",
        "11.\tday.calls: total number of calls during the day.\n",
        "12.\tday.charge: total charge during the day.\n",
        "13.\teve.mins: minutes customer used service during the evening.\n",
        "14. eve.calls: total number of calls during the evening.\n",
        "15.\teve.charge: total charge during the evening.\n",
        "16.\tnight.mins: minutes customer used service during the night.\n",
        "17.\tnight.calls: total number of calls during the night.\n",
        "18.\tnight.charge: total charge during the night.\n",
        "19.\tcustomer.calls: number of calls to customer service.\n",
        "20. churn: Categorical, yes or no. Indicator of whether the customer has left the \n",
        "company (yes or no).\n"
      ],
      "metadata": {
        "id": "UQq1Dr8ynBlK"
      }
    },
    {
      "cell_type": "code",
      "source": [
        "df.info()"
      ],
      "metadata": {
        "colab": {
          "base_uri": "https://localhost:8080/"
        },
        "id": "jPyNUgDfa4tK",
        "outputId": "aad14ecf-8d1e-4ebc-e6c2-72f9dfffec07"
      },
      "execution_count": 7,
      "outputs": [
        {
          "output_type": "stream",
          "name": "stdout",
          "text": [
            "<class 'pandas.core.frame.DataFrame'>\n",
            "RangeIndex: 5000 entries, 0 to 4999\n",
            "Data columns (total 21 columns):\n",
            " #   Column          Non-Null Count  Dtype  \n",
            "---  ------          --------------  -----  \n",
            " 0   Unnamed: 0      5000 non-null   int64  \n",
            " 1   state           5000 non-null   object \n",
            " 2   area.code       5000 non-null   object \n",
            " 3   account.length  5000 non-null   int64  \n",
            " 4   voice.plan      5000 non-null   object \n",
            " 5   voice.messages  5000 non-null   int64  \n",
            " 6   intl.plan       5000 non-null   object \n",
            " 7   intl.mins       5000 non-null   float64\n",
            " 8   intl.calls      5000 non-null   int64  \n",
            " 9   intl.charge     5000 non-null   float64\n",
            " 10  day.mins        5000 non-null   float64\n",
            " 11  day.calls       5000 non-null   int64  \n",
            " 12  day.charge      5000 non-null   object \n",
            " 13  eve.mins        5000 non-null   object \n",
            " 14  eve.calls       5000 non-null   int64  \n",
            " 15  eve.charge      5000 non-null   float64\n",
            " 16  night.mins      5000 non-null   float64\n",
            " 17  night.calls     5000 non-null   int64  \n",
            " 18  night.charge    5000 non-null   float64\n",
            " 19  customer.calls  5000 non-null   int64  \n",
            " 20  churn           5000 non-null   object \n",
            "dtypes: float64(6), int64(8), object(7)\n",
            "memory usage: 820.4+ KB\n"
          ]
        }
      ]
    },
    {
      "cell_type": "markdown",
      "source": [
        "##Pre-proccesing of Data"
      ],
      "metadata": {
        "id": "2jEd-NBNal6c"
      }
    },
    {
      "cell_type": "markdown",
      "source": [
        "##Missing value Treatment and Duplicate records"
      ],
      "metadata": {
        "id": "RDVt9xdEavKO"
      }
    },
    {
      "cell_type": "code",
      "source": [
        "df.isnull().sum()"
      ],
      "metadata": {
        "colab": {
          "base_uri": "https://localhost:8080/"
        },
        "id": "KZFAKrucCjuG",
        "outputId": "4142b420-e858-4fa7-d335-4e9704b5bdf7"
      },
      "execution_count": 8,
      "outputs": [
        {
          "output_type": "execute_result",
          "data": {
            "text/plain": [
              "Unnamed: 0        0\n",
              "state             0\n",
              "area.code         0\n",
              "account.length    0\n",
              "voice.plan        0\n",
              "voice.messages    0\n",
              "intl.plan         0\n",
              "intl.mins         0\n",
              "intl.calls        0\n",
              "intl.charge       0\n",
              "day.mins          0\n",
              "day.calls         0\n",
              "day.charge        0\n",
              "eve.mins          0\n",
              "eve.calls         0\n",
              "eve.charge        0\n",
              "night.mins        0\n",
              "night.calls       0\n",
              "night.charge      0\n",
              "customer.calls    0\n",
              "churn             0\n",
              "dtype: int64"
            ]
          },
          "metadata": {},
          "execution_count": 8
        }
      ]
    },
    {
      "cell_type": "code",
      "source": [
        "plt.figure(figsize=(10,10))\n",
        "sns.heatmap(df.isnull())"
      ],
      "metadata": {
        "colab": {
          "base_uri": "https://localhost:8080/",
          "height": 683
        },
        "id": "7XBd99R2FIg9",
        "outputId": "78e8c740-b8a1-4db9-9625-a6b88b48443b"
      },
      "execution_count": 9,
      "outputs": [
        {
          "output_type": "execute_result",
          "data": {
            "text/plain": [
              "<AxesSubplot:>"
            ]
          },
          "metadata": {},
          "execution_count": 9
        },
        {
          "output_type": "display_data",
          "data": {
            "text/plain": [
              "<Figure size 720x720 with 2 Axes>"
            ],
            "image/png": "[encoded data removed]"
          },
          "metadata": {
            "needs_background": "light"
          }
        }
      ]
    },
    {
      "cell_type": "code",
      "source": [
        "for i in df.columns:\n",
        "  if df[i].dtypes == 'object':\n",
        "    print(df[i][df[i]=='Nan'])"
      ],
      "metadata": {
        "colab": {
          "base_uri": "https://localhost:8080/"
        },
        "id": "RaXXRXPEG6eX",
        "outputId": "9989f40f-c2db-4660-f4ed-ebe093f648d8"
      },
      "execution_count": 10,
      "outputs": [
        {
          "output_type": "stream",
          "name": "stdout",
          "text": [
            "Series([], Name: state, dtype: object)\n",
            "Series([], Name: area.code, dtype: object)\n",
            "Series([], Name: voice.plan, dtype: object)\n",
            "Series([], Name: intl.plan, dtype: object)\n",
            "12      Nan\n",
            "27      Nan\n",
            "47      Nan\n",
            "4407    Nan\n",
            "4755    Nan\n",
            "4965    Nan\n",
            "4992    Nan\n",
            "Name: day.charge, dtype: object\n",
            "89      Nan\n",
            "102     Nan\n",
            "110     Nan\n",
            "159     Nan\n",
            "231     Nan\n",
            "254     Nan\n",
            "299     Nan\n",
            "345     Nan\n",
            "460     Nan\n",
            "557     Nan\n",
            "624     Nan\n",
            "684     Nan\n",
            "729     Nan\n",
            "750     Nan\n",
            "795     Nan\n",
            "892     Nan\n",
            "1012    Nan\n",
            "1099    Nan\n",
            "1219    Nan\n",
            "1417    Nan\n",
            "1483    Nan\n",
            "1625    Nan\n",
            "1699    Nan\n",
            "1778    Nan\n",
            "Name: eve.mins, dtype: object\n",
            "Series([], Name: churn, dtype: object)\n"
          ]
        }
      ]
    },
    {
      "cell_type": "markdown",
      "source": [
        "above aboservation will showing some Nan value present in the **day.charge** and **eve.mins**\n"
      ],
      "metadata": {
        "id": "TWMSxZa2KUbU"
      }
    },
    {
      "cell_type": "markdown",
      "source": [
        "##Missing Value Treatement\n"
      ],
      "metadata": {
        "id": "BIw3EKXURzr5"
      }
    },
    {
      "cell_type": "code",
      "source": [
        "df2 = df.iloc[:,10:16]\n",
        "df2.head(5)"
      ],
      "metadata": {
        "colab": {
          "base_uri": "https://localhost:8080/",
          "height": 206
        },
        "id": "AGKJjKKkowVu",
        "outputId": "5a9057e6-6794-4f8b-ff12-697526e4b897"
      },
      "execution_count": 11,
      "outputs": [
        {
          "output_type": "execute_result",
          "data": {
            "text/plain": [
              "   day.mins  day.calls day.charge eve.mins  eve.calls  eve.charge\n",
              "0     265.1        110      45.07    197.4         99       16.78\n",
              "1     161.6        123      27.47    195.5        103       16.62\n",
              "2     243.4        114      41.38    121.2        110       10.30\n",
              "3     299.4         71       50.9     61.9         88        5.26\n",
              "4     166.7        113      28.34    148.3        122       12.61"
            ],
            "text/html": [
              "\n",
              "  <div id=\"df-ad794f60-59cc-49b0-90ea-1b21c6ad4729\">\n",
              "    <div class=\"colab-df-container\">\n",
              "      <div>\n",
              "<style scoped>\n",
              "    .dataframe tbody tr th:only-of-type {\n",
              "        vertical-align: middle;\n",
              "    }\n",
              "\n",
              "    .dataframe tbody tr th {\n",
              "        vertical-align: top;\n",
              "    }\n",
              "\n",
              "    .dataframe thead th {\n",
              "        text-align: right;\n",
              "    }\n",
              "</style>\n",
              "<table border=\"1\" class=\"dataframe\">\n",
              "  <thead>\n",
              "    <tr style=\"text-align: right;\">\n",
              "      <th></th>\n",
              "      <th>day.mins</th>\n",
              "      <th>day.calls</th>\n",
              "      <th>day.charge</th>\n",
              "      <th>eve.mins</th>\n",
              "      <th>eve.calls</th>\n",
              "      <th>eve.charge</th>\n",
              "    </tr>\n",
              "  </thead>\n",
              "  <tbody>\n",
              "    <tr>\n",
              "      <th>0</th>\n",
              "      <td>265.1</td>\n",
              "      <td>110</td>\n",
              "      <td>45.07</td>\n",
              "      <td>197.4</td>\n",
              "      <td>99</td>\n",
              "      <td>16.78</td>\n",
              "    </tr>\n",
              "    <tr>\n",
              "      <th>1</th>\n",
              "      <td>161.6</td>\n",
              "      <td>123</td>\n",
              "      <td>27.47</td>\n",
              "      <td>195.5</td>\n",
              "      <td>103</td>\n",
              "      <td>16.62</td>\n",
              "    </tr>\n",
              "    <tr>\n",
              "      <th>2</th>\n",
              "      <td>243.4</td>\n",
              "      <td>114</td>\n",
              "      <td>41.38</td>\n",
              "      <td>121.2</td>\n",
              "      <td>110</td>\n",
              "      <td>10.30</td>\n",
              "    </tr>\n",
              "    <tr>\n",
              "      <th>3</th>\n",
              "      <td>299.4</td>\n",
              "      <td>71</td>\n",
              "      <td>50.9</td>\n",
              "      <td>61.9</td>\n",
              "      <td>88</td>\n",
              "      <td>5.26</td>\n",
              "    </tr>\n",
              "    <tr>\n",
              "      <th>4</th>\n",
              "      <td>166.7</td>\n",
              "      <td>113</td>\n",
              "      <td>28.34</td>\n",
              "      <td>148.3</td>\n",
              "      <td>122</td>\n",
              "      <td>12.61</td>\n",
              "    </tr>\n",
              "  </tbody>\n",
              "</table>\n",
              "</div>\n",
              "      <button class=\"colab-df-convert\" onclick=\"convertToInteractive('df-ad794f60-59cc-49b0-90ea-1b21c6ad4729')\"\n",
              "              title=\"Convert this dataframe to an interactive table.\"\n",
              "              style=\"display:none;\">\n",
              "        \n",
              "  <svg xmlns=\"http://www.w3.org/2000/svg\" height=\"24px\"viewBox=\"0 0 24 24\"\n",
              "       width=\"24px\">\n",
              "    <path d=\"M0 0h24v24H0V0z\" fill=\"none\"/>\n",
              "    <path d=\"M18.56 5.44l.94 2.06.94-2.06 2.06-.94-2.06-.94-.94-2.06-.94 2.06-2.06.94zm-11 1L8.5 8.5l.94-2.06 2.06-.94-2.06-.94L8.5 2.5l-.94 2.06-2.06.94zm10 10l.94 2.06.94-2.06 2.06-.94-2.06-.94-.94-2.06-.94 2.06-2.06.94z\"/><path d=\"M17.41 7.96l-1.37-1.37c-.4-.4-.92-.59-1.43-.59-.52 0-1.04.2-1.43.59L10.3 9.45l-7.72 7.72c-.78.78-.78 2.05 0 2.83L4 21.41c.39.39.9.59 1.41.59.51 0 1.02-.2 1.41-.59l7.78-7.78 2.81-2.81c.8-.78.8-2.07 0-2.86zM5.41 20L4 18.59l7.72-7.72 1.47 1.35L5.41 20z\"/>\n",
              "  </svg>\n",
              "      </button>\n",
              "      \n",
              "  <style>\n",
              "    .colab-df-container {\n",
              "      display:flex;\n",
              "      flex-wrap:wrap;\n",
              "      gap: 12px;\n",
              "    }\n",
              "\n",
              "    .colab-df-convert {\n",
              "      background-color: #E8F0FE;\n",
              "      border: none;\n",
              "      border-radius: 50%;\n",
              "      cursor: pointer;\n",
              "      display: none;\n",
              "      fill: #1967D2;\n",
              "      height: 32px;\n",
              "      padding: 0 0 0 0;\n",
              "      width: 32px;\n",
              "    }\n",
              "\n",
              "    .colab-df-convert:hover {\n",
              "      background-color: #E2EBFA;\n",
              "      box-shadow: 0px 1px 2px rgba(60, 64, 67, 0.3), 0px 1px 3px 1px rgba(60, 64, 67, 0.15);\n",
              "      fill: #174EA6;\n",
              "    }\n",
              "\n",
              "    [theme=dark] .colab-df-convert {\n",
              "      background-color: #3B4455;\n",
              "      fill: #D2E3FC;\n",
              "    }\n",
              "\n",
              "    [theme=dark] .colab-df-convert:hover {\n",
              "      background-color: #434B5C;\n",
              "      box-shadow: 0px 1px 3px 1px rgba(0, 0, 0, 0.15);\n",
              "      filter: drop-shadow(0px 1px 2px rgba(0, 0, 0, 0.3));\n",
              "      fill: #FFFFFF;\n",
              "    }\n",
              "  </style>\n",
              "\n",
              "      <script>\n",
              "        const buttonEl =\n",
              "          document.querySelector('#df-ad794f60-59cc-49b0-90ea-1b21c6ad4729 button.colab-df-convert');\n",
              "        buttonEl.style.display =\n",
              "          google.colab.kernel.accessAllowed ? 'block' : 'none';\n",
              "\n",
              "        async function convertToInteractive(key) {\n",
              "          const element = document.querySelector('#df-ad794f60-59cc-49b0-90ea-1b21c6ad4729');\n",
              "          const dataTable =\n",
              "            await google.colab.kernel.invokeFunction('convertToInteractive',\n",
              "                                                     [key], {});\n",
              "          if (!dataTable) return;\n",
              "\n",
              "          const docLinkHtml = 'Like what you see? Visit the ' +\n",
              "            '<a target=\"_blank\" href=https://colab.research.google.com/notebooks/data_table.ipynb>data table notebook</a>'\n",
              "            + ' to learn more about interactive tables.';\n",
              "          element.innerHTML = '';\n",
              "          dataTable['output_type'] = 'display_data';\n",
              "          await google.colab.output.renderOutput(dataTable, element);\n",
              "          const docLink = document.createElement('div');\n",
              "          docLink.innerHTML = docLinkHtml;\n",
              "          element.appendChild(docLink);\n",
              "        }\n",
              "      </script>\n",
              "    </div>\n",
              "  </div>\n",
              "  "
            ]
          },
          "metadata": {},
          "execution_count": 11
        }
      ]
    },
    {
      "cell_type": "code",
      "source": [
        "df2[df2['day.charge']=='Nan']"
      ],
      "metadata": {
        "colab": {
          "base_uri": "https://localhost:8080/",
          "height": 269
        },
        "id": "5qZIvwAJpEQs",
        "outputId": "27acc337-6974-4a45-9ca0-3edee426291a"
      },
      "execution_count": 12,
      "outputs": [
        {
          "output_type": "execute_result",
          "data": {
            "text/plain": [
              "      day.mins  day.calls day.charge eve.mins  eve.calls  eve.charge\n",
              "12       128.8         96        Nan    104.9         71        8.92\n",
              "27       134.3         73        Nan    155.5        100       13.22\n",
              "47       187.0        133        Nan    134.6         74       11.44\n",
              "4407     138.5         96        Nan    159.7        117       13.57\n",
              "4755     180.4        121        Nan    228.5        111       19.42\n",
              "4965     192.1         87        Nan      193        122       16.41\n",
              "4992     188.3         70        Nan    243.8         88       20.72"
            ],
            "text/html": [
              "\n",
              "  <div id=\"df-ffe28d4a-bb70-4216-a7d3-5c517b82e03d\">\n",
              "    <div class=\"colab-df-container\">\n",
              "      <div>\n",
              "<style scoped>\n",
              "    .dataframe tbody tr th:only-of-type {\n",
              "        vertical-align: middle;\n",
              "    }\n",
              "\n",
              "    .dataframe tbody tr th {\n",
              "        vertical-align: top;\n",
              "    }\n",
              "\n",
              "    .dataframe thead th {\n",
              "        text-align: right;\n",
              "    }\n",
              "</style>\n",
              "<table border=\"1\" class=\"dataframe\">\n",
              "  <thead>\n",
              "    <tr style=\"text-align: right;\">\n",
              "      <th></th>\n",
              "      <th>day.mins</th>\n",
              "      <th>day.calls</th>\n",
              "      <th>day.charge</th>\n",
              "      <th>eve.mins</th>\n",
              "      <th>eve.calls</th>\n",
              "      <th>eve.charge</th>\n",
              "    </tr>\n",
              "  </thead>\n",
              "  <tbody>\n",
              "    <tr>\n",
              "      <th>12</th>\n",
              "      <td>128.8</td>\n",
              "      <td>96</td>\n",
              "      <td>Nan</td>\n",
              "      <td>104.9</td>\n",
              "      <td>71</td>\n",
              "      <td>8.92</td>\n",
              "    </tr>\n",
              "    <tr>\n",
              "      <th>27</th>\n",
              "      <td>134.3</td>\n",
              "      <td>73</td>\n",
              "      <td>Nan</td>\n",
              "      <td>155.5</td>\n",
              "      <td>100</td>\n",
              "      <td>13.22</td>\n",
              "    </tr>\n",
              "    <tr>\n",
              "      <th>47</th>\n",
              "      <td>187.0</td>\n",
              "      <td>133</td>\n",
              "      <td>Nan</td>\n",
              "      <td>134.6</td>\n",
              "      <td>74</td>\n",
              "      <td>11.44</td>\n",
              "    </tr>\n",
              "    <tr>\n",
              "      <th>4407</th>\n",
              "      <td>138.5</td>\n",
              "      <td>96</td>\n",
              "      <td>Nan</td>\n",
              "      <td>159.7</td>\n",
              "      <td>117</td>\n",
              "      <td>13.57</td>\n",
              "    </tr>\n",
              "    <tr>\n",
              "      <th>4755</th>\n",
              "      <td>180.4</td>\n",
              "      <td>121</td>\n",
              "      <td>Nan</td>\n",
              "      <td>228.5</td>\n",
              "      <td>111</td>\n",
              "      <td>19.42</td>\n",
              "    </tr>\n",
              "    <tr>\n",
              "      <th>4965</th>\n",
              "      <td>192.1</td>\n",
              "      <td>87</td>\n",
              "      <td>Nan</td>\n",
              "      <td>193</td>\n",
              "      <td>122</td>\n",
              "      <td>16.41</td>\n",
              "    </tr>\n",
              "    <tr>\n",
              "      <th>4992</th>\n",
              "      <td>188.3</td>\n",
              "      <td>70</td>\n",
              "      <td>Nan</td>\n",
              "      <td>243.8</td>\n",
              "      <td>88</td>\n",
              "      <td>20.72</td>\n",
              "    </tr>\n",
              "  </tbody>\n",
              "</table>\n",
              "</div>\n",
              "      <button class=\"colab-df-convert\" onclick=\"convertToInteractive('df-ffe28d4a-bb70-4216-a7d3-5c517b82e03d')\"\n",
              "              title=\"Convert this dataframe to an interactive table.\"\n",
              "              style=\"display:none;\">\n",
              "        \n",
              "  <svg xmlns=\"http://www.w3.org/2000/svg\" height=\"24px\"viewBox=\"0 0 24 24\"\n",
              "       width=\"24px\">\n",
              "    <path d=\"M0 0h24v24H0V0z\" fill=\"none\"/>\n",
              "    <path d=\"M18.56 5.44l.94 2.06.94-2.06 2.06-.94-2.06-.94-.94-2.06-.94 2.06-2.06.94zm-11 1L8.5 8.5l.94-2.06 2.06-.94-2.06-.94L8.5 2.5l-.94 2.06-2.06.94zm10 10l.94 2.06.94-2.06 2.06-.94-2.06-.94-.94-2.06-.94 2.06-2.06.94z\"/><path d=\"M17.41 7.96l-1.37-1.37c-.4-.4-.92-.59-1.43-.59-.52 0-1.04.2-1.43.59L10.3 9.45l-7.72 7.72c-.78.78-.78 2.05 0 2.83L4 21.41c.39.39.9.59 1.41.59.51 0 1.02-.2 1.41-.59l7.78-7.78 2.81-2.81c.8-.78.8-2.07 0-2.86zM5.41 20L4 18.59l7.72-7.72 1.47 1.35L5.41 20z\"/>\n",
              "  </svg>\n",
              "      </button>\n",
              "      \n",
              "  <style>\n",
              "    .colab-df-container {\n",
              "      display:flex;\n",
              "      flex-wrap:wrap;\n",
              "      gap: 12px;\n",
              "    }\n",
              "\n",
              "    .colab-df-convert {\n",
              "      background-color: #E8F0FE;\n",
              "      border: none;\n",
              "      border-radius: 50%;\n",
              "      cursor: pointer;\n",
              "      display: none;\n",
              "      fill: #1967D2;\n",
              "      height: 32px;\n",
              "      padding: 0 0 0 0;\n",
              "      width: 32px;\n",
              "    }\n",
              "\n",
              "    .colab-df-convert:hover {\n",
              "      background-color: #E2EBFA;\n",
              "      box-shadow: 0px 1px 2px rgba(60, 64, 67, 0.3), 0px 1px 3px 1px rgba(60, 64, 67, 0.15);\n",
              "      fill: #174EA6;\n",
              "    }\n",
              "\n",
              "    [theme=dark] .colab-df-convert {\n",
              "      background-color: #3B4455;\n",
              "      fill: #D2E3FC;\n",
              "    }\n",
              "\n",
              "    [theme=dark] .colab-df-convert:hover {\n",
              "      background-color: #434B5C;\n",
              "      box-shadow: 0px 1px 3px 1px rgba(0, 0, 0, 0.15);\n",
              "      filter: drop-shadow(0px 1px 2px rgba(0, 0, 0, 0.3));\n",
              "      fill: #FFFFFF;\n",
              "    }\n",
              "  </style>\n",
              "\n",
              "      <script>\n",
              "        const buttonEl =\n",
              "          document.querySelector('#df-ffe28d4a-bb70-4216-a7d3-5c517b82e03d button.colab-df-convert');\n",
              "        buttonEl.style.display =\n",
              "          google.colab.kernel.accessAllowed ? 'block' : 'none';\n",
              "\n",
              "        async function convertToInteractive(key) {\n",
              "          const element = document.querySelector('#df-ffe28d4a-bb70-4216-a7d3-5c517b82e03d');\n",
              "          const dataTable =\n",
              "            await google.colab.kernel.invokeFunction('convertToInteractive',\n",
              "                                                     [key], {});\n",
              "          if (!dataTable) return;\n",
              "\n",
              "          const docLinkHtml = 'Like what you see? Visit the ' +\n",
              "            '<a target=\"_blank\" href=https://colab.research.google.com/notebooks/data_table.ipynb>data table notebook</a>'\n",
              "            + ' to learn more about interactive tables.';\n",
              "          element.innerHTML = '';\n",
              "          dataTable['output_type'] = 'display_data';\n",
              "          await google.colab.output.renderOutput(dataTable, element);\n",
              "          const docLink = document.createElement('div');\n",
              "          docLink.innerHTML = docLinkHtml;\n",
              "          element.appendChild(docLink);\n",
              "        }\n",
              "      </script>\n",
              "    </div>\n",
              "  </div>\n",
              "  "
            ]
          },
          "metadata": {},
          "execution_count": 12
        }
      ]
    },
    {
      "cell_type": "code",
      "source": [
        "print(df2[df2['day.mins']==128.8]) \n",
        "print(df2[df2['day.mins']==134.3])\n",
        "print(df2[df2['day.mins']==187.0])\n",
        "print(df2[df2['day.mins']==138.5])\n",
        "print(df2[df2['day.mins']==180.4])\n",
        "print(df2[df2['day.mins']==192.1])\n",
        "print(df2[df2['day.mins']==188.3])"
      ],
      "metadata": {
        "colab": {
          "base_uri": "https://localhost:8080/"
        },
        "id": "jqO0aUpyoX-Z",
        "outputId": "94c7aea0-d83f-4dc1-c690-a617ded50e18"
      },
      "execution_count": 13,
      "outputs": [
        {
          "output_type": "stream",
          "name": "stdout",
          "text": [
            "      day.mins  day.calls day.charge eve.mins  eve.calls  eve.charge\n",
            "12       128.8         96        Nan    104.9         71        8.92\n",
            "1446     128.8        104       21.9    157.3         52       13.37\n",
            "1725     128.8         86       21.9    203.9        105       17.33\n",
            "2538     128.8         80       21.9    208.7         93       17.74\n",
            "      day.mins  day.calls day.charge eve.mins  eve.calls  eve.charge\n",
            "27       134.3         73        Nan    155.5        100       13.22\n",
            "1221     134.3         98      22.83    202.3        109       17.20\n",
            "4542     134.3         99      22.83    203.9        103       17.33\n",
            "      day.mins  day.calls day.charge eve.mins  eve.calls  eve.charge\n",
            "47       187.0        133        Nan    134.6         74       11.44\n",
            "1631     187.0         65      31.79    141.4        128       12.02\n",
            "4876     187.0         95      31.79    163.6        136       13.91\n",
            "      day.mins  day.calls day.charge eve.mins  eve.calls  eve.charge\n",
            "2085     138.5        110      23.55    153.2         86       13.02\n",
            "4407     138.5         96        Nan    159.7        117       13.57\n",
            "      day.mins  day.calls day.charge eve.mins  eve.calls  eve.charge\n",
            "796      180.4         89      30.67    129.4        124       11.00\n",
            "2374     180.4        123      30.67      194         98       16.49\n",
            "3562     180.4         99      30.67    135.1        114       11.48\n",
            "4755     180.4        121        Nan    228.5        111       19.42\n",
            "      day.mins  day.calls day.charge eve.mins  eve.calls  eve.charge\n",
            "60       192.1         97      32.66    169.9         94       14.44\n",
            "330      192.1         98      32.66    312.9        135       26.60\n",
            "1813     192.1         83      32.66    163.6         88       13.91\n",
            "2693     192.1         95      32.66    249.8         94       21.23\n",
            "3649     192.1         80      32.66    269.3        125       22.89\n",
            "4965     192.1         87        Nan      193        122       16.41\n",
            "      day.mins  day.calls day.charge eve.mins  eve.calls  eve.charge\n",
            "3748     188.3         80      32.01    214.7        123       18.25\n",
            "3793     188.3        108      32.01    167.6        116       14.25\n",
            "4992     188.3         70        Nan    243.8         88       20.72\n"
          ]
        }
      ]
    },
    {
      "cell_type": "markdown",
      "source": [
        "above observation we need to know the 100% relation to the day.mins to the day.charges so we need to impute the missing value with corresponding day.charges"
      ],
      "metadata": {
        "id": "EdYy9T5WdImJ"
      }
    },
    {
      "cell_type": "code",
      "source": [
        "print(df2[df2['eve.mins']=='Nan'])"
      ],
      "metadata": {
        "colab": {
          "base_uri": "https://localhost:8080/"
        },
        "id": "oq3qBC5zsB7u",
        "outputId": "0903f0c2-b05e-4cae-9c83-4cbcb94aea53"
      },
      "execution_count": 14,
      "outputs": [
        {
          "output_type": "stream",
          "name": "stdout",
          "text": [
            "      day.mins  day.calls day.charge eve.mins  eve.calls  eve.charge\n",
            "89       237.9        125      40.44      Nan         93       21.05\n",
            "102      151.7         82      25.79      Nan        105       10.12\n",
            "110      165.0        100      28.05      Nan         83       26.96\n",
            "159      142.1        124      24.16      Nan        129       15.59\n",
            "231      199.0        110      33.83      Nan        111       24.76\n",
            "254      143.7        117      24.43      Nan         82       23.21\n",
            "299      181.5         98      30.86      Nan         88       16.99\n",
            "345      260.2        131      44.23      Nan        120       15.23\n",
            "460      261.8        128      44.51      Nan        104       18.75\n",
            "557      194.5        110      33.07      Nan         89       18.16\n",
            "624      161.4        110      27.44      Nan        125       18.75\n",
            "684      100.1         90      17.02      Nan         93       19.83\n",
            "729      196.5         98      33.41      Nan        111       14.94\n",
            "750      154.0         80      26.18      Nan         91       15.77\n",
            "795      197.0         84      33.49      Nan        105       22.89\n",
            "892      166.9         85      28.37      Nan         92       18.80\n",
            "1012     104.9        111      17.83      Nan        120       16.87\n",
            "1099     276.2         95      46.95      Nan        119       14.09\n",
            "1219     178.6         83      30.36      Nan        103       18.11\n",
            "1417      83.2         74      14.14      Nan        104       16.20\n",
            "1483     234.1         91       39.8      Nan        105       13.86\n",
            "1625     224.7        121       38.2      Nan        131       24.99\n",
            "1699     221.1        133      37.59      Nan        140       13.62\n",
            "1778     117.6         82      19.99      Nan         60       13.53\n"
          ]
        }
      ]
    },
    {
      "cell_type": "code",
      "source": [
        "print(df2[df2['eve.charge']==21.05]) \n",
        "print(df2[df2['eve.charge']==10.12])\n",
        "print(df2[df2['eve.charge']==26.96])\n",
        "print(df2[df2['eve.charge']==15.59])\n",
        "print(df2[df2['eve.charge']==24.76])\n",
        "print(df2[df2['eve.charge']==23.21])\n",
        "print(df2[df2['eve.charge']==16.99])\n",
        "print(df2[df2['eve.charge']==15.23]) \n",
        "print(df2[df2['eve.charge']==18.75])"
      ],
      "metadata": {
        "colab": {
          "base_uri": "https://localhost:8080/"
        },
        "id": "ecjLzOlPw2ax",
        "outputId": "466d5993-c5e1-4ced-f113-973181be5c26"
      },
      "execution_count": 15,
      "outputs": [
        {
          "output_type": "stream",
          "name": "stdout",
          "text": [
            "      day.mins  day.calls day.charge eve.mins  eve.calls  eve.charge\n",
            "13       156.6         88      26.62    247.6         75       21.05\n",
            "89       237.9        125      40.44      Nan         93       21.05\n",
            "211      203.5        100       34.6    247.6        103       21.05\n",
            "296       85.7         83      14.57    247.7         67       21.05\n",
            "1655     127.1        102      21.61    247.7        106       21.05\n",
            "2430     128.1         99      21.78    247.7         78       21.05\n",
            "4359     157.2         81      26.72    247.7        131       21.05\n",
            "     day.mins  day.calls day.charge eve.mins  eve.calls  eve.charge\n",
            "102     151.7         82      25.79      Nan        105       10.12\n",
            "746     150.6         85       25.6      119        128       10.12\n",
            "     day.mins  day.calls day.charge eve.mins  eve.calls  eve.charge\n",
            "110     165.0        100      28.05      Nan         83       26.96\n",
            "      day.mins  day.calls day.charge eve.mins  eve.calls  eve.charge\n",
            "159      142.1        124      24.16      Nan        129       15.59\n",
            "1042      93.5        112       15.9    183.4        128       15.59\n",
            "2963     183.8        102      31.25    183.4        123       15.59\n",
            "3535     129.8         87      22.07    183.4        110       15.59\n",
            "     day.mins  day.calls day.charge eve.mins  eve.calls  eve.charge\n",
            "231     199.0        110      33.83      Nan        111       24.76\n",
            "      day.mins  day.calls day.charge eve.mins  eve.calls  eve.charge\n",
            "254      143.7        117      24.43      Nan         82       23.21\n",
            "1869     239.0        156      40.63      273        106       23.21\n",
            "2364     161.8         73      27.51      273         58       23.21\n",
            "3432     156.3        102      26.57    273.1        118       23.21\n",
            "      day.mins  day.calls day.charge eve.mins  eve.calls  eve.charge\n",
            "299      181.5         98      30.86      Nan         88       16.99\n",
            "687      187.4        101      31.86    199.9        126       16.99\n",
            "2730     192.3        137      32.69    199.9        115       16.99\n",
            "2897      80.3         94      13.65    199.9        124       16.99\n",
            "4662     180.3         84      30.65    199.9        129       16.99\n",
            "      day.mins  day.calls day.charge eve.mins  eve.calls  eve.charge\n",
            "345      260.2        131      44.23      Nan        120       15.23\n",
            "2503     183.2        131      31.14    179.2         73       15.23\n",
            "3513     120.1        103      20.42    179.2        132       15.23\n",
            "3568     192.9         60      32.79    179.2         87       15.23\n",
            "3895     189.0        122      32.13    179.2         91       15.23\n",
            "4181     264.5         75      44.97    179.2         91       15.23\n",
            "      day.mins  day.calls day.charge eve.mins  eve.calls  eve.charge\n",
            "5        223.4         98      37.98    220.6        101       18.75\n",
            "460      261.8        128      44.51      Nan        104       18.75\n",
            "624      161.4        110      27.44      Nan        125       18.75\n",
            "1359     217.8         91      37.03    220.6         97       18.75\n",
            "1385      81.3        116      13.82    220.6        124       18.75\n",
            "2208     161.3        122      27.42    220.6         95       18.75\n",
            "2524     235.2        121      39.98    220.6         87       18.75\n"
          ]
        }
      ]
    },
    {
      "cell_type": "markdown",
      "source": [
        "###Impute the missing value using Iterativeimputer"
      ],
      "metadata": {
        "id": "w4obKV7Xdi4o"
      }
    },
    {
      "cell_type": "code",
      "source": [
        "import numpy as np\n",
        "from sklearn.experimental import enable_iterative_imputer\n",
        "from sklearn.impute import IterativeImputer\n",
        "from sklearn.linear_model import LinearRegression\n",
        "\n",
        "linearreg = LinearRegression()\n",
        "imp = IterativeImputer(estimator=linearreg,missing_values=np.nan, max_iter=5, verbose=2, imputation_order='roman',random_state=0)\n",
        "ImputedData=imp.fit_transform(df2)"
      ],
      "metadata": {
        "colab": {
          "base_uri": "https://localhost:8080/"
        },
        "id": "DQeUfoKxpJs7",
        "outputId": "014c91a4-d49d-43a4-e787-1cba1f4bffc2"
      },
      "execution_count": 16,
      "outputs": [
        {
          "output_type": "stream",
          "name": "stdout",
          "text": [
            "[IterativeImputer] Completing matrix with shape (5000, 6)\n",
            "[IterativeImputer] Ending imputation round 1/5, elapsed time 0.02\n",
            "[IterativeImputer] Change: 116.59450867132466, scaled tolerance: 0.3637 \n",
            "[IterativeImputer] Ending imputation round 2/5, elapsed time 0.04\n",
            "[IterativeImputer] Change: 4.4405184883800075e-05, scaled tolerance: 0.3637 \n",
            "[IterativeImputer] Early stopping criterion reached.\n"
          ]
        }
      ]
    },
    {
      "cell_type": "code",
      "source": [
        "df3 = pd.DataFrame(ImputedData,columns=df2.columns)\n",
        "df3.head()"
      ],
      "metadata": {
        "colab": {
          "base_uri": "https://localhost:8080/",
          "height": 206
        },
        "id": "FcFSLz1qpcDz",
        "outputId": "5acf034c-04a8-44a0-fb27-b7533e6c6eea"
      },
      "execution_count": 17,
      "outputs": [
        {
          "output_type": "execute_result",
          "data": {
            "text/plain": [
              "   day.mins  day.calls  day.charge  eve.mins  eve.calls  eve.charge\n",
              "0     265.1      110.0       45.07     197.4       99.0       16.78\n",
              "1     161.6      123.0       27.47     195.5      103.0       16.62\n",
              "2     243.4      114.0       41.38     121.2      110.0       10.30\n",
              "3     299.4       71.0       50.90      61.9       88.0        5.26\n",
              "4     166.7      113.0       28.34     148.3      122.0       12.61"
            ],
            "text/html": [
              "\n",
              "  <div id=\"df-4a5695d4-7e96-4140-b95e-6f008a833486\">\n",
              "    <div class=\"colab-df-container\">\n",
              "      <div>\n",
              "<style scoped>\n",
              "    .dataframe tbody tr th:only-of-type {\n",
              "        vertical-align: middle;\n",
              "    }\n",
              "\n",
              "    .dataframe tbody tr th {\n",
              "        vertical-align: top;\n",
              "    }\n",
              "\n",
              "    .dataframe thead th {\n",
              "        text-align: right;\n",
              "    }\n",
              "</style>\n",
              "<table border=\"1\" class=\"dataframe\">\n",
              "  <thead>\n",
              "    <tr style=\"text-align: right;\">\n",
              "      <th></th>\n",
              "      <th>day.mins</th>\n",
              "      <th>day.calls</th>\n",
              "      <th>day.charge</th>\n",
              "      <th>eve.mins</th>\n",
              "      <th>eve.calls</th>\n",
              "      <th>eve.charge</th>\n",
              "    </tr>\n",
              "  </thead>\n",
              "  <tbody>\n",
              "    <tr>\n",
              "      <th>0</th>\n",
              "      <td>265.1</td>\n",
              "      <td>110.0</td>\n",
              "      <td>45.07</td>\n",
              "      <td>197.4</td>\n",
              "      <td>99.0</td>\n",
              "      <td>16.78</td>\n",
              "    </tr>\n",
              "    <tr>\n",
              "      <th>1</th>\n",
              "      <td>161.6</td>\n",
              "      <td>123.0</td>\n",
              "      <td>27.47</td>\n",
              "      <td>195.5</td>\n",
              "      <td>103.0</td>\n",
              "      <td>16.62</td>\n",
              "    </tr>\n",
              "    <tr>\n",
              "      <th>2</th>\n",
              "      <td>243.4</td>\n",
              "      <td>114.0</td>\n",
              "      <td>41.38</td>\n",
              "      <td>121.2</td>\n",
              "      <td>110.0</td>\n",
              "      <td>10.30</td>\n",
              "    </tr>\n",
              "    <tr>\n",
              "      <th>3</th>\n",
              "      <td>299.4</td>\n",
              "      <td>71.0</td>\n",
              "      <td>50.90</td>\n",
              "      <td>61.9</td>\n",
              "      <td>88.0</td>\n",
              "      <td>5.26</td>\n",
              "    </tr>\n",
              "    <tr>\n",
              "      <th>4</th>\n",
              "      <td>166.7</td>\n",
              "      <td>113.0</td>\n",
              "      <td>28.34</td>\n",
              "      <td>148.3</td>\n",
              "      <td>122.0</td>\n",
              "      <td>12.61</td>\n",
              "    </tr>\n",
              "  </tbody>\n",
              "</table>\n",
              "</div>\n",
              "      <button class=\"colab-df-convert\" onclick=\"convertToInteractive('df-4a5695d4-7e96-4140-b95e-6f008a833486')\"\n",
              "              title=\"Convert this dataframe to an interactive table.\"\n",
              "              style=\"display:none;\">\n",
              "        \n",
              "  <svg xmlns=\"http://www.w3.org/2000/svg\" height=\"24px\"viewBox=\"0 0 24 24\"\n",
              "       width=\"24px\">\n",
              "    <path d=\"M0 0h24v24H0V0z\" fill=\"none\"/>\n",
              "    <path d=\"M18.56 5.44l.94 2.06.94-2.06 2.06-.94-2.06-.94-.94-2.06-.94 2.06-2.06.94zm-11 1L8.5 8.5l.94-2.06 2.06-.94-2.06-.94L8.5 2.5l-.94 2.06-2.06.94zm10 10l.94 2.06.94-2.06 2.06-.94-2.06-.94-.94-2.06-.94 2.06-2.06.94z\"/><path d=\"M17.41 7.96l-1.37-1.37c-.4-.4-.92-.59-1.43-.59-.52 0-1.04.2-1.43.59L10.3 9.45l-7.72 7.72c-.78.78-.78 2.05 0 2.83L4 21.41c.39.39.9.59 1.41.59.51 0 1.02-.2 1.41-.59l7.78-7.78 2.81-2.81c.8-.78.8-2.07 0-2.86zM5.41 20L4 18.59l7.72-7.72 1.47 1.35L5.41 20z\"/>\n",
              "  </svg>\n",
              "      </button>\n",
              "      \n",
              "  <style>\n",
              "    .colab-df-container {\n",
              "      display:flex;\n",
              "      flex-wrap:wrap;\n",
              "      gap: 12px;\n",
              "    }\n",
              "\n",
              "    .colab-df-convert {\n",
              "      background-color: #E8F0FE;\n",
              "      border: none;\n",
              "      border-radius: 50%;\n",
              "      cursor: pointer;\n",
              "      display: none;\n",
              "      fill: #1967D2;\n",
              "      height: 32px;\n",
              "      padding: 0 0 0 0;\n",
              "      width: 32px;\n",
              "    }\n",
              "\n",
              "    .colab-df-convert:hover {\n",
              "      background-color: #E2EBFA;\n",
              "      box-shadow: 0px 1px 2px rgba(60, 64, 67, 0.3), 0px 1px 3px 1px rgba(60, 64, 67, 0.15);\n",
              "      fill: #174EA6;\n",
              "    }\n",
              "\n",
              "    [theme=dark] .colab-df-convert {\n",
              "      background-color: #3B4455;\n",
              "      fill: #D2E3FC;\n",
              "    }\n",
              "\n",
              "    [theme=dark] .colab-df-convert:hover {\n",
              "      background-color: #434B5C;\n",
              "      box-shadow: 0px 1px 3px 1px rgba(0, 0, 0, 0.15);\n",
              "      filter: drop-shadow(0px 1px 2px rgba(0, 0, 0, 0.3));\n",
              "      fill: #FFFFFF;\n",
              "    }\n",
              "  </style>\n",
              "\n",
              "      <script>\n",
              "        const buttonEl =\n",
              "          document.querySelector('#df-4a5695d4-7e96-4140-b95e-6f008a833486 button.colab-df-convert');\n",
              "        buttonEl.style.display =\n",
              "          google.colab.kernel.accessAllowed ? 'block' : 'none';\n",
              "\n",
              "        async function convertToInteractive(key) {\n",
              "          const element = document.querySelector('#df-4a5695d4-7e96-4140-b95e-6f008a833486');\n",
              "          const dataTable =\n",
              "            await google.colab.kernel.invokeFunction('convertToInteractive',\n",
              "                                                     [key], {});\n",
              "          if (!dataTable) return;\n",
              "\n",
              "          const docLinkHtml = 'Like what you see? Visit the ' +\n",
              "            '<a target=\"_blank\" href=https://colab.research.google.com/notebooks/data_table.ipynb>data table notebook</a>'\n",
              "            + ' to learn more about interactive tables.';\n",
              "          element.innerHTML = '';\n",
              "          dataTable['output_type'] = 'display_data';\n",
              "          await google.colab.output.renderOutput(dataTable, element);\n",
              "          const docLink = document.createElement('div');\n",
              "          docLink.innerHTML = docLinkHtml;\n",
              "          element.appendChild(docLink);\n",
              "        }\n",
              "      </script>\n",
              "    </div>\n",
              "  </div>\n",
              "  "
            ]
          },
          "metadata": {},
          "execution_count": 17
        }
      ]
    },
    {
      "cell_type": "markdown",
      "source": [
        "Varify the even.charges imputing correctly or not"
      ],
      "metadata": {
        "id": "pEUvCI6vd1MK"
      }
    },
    {
      "cell_type": "code",
      "source": [
        "print(df2[df2['eve.charge']==21.05]) \n",
        "print(df2[df2['eve.charge']==10.12])\n",
        "print(df2[df2['eve.charge']==26.96])\n",
        "print(df2[df2['eve.charge']==15.59])"
      ],
      "metadata": {
        "colab": {
          "base_uri": "https://localhost:8080/"
        },
        "id": "YekjWJV9pw6N",
        "outputId": "9333f9a0-5845-4224-c722-68b994e8f1b2"
      },
      "execution_count": 18,
      "outputs": [
        {
          "output_type": "stream",
          "name": "stdout",
          "text": [
            "      day.mins  day.calls day.charge eve.mins  eve.calls  eve.charge\n",
            "13       156.6         88      26.62    247.6         75       21.05\n",
            "89       237.9        125      40.44      Nan         93       21.05\n",
            "211      203.5        100       34.6    247.6        103       21.05\n",
            "296       85.7         83      14.57    247.7         67       21.05\n",
            "1655     127.1        102      21.61    247.7        106       21.05\n",
            "2430     128.1         99      21.78    247.7         78       21.05\n",
            "4359     157.2         81      26.72    247.7        131       21.05\n",
            "     day.mins  day.calls day.charge eve.mins  eve.calls  eve.charge\n",
            "102     151.7         82      25.79      Nan        105       10.12\n",
            "746     150.6         85       25.6      119        128       10.12\n",
            "     day.mins  day.calls day.charge eve.mins  eve.calls  eve.charge\n",
            "110     165.0        100      28.05      Nan         83       26.96\n",
            "      day.mins  day.calls day.charge eve.mins  eve.calls  eve.charge\n",
            "159      142.1        124      24.16      Nan        129       15.59\n",
            "1042      93.5        112       15.9    183.4        128       15.59\n",
            "2963     183.8        102      31.25    183.4        123       15.59\n",
            "3535     129.8         87      22.07    183.4        110       15.59\n"
          ]
        }
      ]
    },
    {
      "cell_type": "code",
      "source": [
        "print(df3[df3['eve.charge']==21.05]) \n",
        "print(df3[df3['eve.charge']==10.12])\n",
        "print(df3[df3['eve.charge']==26.96])\n",
        "print(df3[df3['eve.charge']==15.59])\n"
      ],
      "metadata": {
        "colab": {
          "base_uri": "https://localhost:8080/"
        },
        "id": "qpgdjsaUpJxR",
        "outputId": "2510d735-ca91-47d1-e218-fd40f94810a3"
      },
      "execution_count": 19,
      "outputs": [
        {
          "output_type": "stream",
          "name": "stdout",
          "text": [
            "      day.mins  day.calls  day.charge    eve.mins  eve.calls  eve.charge\n",
            "13       156.6       88.0       26.62  247.600000       75.0       21.05\n",
            "89       237.9      125.0       40.44  247.644844       93.0       21.05\n",
            "211      203.5      100.0       34.60  247.600000      103.0       21.05\n",
            "296       85.7       83.0       14.57  247.700000       67.0       21.05\n",
            "1655     127.1      102.0       21.61  247.700000      106.0       21.05\n",
            "2430     128.1       99.0       21.78  247.700000       78.0       21.05\n",
            "4359     157.2       81.0       26.72  247.700000      131.0       21.05\n",
            "     day.mins  day.calls  day.charge    eve.mins  eve.calls  eve.charge\n",
            "102     151.7       82.0       25.79  119.055716      105.0       10.12\n",
            "746     150.6       85.0       25.60  119.000000      128.0       10.12\n",
            "     day.mins  day.calls  day.charge    eve.mins  eve.calls  eve.charge\n",
            "110     165.0      100.0       28.05  317.174834       83.0       26.96\n",
            "      day.mins  day.calls  day.charge    eve.mins  eve.calls  eve.charge\n",
            "159      142.1      124.0       24.16  183.407707      129.0       15.59\n",
            "1042      93.5      112.0       15.90  183.400000      128.0       15.59\n",
            "2963     183.8      102.0       31.25  183.400000      123.0       15.59\n",
            "3535     129.8       87.0       22.07  183.400000      110.0       15.59\n"
          ]
        }
      ]
    },
    {
      "cell_type": "code",
      "source": [
        "df3.head()"
      ],
      "metadata": {
        "colab": {
          "base_uri": "https://localhost:8080/",
          "height": 206
        },
        "id": "-4PnCOKTeaGS",
        "outputId": "0d7e9588-91f8-4086-b594-200049d6b1f3"
      },
      "execution_count": 20,
      "outputs": [
        {
          "output_type": "execute_result",
          "data": {
            "text/plain": [
              "   day.mins  day.calls  day.charge  eve.mins  eve.calls  eve.charge\n",
              "0     265.1      110.0       45.07     197.4       99.0       16.78\n",
              "1     161.6      123.0       27.47     195.5      103.0       16.62\n",
              "2     243.4      114.0       41.38     121.2      110.0       10.30\n",
              "3     299.4       71.0       50.90      61.9       88.0        5.26\n",
              "4     166.7      113.0       28.34     148.3      122.0       12.61"
            ],
            "text/html": [
              "\n",
              "  <div id=\"df-a474c755-2b89-41d6-925b-ac4ef1ba1964\">\n",
              "    <div class=\"colab-df-container\">\n",
              "      <div>\n",
              "<style scoped>\n",
              "    .dataframe tbody tr th:only-of-type {\n",
              "        vertical-align: middle;\n",
              "    }\n",
              "\n",
              "    .dataframe tbody tr th {\n",
              "        vertical-align: top;\n",
              "    }\n",
              "\n",
              "    .dataframe thead th {\n",
              "        text-align: right;\n",
              "    }\n",
              "</style>\n",
              "<table border=\"1\" class=\"dataframe\">\n",
              "  <thead>\n",
              "    <tr style=\"text-align: right;\">\n",
              "      <th></th>\n",
              "      <th>day.mins</th>\n",
              "      <th>day.calls</th>\n",
              "      <th>day.charge</th>\n",
              "      <th>eve.mins</th>\n",
              "      <th>eve.calls</th>\n",
              "      <th>eve.charge</th>\n",
              "    </tr>\n",
              "  </thead>\n",
              "  <tbody>\n",
              "    <tr>\n",
              "      <th>0</th>\n",
              "      <td>265.1</td>\n",
              "      <td>110.0</td>\n",
              "      <td>45.07</td>\n",
              "      <td>197.4</td>\n",
              "      <td>99.0</td>\n",
              "      <td>16.78</td>\n",
              "    </tr>\n",
              "    <tr>\n",
              "      <th>1</th>\n",
              "      <td>161.6</td>\n",
              "      <td>123.0</td>\n",
              "      <td>27.47</td>\n",
              "      <td>195.5</td>\n",
              "      <td>103.0</td>\n",
              "      <td>16.62</td>\n",
              "    </tr>\n",
              "    <tr>\n",
              "      <th>2</th>\n",
              "      <td>243.4</td>\n",
              "      <td>114.0</td>\n",
              "      <td>41.38</td>\n",
              "      <td>121.2</td>\n",
              "      <td>110.0</td>\n",
              "      <td>10.30</td>\n",
              "    </tr>\n",
              "    <tr>\n",
              "      <th>3</th>\n",
              "      <td>299.4</td>\n",
              "      <td>71.0</td>\n",
              "      <td>50.90</td>\n",
              "      <td>61.9</td>\n",
              "      <td>88.0</td>\n",
              "      <td>5.26</td>\n",
              "    </tr>\n",
              "    <tr>\n",
              "      <th>4</th>\n",
              "      <td>166.7</td>\n",
              "      <td>113.0</td>\n",
              "      <td>28.34</td>\n",
              "      <td>148.3</td>\n",
              "      <td>122.0</td>\n",
              "      <td>12.61</td>\n",
              "    </tr>\n",
              "  </tbody>\n",
              "</table>\n",
              "</div>\n",
              "      <button class=\"colab-df-convert\" onclick=\"convertToInteractive('df-a474c755-2b89-41d6-925b-ac4ef1ba1964')\"\n",
              "              title=\"Convert this dataframe to an interactive table.\"\n",
              "              style=\"display:none;\">\n",
              "        \n",
              "  <svg xmlns=\"http://www.w3.org/2000/svg\" height=\"24px\"viewBox=\"0 0 24 24\"\n",
              "       width=\"24px\">\n",
              "    <path d=\"M0 0h24v24H0V0z\" fill=\"none\"/>\n",
              "    <path d=\"M18.56 5.44l.94 2.06.94-2.06 2.06-.94-2.06-.94-.94-2.06-.94 2.06-2.06.94zm-11 1L8.5 8.5l.94-2.06 2.06-.94-2.06-.94L8.5 2.5l-.94 2.06-2.06.94zm10 10l.94 2.06.94-2.06 2.06-.94-2.06-.94-.94-2.06-.94 2.06-2.06.94z\"/><path d=\"M17.41 7.96l-1.37-1.37c-.4-.4-.92-.59-1.43-.59-.52 0-1.04.2-1.43.59L10.3 9.45l-7.72 7.72c-.78.78-.78 2.05 0 2.83L4 21.41c.39.39.9.59 1.41.59.51 0 1.02-.2 1.41-.59l7.78-7.78 2.81-2.81c.8-.78.8-2.07 0-2.86zM5.41 20L4 18.59l7.72-7.72 1.47 1.35L5.41 20z\"/>\n",
              "  </svg>\n",
              "      </button>\n",
              "      \n",
              "  <style>\n",
              "    .colab-df-container {\n",
              "      display:flex;\n",
              "      flex-wrap:wrap;\n",
              "      gap: 12px;\n",
              "    }\n",
              "\n",
              "    .colab-df-convert {\n",
              "      background-color: #E8F0FE;\n",
              "      border: none;\n",
              "      border-radius: 50%;\n",
              "      cursor: pointer;\n",
              "      display: none;\n",
              "      fill: #1967D2;\n",
              "      height: 32px;\n",
              "      padding: 0 0 0 0;\n",
              "      width: 32px;\n",
              "    }\n",
              "\n",
              "    .colab-df-convert:hover {\n",
              "      background-color: #E2EBFA;\n",
              "      box-shadow: 0px 1px 2px rgba(60, 64, 67, 0.3), 0px 1px 3px 1px rgba(60, 64, 67, 0.15);\n",
              "      fill: #174EA6;\n",
              "    }\n",
              "\n",
              "    [theme=dark] .colab-df-convert {\n",
              "      background-color: #3B4455;\n",
              "      fill: #D2E3FC;\n",
              "    }\n",
              "\n",
              "    [theme=dark] .colab-df-convert:hover {\n",
              "      background-color: #434B5C;\n",
              "      box-shadow: 0px 1px 3px 1px rgba(0, 0, 0, 0.15);\n",
              "      filter: drop-shadow(0px 1px 2px rgba(0, 0, 0, 0.3));\n",
              "      fill: #FFFFFF;\n",
              "    }\n",
              "  </style>\n",
              "\n",
              "      <script>\n",
              "        const buttonEl =\n",
              "          document.querySelector('#df-a474c755-2b89-41d6-925b-ac4ef1ba1964 button.colab-df-convert');\n",
              "        buttonEl.style.display =\n",
              "          google.colab.kernel.accessAllowed ? 'block' : 'none';\n",
              "\n",
              "        async function convertToInteractive(key) {\n",
              "          const element = document.querySelector('#df-a474c755-2b89-41d6-925b-ac4ef1ba1964');\n",
              "          const dataTable =\n",
              "            await google.colab.kernel.invokeFunction('convertToInteractive',\n",
              "                                                     [key], {});\n",
              "          if (!dataTable) return;\n",
              "\n",
              "          const docLinkHtml = 'Like what you see? Visit the ' +\n",
              "            '<a target=\"_blank\" href=https://colab.research.google.com/notebooks/data_table.ipynb>data table notebook</a>'\n",
              "            + ' to learn more about interactive tables.';\n",
              "          element.innerHTML = '';\n",
              "          dataTable['output_type'] = 'display_data';\n",
              "          await google.colab.output.renderOutput(dataTable, element);\n",
              "          const docLink = document.createElement('div');\n",
              "          docLink.innerHTML = docLinkHtml;\n",
              "          element.appendChild(docLink);\n",
              "        }\n",
              "      </script>\n",
              "    </div>\n",
              "  </div>\n",
              "  "
            ]
          },
          "metadata": {},
          "execution_count": 20
        }
      ]
    },
    {
      "cell_type": "code",
      "source": [
        "df.drop(['day.mins','day.calls','day.charge','eve.mins','eve.calls','eve.charge'],axis=1, inplace=True)"
      ],
      "metadata": {
        "id": "7wqwKzu4qu1-"
      },
      "execution_count": 21,
      "outputs": []
    },
    {
      "cell_type": "code",
      "source": [
        "df.head()"
      ],
      "metadata": {
        "colab": {
          "base_uri": "https://localhost:8080/",
          "height": 287
        },
        "id": "bPSqn8CHe2wL",
        "outputId": "39b0578e-15c8-43f7-f3e7-e9f8d31816d1"
      },
      "execution_count": 22,
      "outputs": [
        {
          "output_type": "execute_result",
          "data": {
            "text/plain": [
              "   Unnamed: 0 state      area.code  account.length voice.plan  voice.messages  \\\n",
              "0           1    KS  area_code_415             128        yes              25   \n",
              "1           2    OH  area_code_415             107        yes              26   \n",
              "2           3    NJ  area_code_415             137         no               0   \n",
              "3           4    OH  area_code_408              84         no               0   \n",
              "4           5    OK  area_code_415              75         no               0   \n",
              "\n",
              "  intl.plan  intl.mins  intl.calls  intl.charge  night.mins  night.calls  \\\n",
              "0        no       10.0           3         2.70       244.7           91   \n",
              "1        no       13.7           3         3.70       254.4          103   \n",
              "2        no       12.2           5         3.29       162.6          104   \n",
              "3       yes        6.6           7         1.78       196.9           89   \n",
              "4       yes       10.1           3         2.73       186.9          121   \n",
              "\n",
              "   night.charge  customer.calls churn  \n",
              "0         11.01               1    no  \n",
              "1         11.45               1    no  \n",
              "2          7.32               0    no  \n",
              "3          8.86               2    no  \n",
              "4          8.41               3    no  "
            ],
            "text/html": [
              "\n",
              "  <div id=\"df-b4dd77e4-13cf-4c24-b947-1d8dd4a263bd\">\n",
              "    <div class=\"colab-df-container\">\n",
              "      <div>\n",
              "<style scoped>\n",
              "    .dataframe tbody tr th:only-of-type {\n",
              "        vertical-align: middle;\n",
              "    }\n",
              "\n",
              "    .dataframe tbody tr th {\n",
              "        vertical-align: top;\n",
              "    }\n",
              "\n",
              "    .dataframe thead th {\n",
              "        text-align: right;\n",
              "    }\n",
              "</style>\n",
              "<table border=\"1\" class=\"dataframe\">\n",
              "  <thead>\n",
              "    <tr style=\"text-align: right;\">\n",
              "      <th></th>\n",
              "      <th>Unnamed: 0</th>\n",
              "      <th>state</th>\n",
              "      <th>area.code</th>\n",
              "      <th>account.length</th>\n",
              "      <th>voice.plan</th>\n",
              "      <th>voice.messages</th>\n",
              "      <th>intl.plan</th>\n",
              "      <th>intl.mins</th>\n",
              "      <th>intl.calls</th>\n",
              "      <th>intl.charge</th>\n",
              "      <th>night.mins</th>\n",
              "      <th>night.calls</th>\n",
              "      <th>night.charge</th>\n",
              "      <th>customer.calls</th>\n",
              "      <th>churn</th>\n",
              "    </tr>\n",
              "  </thead>\n",
              "  <tbody>\n",
              "    <tr>\n",
              "      <th>0</th>\n",
              "      <td>1</td>\n",
              "      <td>KS</td>\n",
              "      <td>area_code_415</td>\n",
              "      <td>128</td>\n",
              "      <td>yes</td>\n",
              "      <td>25</td>\n",
              "      <td>no</td>\n",
              "      <td>10.0</td>\n",
              "      <td>3</td>\n",
              "      <td>2.70</td>\n",
              "      <td>244.7</td>\n",
              "      <td>91</td>\n",
              "      <td>11.01</td>\n",
              "      <td>1</td>\n",
              "      <td>no</td>\n",
              "    </tr>\n",
              "    <tr>\n",
              "      <th>1</th>\n",
              "      <td>2</td>\n",
              "      <td>OH</td>\n",
              "      <td>area_code_415</td>\n",
              "      <td>107</td>\n",
              "      <td>yes</td>\n",
              "      <td>26</td>\n",
              "      <td>no</td>\n",
              "      <td>13.7</td>\n",
              "      <td>3</td>\n",
              "      <td>3.70</td>\n",
              "      <td>254.4</td>\n",
              "      <td>103</td>\n",
              "      <td>11.45</td>\n",
              "      <td>1</td>\n",
              "      <td>no</td>\n",
              "    </tr>\n",
              "    <tr>\n",
              "      <th>2</th>\n",
              "      <td>3</td>\n",
              "      <td>NJ</td>\n",
              "      <td>area_code_415</td>\n",
              "      <td>137</td>\n",
              "      <td>no</td>\n",
              "      <td>0</td>\n",
              "      <td>no</td>\n",
              "      <td>12.2</td>\n",
              "      <td>5</td>\n",
              "      <td>3.29</td>\n",
              "      <td>162.6</td>\n",
              "      <td>104</td>\n",
              "      <td>7.32</td>\n",
              "      <td>0</td>\n",
              "      <td>no</td>\n",
              "    </tr>\n",
              "    <tr>\n",
              "      <th>3</th>\n",
              "      <td>4</td>\n",
              "      <td>OH</td>\n",
              "      <td>area_code_408</td>\n",
              "      <td>84</td>\n",
              "      <td>no</td>\n",
              "      <td>0</td>\n",
              "      <td>yes</td>\n",
              "      <td>6.6</td>\n",
              "      <td>7</td>\n",
              "      <td>1.78</td>\n",
              "      <td>196.9</td>\n",
              "      <td>89</td>\n",
              "      <td>8.86</td>\n",
              "      <td>2</td>\n",
              "      <td>no</td>\n",
              "    </tr>\n",
              "    <tr>\n",
              "      <th>4</th>\n",
              "      <td>5</td>\n",
              "      <td>OK</td>\n",
              "      <td>area_code_415</td>\n",
              "      <td>75</td>\n",
              "      <td>no</td>\n",
              "      <td>0</td>\n",
              "      <td>yes</td>\n",
              "      <td>10.1</td>\n",
              "      <td>3</td>\n",
              "      <td>2.73</td>\n",
              "      <td>186.9</td>\n",
              "      <td>121</td>\n",
              "      <td>8.41</td>\n",
              "      <td>3</td>\n",
              "      <td>no</td>\n",
              "    </tr>\n",
              "  </tbody>\n",
              "</table>\n",
              "</div>\n",
              "      <button class=\"colab-df-convert\" onclick=\"convertToInteractive('df-b4dd77e4-13cf-4c24-b947-1d8dd4a263bd')\"\n",
              "              title=\"Convert this dataframe to an interactive table.\"\n",
              "              style=\"display:none;\">\n",
              "        \n",
              "  <svg xmlns=\"http://www.w3.org/2000/svg\" height=\"24px\"viewBox=\"0 0 24 24\"\n",
              "       width=\"24px\">\n",
              "    <path d=\"M0 0h24v24H0V0z\" fill=\"none\"/>\n",
              "    <path d=\"M18.56 5.44l.94 2.06.94-2.06 2.06-.94-2.06-.94-.94-2.06-.94 2.06-2.06.94zm-11 1L8.5 8.5l.94-2.06 2.06-.94-2.06-.94L8.5 2.5l-.94 2.06-2.06.94zm10 10l.94 2.06.94-2.06 2.06-.94-2.06-.94-.94-2.06-.94 2.06-2.06.94z\"/><path d=\"M17.41 7.96l-1.37-1.37c-.4-.4-.92-.59-1.43-.59-.52 0-1.04.2-1.43.59L10.3 9.45l-7.72 7.72c-.78.78-.78 2.05 0 2.83L4 21.41c.39.39.9.59 1.41.59.51 0 1.02-.2 1.41-.59l7.78-7.78 2.81-2.81c.8-.78.8-2.07 0-2.86zM5.41 20L4 18.59l7.72-7.72 1.47 1.35L5.41 20z\"/>\n",
              "  </svg>\n",
              "      </button>\n",
              "      \n",
              "  <style>\n",
              "    .colab-df-container {\n",
              "      display:flex;\n",
              "      flex-wrap:wrap;\n",
              "      gap: 12px;\n",
              "    }\n",
              "\n",
              "    .colab-df-convert {\n",
              "      background-color: #E8F0FE;\n",
              "      border: none;\n",
              "      border-radius: 50%;\n",
              "      cursor: pointer;\n",
              "      display: none;\n",
              "      fill: #1967D2;\n",
              "      height: 32px;\n",
              "      padding: 0 0 0 0;\n",
              "      width: 32px;\n",
              "    }\n",
              "\n",
              "    .colab-df-convert:hover {\n",
              "      background-color: #E2EBFA;\n",
              "      box-shadow: 0px 1px 2px rgba(60, 64, 67, 0.3), 0px 1px 3px 1px rgba(60, 64, 67, 0.15);\n",
              "      fill: #174EA6;\n",
              "    }\n",
              "\n",
              "    [theme=dark] .colab-df-convert {\n",
              "      background-color: #3B4455;\n",
              "      fill: #D2E3FC;\n",
              "    }\n",
              "\n",
              "    [theme=dark] .colab-df-convert:hover {\n",
              "      background-color: #434B5C;\n",
              "      box-shadow: 0px 1px 3px 1px rgba(0, 0, 0, 0.15);\n",
              "      filter: drop-shadow(0px 1px 2px rgba(0, 0, 0, 0.3));\n",
              "      fill: #FFFFFF;\n",
              "    }\n",
              "  </style>\n",
              "\n",
              "      <script>\n",
              "        const buttonEl =\n",
              "          document.querySelector('#df-b4dd77e4-13cf-4c24-b947-1d8dd4a263bd button.colab-df-convert');\n",
              "        buttonEl.style.display =\n",
              "          google.colab.kernel.accessAllowed ? 'block' : 'none';\n",
              "\n",
              "        async function convertToInteractive(key) {\n",
              "          const element = document.querySelector('#df-b4dd77e4-13cf-4c24-b947-1d8dd4a263bd');\n",
              "          const dataTable =\n",
              "            await google.colab.kernel.invokeFunction('convertToInteractive',\n",
              "                                                     [key], {});\n",
              "          if (!dataTable) return;\n",
              "\n",
              "          const docLinkHtml = 'Like what you see? Visit the ' +\n",
              "            '<a target=\"_blank\" href=https://colab.research.google.com/notebooks/data_table.ipynb>data table notebook</a>'\n",
              "            + ' to learn more about interactive tables.';\n",
              "          element.innerHTML = '';\n",
              "          dataTable['output_type'] = 'display_data';\n",
              "          await google.colab.output.renderOutput(dataTable, element);\n",
              "          const docLink = document.createElement('div');\n",
              "          docLink.innerHTML = docLinkHtml;\n",
              "          element.appendChild(docLink);\n",
              "        }\n",
              "      </script>\n",
              "    </div>\n",
              "  </div>\n",
              "  "
            ]
          },
          "metadata": {},
          "execution_count": 22
        }
      ]
    },
    {
      "cell_type": "code",
      "source": [
        "data = pd.concat([df,df3],axis=1, join='inner')"
      ],
      "metadata": {
        "id": "HDg03kRoru4g"
      },
      "execution_count": 23,
      "outputs": []
    },
    {
      "cell_type": "code",
      "source": [
        "data.head(5)"
      ],
      "metadata": {
        "colab": {
          "base_uri": "https://localhost:8080/",
          "height": 317
        },
        "id": "KM14BGsevcW_",
        "outputId": "2384905a-3459-4c93-f07e-f9e4bbc5f8cf"
      },
      "execution_count": 24,
      "outputs": [
        {
          "output_type": "execute_result",
          "data": {
            "text/plain": [
              "   Unnamed: 0 state      area.code  account.length voice.plan  voice.messages  \\\n",
              "0           1    KS  area_code_415             128        yes              25   \n",
              "1           2    OH  area_code_415             107        yes              26   \n",
              "2           3    NJ  area_code_415             137         no               0   \n",
              "3           4    OH  area_code_408              84         no               0   \n",
              "4           5    OK  area_code_415              75         no               0   \n",
              "\n",
              "  intl.plan  intl.mins  intl.calls  intl.charge  ...  night.calls  \\\n",
              "0        no       10.0           3         2.70  ...           91   \n",
              "1        no       13.7           3         3.70  ...          103   \n",
              "2        no       12.2           5         3.29  ...          104   \n",
              "3       yes        6.6           7         1.78  ...           89   \n",
              "4       yes       10.1           3         2.73  ...          121   \n",
              "\n",
              "   night.charge  customer.calls  churn day.mins  day.calls  day.charge  \\\n",
              "0         11.01               1     no    265.1      110.0       45.07   \n",
              "1         11.45               1     no    161.6      123.0       27.47   \n",
              "2          7.32               0     no    243.4      114.0       41.38   \n",
              "3          8.86               2     no    299.4       71.0       50.90   \n",
              "4          8.41               3     no    166.7      113.0       28.34   \n",
              "\n",
              "   eve.mins  eve.calls  eve.charge  \n",
              "0     197.4       99.0       16.78  \n",
              "1     195.5      103.0       16.62  \n",
              "2     121.2      110.0       10.30  \n",
              "3      61.9       88.0        5.26  \n",
              "4     148.3      122.0       12.61  \n",
              "\n",
              "[5 rows x 21 columns]"
            ],
            "text/html": [
              "\n",
              "  <div id=\"df-8bb27692-8c20-4584-9115-4baf1ca523ef\">\n",
              "    <div class=\"colab-df-container\">\n",
              "      <div>\n",
              "<style scoped>\n",
              "    .dataframe tbody tr th:only-of-type {\n",
              "        vertical-align: middle;\n",
              "    }\n",
              "\n",
              "    .dataframe tbody tr th {\n",
              "        vertical-align: top;\n",
              "    }\n",
              "\n",
              "    .dataframe thead th {\n",
              "        text-align: right;\n",
              "    }\n",
              "</style>\n",
              "<table border=\"1\" class=\"dataframe\">\n",
              "  <thead>\n",
              "    <tr style=\"text-align: right;\">\n",
              "      <th></th>\n",
              "      <th>Unnamed: 0</th>\n",
              "      <th>state</th>\n",
              "      <th>area.code</th>\n",
              "      <th>account.length</th>\n",
              "      <th>voice.plan</th>\n",
              "      <th>voice.messages</th>\n",
              "      <th>intl.plan</th>\n",
              "      <th>intl.mins</th>\n",
              "      <th>intl.calls</th>\n",
              "      <th>intl.charge</th>\n",
              "      <th>...</th>\n",
              "      <th>night.calls</th>\n",
              "      <th>night.charge</th>\n",
              "      <th>customer.calls</th>\n",
              "      <th>churn</th>\n",
              "      <th>day.mins</th>\n",
              "      <th>day.calls</th>\n",
              "      <th>day.charge</th>\n",
              "      <th>eve.mins</th>\n",
              "      <th>eve.calls</th>\n",
              "      <th>eve.charge</th>\n",
              "    </tr>\n",
              "  </thead>\n",
              "  <tbody>\n",
              "    <tr>\n",
              "      <th>0</th>\n",
              "      <td>1</td>\n",
              "      <td>KS</td>\n",
              "      <td>area_code_415</td>\n",
              "      <td>128</td>\n",
              "      <td>yes</td>\n",
              "      <td>25</td>\n",
              "      <td>no</td>\n",
              "      <td>10.0</td>\n",
              "      <td>3</td>\n",
              "      <td>2.70</td>\n",
              "      <td>...</td>\n",
              "      <td>91</td>\n",
              "      <td>11.01</td>\n",
              "      <td>1</td>\n",
              "      <td>no</td>\n",
              "      <td>265.1</td>\n",
              "      <td>110.0</td>\n",
              "      <td>45.07</td>\n",
              "      <td>197.4</td>\n",
              "      <td>99.0</td>\n",
              "      <td>16.78</td>\n",
              "    </tr>\n",
              "    <tr>\n",
              "      <th>1</th>\n",
              "      <td>2</td>\n",
              "      <td>OH</td>\n",
              "      <td>area_code_415</td>\n",
              "      <td>107</td>\n",
              "      <td>yes</td>\n",
              "      <td>26</td>\n",
              "      <td>no</td>\n",
              "      <td>13.7</td>\n",
              "      <td>3</td>\n",
              "      <td>3.70</td>\n",
              "      <td>...</td>\n",
              "      <td>103</td>\n",
              "      <td>11.45</td>\n",
              "      <td>1</td>\n",
              "      <td>no</td>\n",
              "      <td>161.6</td>\n",
              "      <td>123.0</td>\n",
              "      <td>27.47</td>\n",
              "      <td>195.5</td>\n",
              "      <td>103.0</td>\n",
              "      <td>16.62</td>\n",
              "    </tr>\n",
              "    <tr>\n",
              "      <th>2</th>\n",
              "      <td>3</td>\n",
              "      <td>NJ</td>\n",
              "      <td>area_code_415</td>\n",
              "      <td>137</td>\n",
              "      <td>no</td>\n",
              "      <td>0</td>\n",
              "      <td>no</td>\n",
              "      <td>12.2</td>\n",
              "      <td>5</td>\n",
              "      <td>3.29</td>\n",
              "      <td>...</td>\n",
              "      <td>104</td>\n",
              "      <td>7.32</td>\n",
              "      <td>0</td>\n",
              "      <td>no</td>\n",
              "      <td>243.4</td>\n",
              "      <td>114.0</td>\n",
              "      <td>41.38</td>\n",
              "      <td>121.2</td>\n",
              "      <td>110.0</td>\n",
              "      <td>10.30</td>\n",
              "    </tr>\n",
              "    <tr>\n",
              "      <th>3</th>\n",
              "      <td>4</td>\n",
              "      <td>OH</td>\n",
              "      <td>area_code_408</td>\n",
              "      <td>84</td>\n",
              "      <td>no</td>\n",
              "      <td>0</td>\n",
              "      <td>yes</td>\n",
              "      <td>6.6</td>\n",
              "      <td>7</td>\n",
              "      <td>1.78</td>\n",
              "      <td>...</td>\n",
              "      <td>89</td>\n",
              "      <td>8.86</td>\n",
              "      <td>2</td>\n",
              "      <td>no</td>\n",
              "      <td>299.4</td>\n",
              "      <td>71.0</td>\n",
              "      <td>50.90</td>\n",
              "      <td>61.9</td>\n",
              "      <td>88.0</td>\n",
              "      <td>5.26</td>\n",
              "    </tr>\n",
              "    <tr>\n",
              "      <th>4</th>\n",
              "      <td>5</td>\n",
              "      <td>OK</td>\n",
              "      <td>area_code_415</td>\n",
              "      <td>75</td>\n",
              "      <td>no</td>\n",
              "      <td>0</td>\n",
              "      <td>yes</td>\n",
              "      <td>10.1</td>\n",
              "      <td>3</td>\n",
              "      <td>2.73</td>\n",
              "      <td>...</td>\n",
              "      <td>121</td>\n",
              "      <td>8.41</td>\n",
              "      <td>3</td>\n",
              "      <td>no</td>\n",
              "      <td>166.7</td>\n",
              "      <td>113.0</td>\n",
              "      <td>28.34</td>\n",
              "      <td>148.3</td>\n",
              "      <td>122.0</td>\n",
              "      <td>12.61</td>\n",
              "    </tr>\n",
              "  </tbody>\n",
              "</table>\n",
              "<p>5 rows × 21 columns</p>\n",
              "</div>\n",
              "      <button class=\"colab-df-convert\" onclick=\"convertToInteractive('df-8bb27692-8c20-4584-9115-4baf1ca523ef')\"\n",
              "              title=\"Convert this dataframe to an interactive table.\"\n",
              "              style=\"display:none;\">\n",
              "        \n",
              "  <svg xmlns=\"http://www.w3.org/2000/svg\" height=\"24px\"viewBox=\"0 0 24 24\"\n",
              "       width=\"24px\">\n",
              "    <path d=\"M0 0h24v24H0V0z\" fill=\"none\"/>\n",
              "    <path d=\"M18.56 5.44l.94 2.06.94-2.06 2.06-.94-2.06-.94-.94-2.06-.94 2.06-2.06.94zm-11 1L8.5 8.5l.94-2.06 2.06-.94-2.06-.94L8.5 2.5l-.94 2.06-2.06.94zm10 10l.94 2.06.94-2.06 2.06-.94-2.06-.94-.94-2.06-.94 2.06-2.06.94z\"/><path d=\"M17.41 7.96l-1.37-1.37c-.4-.4-.92-.59-1.43-.59-.52 0-1.04.2-1.43.59L10.3 9.45l-7.72 7.72c-.78.78-.78 2.05 0 2.83L4 21.41c.39.39.9.59 1.41.59.51 0 1.02-.2 1.41-.59l7.78-7.78 2.81-2.81c.8-.78.8-2.07 0-2.86zM5.41 20L4 18.59l7.72-7.72 1.47 1.35L5.41 20z\"/>\n",
              "  </svg>\n",
              "      </button>\n",
              "      \n",
              "  <style>\n",
              "    .colab-df-container {\n",
              "      display:flex;\n",
              "      flex-wrap:wrap;\n",
              "      gap: 12px;\n",
              "    }\n",
              "\n",
              "    .colab-df-convert {\n",
              "      background-color: #E8F0FE;\n",
              "      border: none;\n",
              "      border-radius: 50%;\n",
              "      cursor: pointer;\n",
              "      display: none;\n",
              "      fill: #1967D2;\n",
              "      height: 32px;\n",
              "      padding: 0 0 0 0;\n",
              "      width: 32px;\n",
              "    }\n",
              "\n",
              "    .colab-df-convert:hover {\n",
              "      background-color: #E2EBFA;\n",
              "      box-shadow: 0px 1px 2px rgba(60, 64, 67, 0.3), 0px 1px 3px 1px rgba(60, 64, 67, 0.15);\n",
              "      fill: #174EA6;\n",
              "    }\n",
              "\n",
              "    [theme=dark] .colab-df-convert {\n",
              "      background-color: #3B4455;\n",
              "      fill: #D2E3FC;\n",
              "    }\n",
              "\n",
              "    [theme=dark] .colab-df-convert:hover {\n",
              "      background-color: #434B5C;\n",
              "      box-shadow: 0px 1px 3px 1px rgba(0, 0, 0, 0.15);\n",
              "      filter: drop-shadow(0px 1px 2px rgba(0, 0, 0, 0.3));\n",
              "      fill: #FFFFFF;\n",
              "    }\n",
              "  </style>\n",
              "\n",
              "      <script>\n",
              "        const buttonEl =\n",
              "          document.querySelector('#df-8bb27692-8c20-4584-9115-4baf1ca523ef button.colab-df-convert');\n",
              "        buttonEl.style.display =\n",
              "          google.colab.kernel.accessAllowed ? 'block' : 'none';\n",
              "\n",
              "        async function convertToInteractive(key) {\n",
              "          const element = document.querySelector('#df-8bb27692-8c20-4584-9115-4baf1ca523ef');\n",
              "          const dataTable =\n",
              "            await google.colab.kernel.invokeFunction('convertToInteractive',\n",
              "                                                     [key], {});\n",
              "          if (!dataTable) return;\n",
              "\n",
              "          const docLinkHtml = 'Like what you see? Visit the ' +\n",
              "            '<a target=\"_blank\" href=https://colab.research.google.com/notebooks/data_table.ipynb>data table notebook</a>'\n",
              "            + ' to learn more about interactive tables.';\n",
              "          element.innerHTML = '';\n",
              "          dataTable['output_type'] = 'display_data';\n",
              "          await google.colab.output.renderOutput(dataTable, element);\n",
              "          const docLink = document.createElement('div');\n",
              "          docLink.innerHTML = docLinkHtml;\n",
              "          element.appendChild(docLink);\n",
              "        }\n",
              "      </script>\n",
              "    </div>\n",
              "  </div>\n",
              "  "
            ]
          },
          "metadata": {},
          "execution_count": 24
        }
      ]
    },
    {
      "cell_type": "code",
      "source": [
        "data.isnull().sum()"
      ],
      "metadata": {
        "colab": {
          "base_uri": "https://localhost:8080/"
        },
        "id": "j-zv4W04fW1P",
        "outputId": "0f316616-77d3-48e6-98b0-070ae56044f8"
      },
      "execution_count": 25,
      "outputs": [
        {
          "output_type": "execute_result",
          "data": {
            "text/plain": [
              "Unnamed: 0        0\n",
              "state             0\n",
              "area.code         0\n",
              "account.length    0\n",
              "voice.plan        0\n",
              "voice.messages    0\n",
              "intl.plan         0\n",
              "intl.mins         0\n",
              "intl.calls        0\n",
              "intl.charge       0\n",
              "night.mins        0\n",
              "night.calls       0\n",
              "night.charge      0\n",
              "customer.calls    0\n",
              "churn             0\n",
              "day.mins          0\n",
              "day.calls         0\n",
              "day.charge        0\n",
              "eve.mins          0\n",
              "eve.calls         0\n",
              "eve.charge        0\n",
              "dtype: int64"
            ]
          },
          "metadata": {},
          "execution_count": 25
        }
      ]
    },
    {
      "cell_type": "markdown",
      "source": [
        "### duplicate record "
      ],
      "metadata": {
        "id": "TFGTYfksouGK"
      }
    },
    {
      "cell_type": "code",
      "source": [
        "data.duplicated().sum()"
      ],
      "metadata": {
        "id": "85fGAvytoeyE",
        "colab": {
          "base_uri": "https://localhost:8080/"
        },
        "outputId": "47e6d85d-8db2-43d5-de2d-02a13754c111"
      },
      "execution_count": 26,
      "outputs": [
        {
          "output_type": "execute_result",
          "data": {
            "text/plain": [
              "0"
            ]
          },
          "metadata": {},
          "execution_count": 26
        }
      ]
    },
    {
      "cell_type": "markdown",
      "source": [
        "##Statistic information of Numeric and Categorical data"
      ],
      "metadata": {
        "id": "dDfWpTyta-6F"
      }
    },
    {
      "cell_type": "code",
      "source": [
        "data.describe()"
      ],
      "metadata": {
        "id": "z2m4TSnhDD99",
        "colab": {
          "base_uri": "https://localhost:8080/",
          "height": 364
        },
        "outputId": "905b824e-4828-4d13-db66-90ded988bf6b"
      },
      "execution_count": 27,
      "outputs": [
        {
          "output_type": "execute_result",
          "data": {
            "text/plain": [
              "        Unnamed: 0  account.length  voice.messages    intl.mins   intl.calls  \\\n",
              "count  5000.000000      5000.00000     5000.000000  5000.000000  5000.000000   \n",
              "mean   2500.500000       100.25860        7.755200    10.261780     4.435200   \n",
              "std    1443.520003        39.69456       13.546393     2.761396     2.456788   \n",
              "min       1.000000         1.00000        0.000000     0.000000     0.000000   \n",
              "25%    1250.750000        73.00000        0.000000     8.500000     3.000000   \n",
              "50%    2500.500000       100.00000        0.000000    10.300000     4.000000   \n",
              "75%    3750.250000       127.00000       17.000000    12.000000     6.000000   \n",
              "max    5000.000000       243.00000       52.000000    20.000000    20.000000   \n",
              "\n",
              "       intl.charge   night.mins  night.calls  night.charge  customer.calls  \\\n",
              "count  5000.000000  5000.000000  5000.000000   5000.000000     5000.000000   \n",
              "mean      2.771196   200.391620    99.919200      9.017732        1.570400   \n",
              "std       0.745514    50.527789    19.958686      2.273763        1.306363   \n",
              "min       0.000000     0.000000     0.000000      0.000000        0.000000   \n",
              "25%       2.300000   166.900000    87.000000      7.510000        1.000000   \n",
              "50%       2.780000   200.400000   100.000000      9.020000        1.000000   \n",
              "75%       3.240000   234.700000   113.000000     10.560000        2.000000   \n",
              "max       5.400000   395.000000   175.000000     17.770000        9.000000   \n",
              "\n",
              "          day.mins    day.calls   day.charge     eve.mins    eve.calls  \\\n",
              "count  5000.000000  5000.000000  5000.000000  5000.000000  5000.000000   \n",
              "mean    180.288900   100.029400    30.649666   200.636515   100.191000   \n",
              "std      53.894699    19.831197     9.162070    50.551303    19.826496   \n",
              "min       0.000000     0.000000     0.000000     0.000000     0.000000   \n",
              "25%     143.700000    87.000000    24.430000   166.375000    87.000000   \n",
              "50%     180.100000   100.000000    30.620000   201.000000   100.000000   \n",
              "75%     216.200000   113.000000    36.750000   234.100000   114.000000   \n",
              "max     351.500000   165.000000    59.760000   363.700000   170.000000   \n",
              "\n",
              "        eve.charge  \n",
              "count  5000.000000  \n",
              "mean     17.054322  \n",
              "std       4.296843  \n",
              "min       0.000000  \n",
              "25%      14.140000  \n",
              "50%      17.090000  \n",
              "75%      19.900000  \n",
              "max      30.910000  "
            ],
            "text/html": [
              "\n",
              "  <div id=\"df-ca28c6df-3cb5-4ac1-8b5e-17008202061b\">\n",
              "    <div class=\"colab-df-container\">\n",
              "      <div>\n",
              "<style scoped>\n",
              "    .dataframe tbody tr th:only-of-type {\n",
              "        vertical-align: middle;\n",
              "    }\n",
              "\n",
              "    .dataframe tbody tr th {\n",
              "        vertical-align: top;\n",
              "    }\n",
              "\n",
              "    .dataframe thead th {\n",
              "        text-align: right;\n",
              "    }\n",
              "</style>\n",
              "<table border=\"1\" class=\"dataframe\">\n",
              "  <thead>\n",
              "    <tr style=\"text-align: right;\">\n",
              "      <th></th>\n",
              "      <th>Unnamed: 0</th>\n",
              "      <th>account.length</th>\n",
              "      <th>voice.messages</th>\n",
              "      <th>intl.mins</th>\n",
              "      <th>intl.calls</th>\n",
              "      <th>intl.charge</th>\n",
              "      <th>night.mins</th>\n",
              "      <th>night.calls</th>\n",
              "      <th>night.charge</th>\n",
              "      <th>customer.calls</th>\n",
              "      <th>day.mins</th>\n",
              "      <th>day.calls</th>\n",
              "      <th>day.charge</th>\n",
              "      <th>eve.mins</th>\n",
              "      <th>eve.calls</th>\n",
              "      <th>eve.charge</th>\n",
              "    </tr>\n",
              "  </thead>\n",
              "  <tbody>\n",
              "    <tr>\n",
              "      <th>count</th>\n",
              "      <td>5000.000000</td>\n",
              "      <td>5000.00000</td>\n",
              "      <td>5000.000000</td>\n",
              "      <td>5000.000000</td>\n",
              "      <td>5000.000000</td>\n",
              "      <td>5000.000000</td>\n",
              "      <td>5000.000000</td>\n",
              "      <td>5000.000000</td>\n",
              "      <td>5000.000000</td>\n",
              "      <td>5000.000000</td>\n",
              "      <td>5000.000000</td>\n",
              "      <td>5000.000000</td>\n",
              "      <td>5000.000000</td>\n",
              "      <td>5000.000000</td>\n",
              "      <td>5000.000000</td>\n",
              "      <td>5000.000000</td>\n",
              "    </tr>\n",
              "    <tr>\n",
              "      <th>mean</th>\n",
              "      <td>2500.500000</td>\n",
              "      <td>100.25860</td>\n",
              "      <td>7.755200</td>\n",
              "      <td>10.261780</td>\n",
              "      <td>4.435200</td>\n",
              "      <td>2.771196</td>\n",
              "      <td>200.391620</td>\n",
              "      <td>99.919200</td>\n",
              "      <td>9.017732</td>\n",
              "      <td>1.570400</td>\n",
              "      <td>180.288900</td>\n",
              "      <td>100.029400</td>\n",
              "      <td>30.649666</td>\n",
              "      <td>200.636515</td>\n",
              "      <td>100.191000</td>\n",
              "      <td>17.054322</td>\n",
              "    </tr>\n",
              "    <tr>\n",
              "      <th>std</th>\n",
              "      <td>1443.520003</td>\n",
              "      <td>39.69456</td>\n",
              "      <td>13.546393</td>\n",
              "      <td>2.761396</td>\n",
              "      <td>2.456788</td>\n",
              "      <td>0.745514</td>\n",
              "      <td>50.527789</td>\n",
              "      <td>19.958686</td>\n",
              "      <td>2.273763</td>\n",
              "      <td>1.306363</td>\n",
              "      <td>53.894699</td>\n",
              "      <td>19.831197</td>\n",
              "      <td>9.162070</td>\n",
              "      <td>50.551303</td>\n",
              "      <td>19.826496</td>\n",
              "      <td>4.296843</td>\n",
              "    </tr>\n",
              "    <tr>\n",
              "      <th>min</th>\n",
              "      <td>1.000000</td>\n",
              "      <td>1.00000</td>\n",
              "      <td>0.000000</td>\n",
              "      <td>0.000000</td>\n",
              "      <td>0.000000</td>\n",
              "      <td>0.000000</td>\n",
              "      <td>0.000000</td>\n",
              "      <td>0.000000</td>\n",
              "      <td>0.000000</td>\n",
              "      <td>0.000000</td>\n",
              "      <td>0.000000</td>\n",
              "      <td>0.000000</td>\n",
              "      <td>0.000000</td>\n",
              "      <td>0.000000</td>\n",
              "      <td>0.000000</td>\n",
              "      <td>0.000000</td>\n",
              "    </tr>\n",
              "    <tr>\n",
              "      <th>25%</th>\n",
              "      <td>1250.750000</td>\n",
              "      <td>73.00000</td>\n",
              "      <td>0.000000</td>\n",
              "      <td>8.500000</td>\n",
              "      <td>3.000000</td>\n",
              "      <td>2.300000</td>\n",
              "      <td>166.900000</td>\n",
              "      <td>87.000000</td>\n",
              "      <td>7.510000</td>\n",
              "      <td>1.000000</td>\n",
              "      <td>143.700000</td>\n",
              "      <td>87.000000</td>\n",
              "      <td>24.430000</td>\n",
              "      <td>166.375000</td>\n",
              "      <td>87.000000</td>\n",
              "      <td>14.140000</td>\n",
              "    </tr>\n",
              "    <tr>\n",
              "      <th>50%</th>\n",
              "      <td>2500.500000</td>\n",
              "      <td>100.00000</td>\n",
              "      <td>0.000000</td>\n",
              "      <td>10.300000</td>\n",
              "      <td>4.000000</td>\n",
              "      <td>2.780000</td>\n",
              "      <td>200.400000</td>\n",
              "      <td>100.000000</td>\n",
              "      <td>9.020000</td>\n",
              "      <td>1.000000</td>\n",
              "      <td>180.100000</td>\n",
              "      <td>100.000000</td>\n",
              "      <td>30.620000</td>\n",
              "      <td>201.000000</td>\n",
              "      <td>100.000000</td>\n",
              "      <td>17.090000</td>\n",
              "    </tr>\n",
              "    <tr>\n",
              "      <th>75%</th>\n",
              "      <td>3750.250000</td>\n",
              "      <td>127.00000</td>\n",
              "      <td>17.000000</td>\n",
              "      <td>12.000000</td>\n",
              "      <td>6.000000</td>\n",
              "      <td>3.240000</td>\n",
              "      <td>234.700000</td>\n",
              "      <td>113.000000</td>\n",
              "      <td>10.560000</td>\n",
              "      <td>2.000000</td>\n",
              "      <td>216.200000</td>\n",
              "      <td>113.000000</td>\n",
              "      <td>36.750000</td>\n",
              "      <td>234.100000</td>\n",
              "      <td>114.000000</td>\n",
              "      <td>19.900000</td>\n",
              "    </tr>\n",
              "    <tr>\n",
              "      <th>max</th>\n",
              "      <td>5000.000000</td>\n",
              "      <td>243.00000</td>\n",
              "      <td>52.000000</td>\n",
              "      <td>20.000000</td>\n",
              "      <td>20.000000</td>\n",
              "      <td>5.400000</td>\n",
              "      <td>395.000000</td>\n",
              "      <td>175.000000</td>\n",
              "      <td>17.770000</td>\n",
              "      <td>9.000000</td>\n",
              "      <td>351.500000</td>\n",
              "      <td>165.000000</td>\n",
              "      <td>59.760000</td>\n",
              "      <td>363.700000</td>\n",
              "      <td>170.000000</td>\n",
              "      <td>30.910000</td>\n",
              "    </tr>\n",
              "  </tbody>\n",
              "</table>\n",
              "</div>\n",
              "      <button class=\"colab-df-convert\" onclick=\"convertToInteractive('df-ca28c6df-3cb5-4ac1-8b5e-17008202061b')\"\n",
              "              title=\"Convert this dataframe to an interactive table.\"\n",
              "              style=\"display:none;\">\n",
              "        \n",
              "  <svg xmlns=\"http://www.w3.org/2000/svg\" height=\"24px\"viewBox=\"0 0 24 24\"\n",
              "       width=\"24px\">\n",
              "    <path d=\"M0 0h24v24H0V0z\" fill=\"none\"/>\n",
              "    <path d=\"M18.56 5.44l.94 2.06.94-2.06 2.06-.94-2.06-.94-.94-2.06-.94 2.06-2.06.94zm-11 1L8.5 8.5l.94-2.06 2.06-.94-2.06-.94L8.5 2.5l-.94 2.06-2.06.94zm10 10l.94 2.06.94-2.06 2.06-.94-2.06-.94-.94-2.06-.94 2.06-2.06.94z\"/><path d=\"M17.41 7.96l-1.37-1.37c-.4-.4-.92-.59-1.43-.59-.52 0-1.04.2-1.43.59L10.3 9.45l-7.72 7.72c-.78.78-.78 2.05 0 2.83L4 21.41c.39.39.9.59 1.41.59.51 0 1.02-.2 1.41-.59l7.78-7.78 2.81-2.81c.8-.78.8-2.07 0-2.86zM5.41 20L4 18.59l7.72-7.72 1.47 1.35L5.41 20z\"/>\n",
              "  </svg>\n",
              "      </button>\n",
              "      \n",
              "  <style>\n",
              "    .colab-df-container {\n",
              "      display:flex;\n",
              "      flex-wrap:wrap;\n",
              "      gap: 12px;\n",
              "    }\n",
              "\n",
              "    .colab-df-convert {\n",
              "      background-color: #E8F0FE;\n",
              "      border: none;\n",
              "      border-radius: 50%;\n",
              "      cursor: pointer;\n",
              "      display: none;\n",
              "      fill: #1967D2;\n",
              "      height: 32px;\n",
              "      padding: 0 0 0 0;\n",
              "      width: 32px;\n",
              "    }\n",
              "\n",
              "    .colab-df-convert:hover {\n",
              "      background-color: #E2EBFA;\n",
              "      box-shadow: 0px 1px 2px rgba(60, 64, 67, 0.3), 0px 1px 3px 1px rgba(60, 64, 67, 0.15);\n",
              "      fill: #174EA6;\n",
              "    }\n",
              "\n",
              "    [theme=dark] .colab-df-convert {\n",
              "      background-color: #3B4455;\n",
              "      fill: #D2E3FC;\n",
              "    }\n",
              "\n",
              "    [theme=dark] .colab-df-convert:hover {\n",
              "      background-color: #434B5C;\n",
              "      box-shadow: 0px 1px 3px 1px rgba(0, 0, 0, 0.15);\n",
              "      filter: drop-shadow(0px 1px 2px rgba(0, 0, 0, 0.3));\n",
              "      fill: #FFFFFF;\n",
              "    }\n",
              "  </style>\n",
              "\n",
              "      <script>\n",
              "        const buttonEl =\n",
              "          document.querySelector('#df-ca28c6df-3cb5-4ac1-8b5e-17008202061b button.colab-df-convert');\n",
              "        buttonEl.style.display =\n",
              "          google.colab.kernel.accessAllowed ? 'block' : 'none';\n",
              "\n",
              "        async function convertToInteractive(key) {\n",
              "          const element = document.querySelector('#df-ca28c6df-3cb5-4ac1-8b5e-17008202061b');\n",
              "          const dataTable =\n",
              "            await google.colab.kernel.invokeFunction('convertToInteractive',\n",
              "                                                     [key], {});\n",
              "          if (!dataTable) return;\n",
              "\n",
              "          const docLinkHtml = 'Like what you see? Visit the ' +\n",
              "            '<a target=\"_blank\" href=https://colab.research.google.com/notebooks/data_table.ipynb>data table notebook</a>'\n",
              "            + ' to learn more about interactive tables.';\n",
              "          element.innerHTML = '';\n",
              "          dataTable['output_type'] = 'display_data';\n",
              "          await google.colab.output.renderOutput(dataTable, element);\n",
              "          const docLink = document.createElement('div');\n",
              "          docLink.innerHTML = docLinkHtml;\n",
              "          element.appendChild(docLink);\n",
              "        }\n",
              "      </script>\n",
              "    </div>\n",
              "  </div>\n",
              "  "
            ]
          },
          "metadata": {},
          "execution_count": 27
        }
      ]
    },
    {
      "cell_type": "markdown",
      "source": [
        "Describe method will give the mean, std, min, max, 25% , 50%, 75% values of each feature"
      ],
      "metadata": {
        "id": "ElTjIZwPbluO"
      }
    },
    {
      "cell_type": "code",
      "source": [
        "data.describe(include=['O'])"
      ],
      "metadata": {
        "id": "1raoZvOHDES2",
        "colab": {
          "base_uri": "https://localhost:8080/",
          "height": 174
        },
        "outputId": "0beed9b0-21c7-40ac-95c1-c72f33ffa952"
      },
      "execution_count": 28,
      "outputs": [
        {
          "output_type": "execute_result",
          "data": {
            "text/plain": [
              "       state      area.code voice.plan intl.plan churn\n",
              "count   5000           5000       5000      5000  5000\n",
              "unique    51              3          2         2     2\n",
              "top       WV  area_code_415         no        no    no\n",
              "freq     158           2495       3677      4527  4293"
            ],
            "text/html": [
              "\n",
              "  <div id=\"df-443646a7-f251-4042-a6cd-56518036cd17\">\n",
              "    <div class=\"colab-df-container\">\n",
              "      <div>\n",
              "<style scoped>\n",
              "    .dataframe tbody tr th:only-of-type {\n",
              "        vertical-align: middle;\n",
              "    }\n",
              "\n",
              "    .dataframe tbody tr th {\n",
              "        vertical-align: top;\n",
              "    }\n",
              "\n",
              "    .dataframe thead th {\n",
              "        text-align: right;\n",
              "    }\n",
              "</style>\n",
              "<table border=\"1\" class=\"dataframe\">\n",
              "  <thead>\n",
              "    <tr style=\"text-align: right;\">\n",
              "      <th></th>\n",
              "      <th>state</th>\n",
              "      <th>area.code</th>\n",
              "      <th>voice.plan</th>\n",
              "      <th>intl.plan</th>\n",
              "      <th>churn</th>\n",
              "    </tr>\n",
              "  </thead>\n",
              "  <tbody>\n",
              "    <tr>\n",
              "      <th>count</th>\n",
              "      <td>5000</td>\n",
              "      <td>5000</td>\n",
              "      <td>5000</td>\n",
              "      <td>5000</td>\n",
              "      <td>5000</td>\n",
              "    </tr>\n",
              "    <tr>\n",
              "      <th>unique</th>\n",
              "      <td>51</td>\n",
              "      <td>3</td>\n",
              "      <td>2</td>\n",
              "      <td>2</td>\n",
              "      <td>2</td>\n",
              "    </tr>\n",
              "    <tr>\n",
              "      <th>top</th>\n",
              "      <td>WV</td>\n",
              "      <td>area_code_415</td>\n",
              "      <td>no</td>\n",
              "      <td>no</td>\n",
              "      <td>no</td>\n",
              "    </tr>\n",
              "    <tr>\n",
              "      <th>freq</th>\n",
              "      <td>158</td>\n",
              "      <td>2495</td>\n",
              "      <td>3677</td>\n",
              "      <td>4527</td>\n",
              "      <td>4293</td>\n",
              "    </tr>\n",
              "  </tbody>\n",
              "</table>\n",
              "</div>\n",
              "      <button class=\"colab-df-convert\" onclick=\"convertToInteractive('df-443646a7-f251-4042-a6cd-56518036cd17')\"\n",
              "              title=\"Convert this dataframe to an interactive table.\"\n",
              "              style=\"display:none;\">\n",
              "        \n",
              "  <svg xmlns=\"http://www.w3.org/2000/svg\" height=\"24px\"viewBox=\"0 0 24 24\"\n",
              "       width=\"24px\">\n",
              "    <path d=\"M0 0h24v24H0V0z\" fill=\"none\"/>\n",
              "    <path d=\"M18.56 5.44l.94 2.06.94-2.06 2.06-.94-2.06-.94-.94-2.06-.94 2.06-2.06.94zm-11 1L8.5 8.5l.94-2.06 2.06-.94-2.06-.94L8.5 2.5l-.94 2.06-2.06.94zm10 10l.94 2.06.94-2.06 2.06-.94-2.06-.94-.94-2.06-.94 2.06-2.06.94z\"/><path d=\"M17.41 7.96l-1.37-1.37c-.4-.4-.92-.59-1.43-.59-.52 0-1.04.2-1.43.59L10.3 9.45l-7.72 7.72c-.78.78-.78 2.05 0 2.83L4 21.41c.39.39.9.59 1.41.59.51 0 1.02-.2 1.41-.59l7.78-7.78 2.81-2.81c.8-.78.8-2.07 0-2.86zM5.41 20L4 18.59l7.72-7.72 1.47 1.35L5.41 20z\"/>\n",
              "  </svg>\n",
              "      </button>\n",
              "      \n",
              "  <style>\n",
              "    .colab-df-container {\n",
              "      display:flex;\n",
              "      flex-wrap:wrap;\n",
              "      gap: 12px;\n",
              "    }\n",
              "\n",
              "    .colab-df-convert {\n",
              "      background-color: #E8F0FE;\n",
              "      border: none;\n",
              "      border-radius: 50%;\n",
              "      cursor: pointer;\n",
              "      display: none;\n",
              "      fill: #1967D2;\n",
              "      height: 32px;\n",
              "      padding: 0 0 0 0;\n",
              "      width: 32px;\n",
              "    }\n",
              "\n",
              "    .colab-df-convert:hover {\n",
              "      background-color: #E2EBFA;\n",
              "      box-shadow: 0px 1px 2px rgba(60, 64, 67, 0.3), 0px 1px 3px 1px rgba(60, 64, 67, 0.15);\n",
              "      fill: #174EA6;\n",
              "    }\n",
              "\n",
              "    [theme=dark] .colab-df-convert {\n",
              "      background-color: #3B4455;\n",
              "      fill: #D2E3FC;\n",
              "    }\n",
              "\n",
              "    [theme=dark] .colab-df-convert:hover {\n",
              "      background-color: #434B5C;\n",
              "      box-shadow: 0px 1px 3px 1px rgba(0, 0, 0, 0.15);\n",
              "      filter: drop-shadow(0px 1px 2px rgba(0, 0, 0, 0.3));\n",
              "      fill: #FFFFFF;\n",
              "    }\n",
              "  </style>\n",
              "\n",
              "      <script>\n",
              "        const buttonEl =\n",
              "          document.querySelector('#df-443646a7-f251-4042-a6cd-56518036cd17 button.colab-df-convert');\n",
              "        buttonEl.style.display =\n",
              "          google.colab.kernel.accessAllowed ? 'block' : 'none';\n",
              "\n",
              "        async function convertToInteractive(key) {\n",
              "          const element = document.querySelector('#df-443646a7-f251-4042-a6cd-56518036cd17');\n",
              "          const dataTable =\n",
              "            await google.colab.kernel.invokeFunction('convertToInteractive',\n",
              "                                                     [key], {});\n",
              "          if (!dataTable) return;\n",
              "\n",
              "          const docLinkHtml = 'Like what you see? Visit the ' +\n",
              "            '<a target=\"_blank\" href=https://colab.research.google.com/notebooks/data_table.ipynb>data table notebook</a>'\n",
              "            + ' to learn more about interactive tables.';\n",
              "          element.innerHTML = '';\n",
              "          dataTable['output_type'] = 'display_data';\n",
              "          await google.colab.output.renderOutput(dataTable, element);\n",
              "          const docLink = document.createElement('div');\n",
              "          docLink.innerHTML = docLinkHtml;\n",
              "          element.appendChild(docLink);\n",
              "        }\n",
              "      </script>\n",
              "    </div>\n",
              "  </div>\n",
              "  "
            ]
          },
          "metadata": {},
          "execution_count": 28
        }
      ]
    },
    {
      "cell_type": "markdown",
      "source": [
        "##Outlier Treatment"
      ],
      "metadata": {
        "id": "iRzyPloIc0-m"
      }
    },
    {
      "cell_type": "code",
      "source": [
        "for i in data.columns:\n",
        "  if data[i].dtype!='object':\n",
        "    sns.boxplot(data[i])\n",
        "    plt.show()"
      ],
      "metadata": {
        "id": "1wHiRqGCcARn",
        "colab": {
          "base_uri": "https://localhost:8080/",
          "height": 1000
        },
        "outputId": "be158a0a-7f4d-4da1-9751-5963c8bd4ade"
      },
      "execution_count": 29,
      "outputs": [
        {
          "output_type": "display_data",
          "data": {
            "text/plain": [
              "<Figure size 432x288 with 1 Axes>"
            ],
            "image/png": "[encoded data removed]"
          },
          "metadata": {
            "needs_background": "light"
          }
        },
        {
          "output_type": "display_data",
          "data": {
            "text/plain": [
              "<Figure size 432x288 with 1 Axes>"
            ],
            "image/png": "[encoded data removed]"
          },
          "metadata": {
            "needs_background": "light"
          }
        },
        {
          "output_type": "display_data",
          "data": {
            "text/plain": [
              "<Figure size 432x288 with 1 Axes>"
            ],
            "image/png": "[encoded data removed]"
          },
          "metadata": {
            "needs_background": "light"
          }
        },
        {
          "output_type": "display_data",
          "data": {
            "text/plain": [
              "<Figure size 432x288 with 1 Axes>"
            ],
            "image/png": "[encoded data removed]"
          },
          "metadata": {
            "needs_background": "light"
          }
        },
        {
          "output_type": "display_data",
          "data": {
            "text/plain": [
              "<Figure size 432x288 with 1 Axes>"
            ],
            "image/png": "[encoded data removed]"
          },
          "metadata": {
            "needs_background": "light"
          }
        },
        {
          "output_type": "display_data",
          "data": {
            "text/plain": [
              "<Figure size 432x288 with 1 Axes>"
            ],
            "image/png": "[encoded data removed]"
          },
          "metadata": {
            "needs_background": "light"
          }
        },
        {
          "output_type": "display_data",
          "data": {
            "text/plain": [
              "<Figure size 432x288 with 1 Axes>"
            ],
            "image/png": "[encoded data removed]"
          },
          "metadata": {
            "needs_background": "light"
          }
        },
        {
          "output_type": "display_data",
          "data": {
            "text/plain": [
              "<Figure size 432x288 with 1 Axes>"
            ],
            "image/png": "[encoded data removed]"
          },
          "metadata": {
            "needs_background": "light"
          }
        },
        {
          "output_type": "display_data",
          "data": {
            "text/plain": [
              "<Figure size 432x288 with 1 Axes>"
            ],
            "image/png": "[encoded data removed]"
          },
          "metadata": {
            "needs_background": "light"
          }
        },
        {
          "output_type": "display_data",
          "data": {
            "text/plain": [
              "<Figure size 432x288 with 1 Axes>"
            ],
            "image/png": "[encoded data removed]"
          },
          "metadata": {
            "needs_background": "light"
          }
        },
        {
          "output_type": "display_data",
          "data": {
            "text/plain": [
              "<Figure size 432x288 with 1 Axes>"
            ],
            "image/png": "[encoded data removed]"
          },
          "metadata": {
            "needs_background": "light"
          }
        },
        {
          "output_type": "display_data",
          "data": {
            "text/plain": [
              "<Figure size 432x288 with 1 Axes>"
            ],
            "image/png": "[encoded data removed]"
          },
          "metadata": {
            "needs_background": "light"
          }
        },
        {
          "output_type": "display_data",
          "data": {
            "text/plain": [
              "<Figure size 432x288 with 1 Axes>"
            ],
            "image/png": "[encoded data removed]"
          },
          "metadata": {
            "needs_background": "light"
          }
        },
        {
          "output_type": "display_data",
          "data": {
            "text/plain": [
              "<Figure size 432x288 with 1 Axes>"
            ],
            "image/png": "[encoded data removed]"
          },
          "metadata": {
            "needs_background": "light"
          }
        },
        {
          "output_type": "display_data",
          "data": {
            "text/plain": [
              "<Figure size 432x288 with 1 Axes>"
            ],
            "image/png": "[encoded data removed]"
          },
          "metadata": {
            "needs_background": "light"
          }
        },
        {
          "output_type": "display_data",
          "data": {
            "text/plain": [
              "<Figure size 432x288 with 1 Axes>"
            ],
            "image/png": "[encoded data removed]"
          },
          "metadata": {
            "needs_background": "light"
          }
        }
      ]
    },
    {
      "cell_type": "markdown",
      "source": [
        "Above observation will showing most of the integer fatures having outlier so data need outlier treatment."
      ],
      "metadata": {
        "id": "b8aIeLPhiXZg"
      }
    },
    {
      "cell_type": "code",
      "source": [
        "\n",
        "for i in data.columns:\n",
        "  if data[i].dtype!='object':\n",
        "    Q1 = data[i].quantile(0.25)\n",
        "    Q3 = data[i].quantile(0.75)\n",
        "    IQR = Q3 - Q1\n",
        "    Outer_layer = Q3+1.5*IQR\n",
        "    Lower_layer = Q1-1.5*IQR\n",
        "    Outer_layer,Lower_layer\n",
        "\n",
        "    data.loc[data[i] <Lower_layer, i] = Lower_layer\n",
        "    data.loc[data[i] >Outer_layer, i] = Outer_layer"
      ],
      "metadata": {
        "id": "0XmPl0C-irVv"
      },
      "execution_count": 30,
      "outputs": []
    },
    {
      "cell_type": "code",
      "source": [
        "for i in data.columns:\n",
        "  if data[i].dtype!='object':\n",
        "    sns.boxplot(data[i])\n",
        "    plt.show()"
      ],
      "metadata": {
        "colab": {
          "base_uri": "https://localhost:8080/",
          "height": 1000
        },
        "id": "ddJQEVyJiraG",
        "outputId": "a35e5c20-dc7b-4945-c68e-0e798ea29bac"
      },
      "execution_count": 31,
      "outputs": [
        {
          "output_type": "display_data",
          "data": {
            "text/plain": [
              "<Figure size 432x288 with 1 Axes>"
            ],
            "image/png": "[encoded data removed]"
          },
          "metadata": {
            "needs_background": "light"
          }
        },
        {
          "output_type": "display_data",
          "data": {
            "text/plain": [
              "<Figure size 432x288 with 1 Axes>"
            ],
            "image/png": "[encoded data removed]"
          },
          "metadata": {
            "needs_background": "light"
          }
        },
        {
          "output_type": "display_data",
          "data": {
            "text/plain": [
              "<Figure size 432x288 with 1 Axes>"
            ],
            "image/png": "[encoded data removed]"
          },
          "metadata": {
            "needs_background": "light"
          }
        },
        {
          "output_type": "display_data",
          "data": {
            "text/plain": [
              "<Figure size 432x288 with 1 Axes>"
            ],
            "image/png": "[encoded data removed]"
          },
          "metadata": {
            "needs_background": "light"
          }
        },
        {
          "output_type": "display_data",
          "data": {
            "text/plain": [
              "<Figure size 432x288 with 1 Axes>"
            ],
            "image/png": "[encoded data removed]"
          },
          "metadata": {
            "needs_background": "light"
          }
        },
        {
          "output_type": "display_data",
          "data": {
            "text/plain": [
              "<Figure size 432x288 with 1 Axes>"
            ],
            "image/png": "[encoded data removed]"
          },
          "metadata": {
            "needs_background": "light"
          }
        },
        {
          "output_type": "display_data",
          "data": {
            "text/plain": [
              "<Figure size 432x288 with 1 Axes>"
            ],
            "image/png": "[encoded data removed]"
          },
          "metadata": {
            "needs_background": "light"
          }
        },
        {
          "output_type": "display_data",
          "data": {
            "text/plain": [
              "<Figure size 432x288 with 1 Axes>"
            ],
            "image/png": "[encoded data removed]"
          },
          "metadata": {
            "needs_background": "light"
          }
        },
        {
          "output_type": "display_data",
          "data": {
            "text/plain": [
              "<Figure size 432x288 with 1 Axes>"
            ],
            "image/png": "[encoded data removed]"
          },
          "metadata": {
            "needs_background": "light"
          }
        },
        {
          "output_type": "display_data",
          "data": {
            "text/plain": [
              "<Figure size 432x288 with 1 Axes>"
            ],
            "image/png": "[encoded data removed]"
          },
          "metadata": {
            "needs_background": "light"
          }
        },
        {
          "output_type": "display_data",
          "data": {
            "text/plain": [
              "<Figure size 432x288 with 1 Axes>"
            ],
            "image/png": "[encoded data removed]"
          },
          "metadata": {
            "needs_background": "light"
          }
        },
        {
          "output_type": "display_data",
          "data": {
            "text/plain": [
              "<Figure size 432x288 with 1 Axes>"
            ],
            "image/png": "[encoded data removed]"
          },
          "metadata": {
            "needs_background": "light"
          }
        },
        {
          "output_type": "display_data",
          "data": {
            "text/plain": [
              "<Figure size 432x288 with 1 Axes>"
            ],
            "image/png": "[encoded data removed]"
          },
          "metadata": {
            "needs_background": "light"
          }
        },
        {
          "output_type": "display_data",
          "data": {
            "text/plain": [
              "<Figure size 432x288 with 1 Axes>"
            ],
            "image/png": "[encoded data removed]"
          },
          "metadata": {
            "needs_background": "light"
          }
        },
        {
          "output_type": "display_data",
          "data": {
            "text/plain": [
              "<Figure size 432x288 with 1 Axes>"
            ],
            "image/png": "[encoded data removed]"
          },
          "metadata": {
            "needs_background": "light"
          }
        },
        {
          "output_type": "display_data",
          "data": {
            "text/plain": [
              "<Figure size 432x288 with 1 Axes>"
            ],
            "image/png": "[encoded data removed]"
          },
          "metadata": {
            "needs_background": "light"
          }
        }
      ]
    },
    {
      "cell_type": "markdown",
      "source": [
        "# Exploratery data analysis"
      ],
      "metadata": {
        "id": "fDEeOWdXreub"
      }
    },
    {
      "cell_type": "markdown",
      "source": [
        "##Univariate and Bivariate Analysis"
      ],
      "metadata": {
        "id": "fTb9MJGijLpw"
      }
    },
    {
      "cell_type": "code",
      "source": [
        "df ['churn'].value_counts().plot.pie(explode=[0.05,0.05], autopct='%1.1f%%',  startangle=90,shadow=True, figsize=(8,8))\n",
        "plt.title('Pie Chart for Churn')\n",
        "plt.show()"
      ],
      "metadata": {
        "id": "OC4-3fjGcAUe",
        "colab": {
          "base_uri": "https://localhost:8080/",
          "height": 482
        },
        "outputId": "034ebf2a-3302-4187-afdb-40ce9d863a10"
      },
      "execution_count": 32,
      "outputs": [
        {
          "output_type": "display_data",
          "data": {
            "text/plain": [
              "<Figure size 576x576 with 1 Axes>"
            ],
            "image/png": "[encoded data removed]"
          },
          "metadata": {}
        }
      ]
    },
    {
      "cell_type": "markdown",
      "source": [
        "***almost 14.1% of customers have churned. we need to correlated to the other independent feature to dependence feature get the information***"
      ],
      "metadata": {
        "id": "XNwtYGz-q3XD"
      }
    },
    {
      "cell_type": "code",
      "source": [
        "cols = ['area.code','voice.plan','intl.plan','intl.calls','churn']\n",
        "plt.figure(figsize=(5, 5))\n",
        "for i in cols:\n",
        "  sns.countplot(data=data, x=i, hue='churn')\n",
        "  plt.show()"
      ],
      "metadata": {
        "id": "rZvisLBocAOg",
        "colab": {
          "base_uri": "https://localhost:8080/",
          "height": 1000
        },
        "outputId": "fb409c42-7bc3-4913-d416-86b112c5a72f"
      },
      "execution_count": 33,
      "outputs": [
        {
          "output_type": "display_data",
          "data": {
            "text/plain": [
              "<Figure size 360x360 with 1 Axes>"
            ],
            "image/png": "[encoded data removed]"
          },
          "metadata": {
            "needs_background": "light"
          }
        },
        {
          "output_type": "display_data",
          "data": {
            "text/plain": [
              "<Figure size 432x288 with 1 Axes>"
            ],
            "image/png": "[encoded data removed]"
          },
          "metadata": {
            "needs_background": "light"
          }
        },
        {
          "output_type": "display_data",
          "data": {
            "text/plain": [
              "<Figure size 432x288 with 1 Axes>"
            ],
            "image/png": "[encoded data removed]"
          },
          "metadata": {
            "needs_background": "light"
          }
        },
        {
          "output_type": "display_data",
          "data": {
            "text/plain": [
              "<Figure size 432x288 with 1 Axes>"
            ],
            "image/png": "[encoded data removed]"
          },
          "metadata": {
            "needs_background": "light"
          }
        },
        {
          "output_type": "display_data",
          "data": {
            "text/plain": [
              "<Figure size 432x288 with 1 Axes>"
            ],
            "image/png": "[encoded data removed]"
          },
          "metadata": {
            "needs_background": "light"
          }
        }
      ]
    },
    {
      "cell_type": "markdown",
      "source": [
        "1. Area code: it is having a 3 unique values area_code_415 having more customer \n",
        "accounts also chunks rate more compared to other two class.\n",
        "2. Voice_plan: voice plan having 2 unique values and Voice_plan No having more customer accounts also chunks rate also more compared to other class.\n",
        "3. Intl.plan: intl plan having 2 unique values and intl plan No having more customer accounts also chunks rate also more compared to other class.\n",
        "4. Churn: Churn having 2 unique values and in the data set having less number of churn yes and it clearly showing imbalance data\n"
      ],
      "metadata": {
        "id": "zCfQC1clgDC1"
      }
    },
    {
      "cell_type": "code",
      "source": [
        "data['churn']= data['churn'].replace(['yes','no'],[1,0])"
      ],
      "metadata": {
        "id": "vGBIPD2EuZiT"
      },
      "execution_count": 34,
      "outputs": []
    },
    {
      "cell_type": "markdown",
      "source": [
        "###Visualize the top 10 Churn rate in the dataset from each features"
      ],
      "metadata": {
        "id": "IveNXJMHze5w"
      }
    },
    {
      "cell_type": "code",
      "source": [
        "feature = ['state', 'area.code', 'account.length', 'voice.plan',\n",
        "       'voice.messages', 'intl.plan', 'intl.mins', 'intl.calls', 'intl.charge',\n",
        "       'night.mins', 'night.calls', 'night.charge', 'customer.calls',\n",
        "       'day.mins', 'day.calls', 'day.charge', 'eve.mins', 'eve.calls',\n",
        "       'eve.charge']"
      ],
      "metadata": {
        "id": "JDgI3u-K0uu2"
      },
      "execution_count": 35,
      "outputs": []
    },
    {
      "cell_type": "code",
      "source": [
        "for i in feature:\n",
        "  plt.figure(figsize=(5, 3))\n",
        "  d = data.groupby([i])['churn'].mean()*100\n",
        "  d.sort_values(ascending = False).head(10).plot.bar(color = ['violet','indigo','b','g','y','orange','r'])\n",
        "  plt.show()\n",
        "  "
      ],
      "metadata": {
        "colab": {
          "base_uri": "https://localhost:8080/",
          "height": 1000
        },
        "id": "jKDDSL5-xVgW",
        "outputId": "dc16f4d3-e3cf-43fa-ab47-369f86c23f35"
      },
      "execution_count": 36,
      "outputs": [
        {
          "output_type": "display_data",
          "data": {
            "text/plain": [
              "<Figure size 360x216 with 1 Axes>"
            ],
            "image/png": "[encoded data removed]"
          },
          "metadata": {
            "needs_background": "light"
          }
        },
        {
          "output_type": "display_data",
          "data": {
            "text/plain": [
              "<Figure size 360x216 with 1 Axes>"
            ],
            "image/png": "[encoded data removed]"
          },
          "metadata": {
            "needs_background": "light"
          }
        },
        {
          "output_type": "display_data",
          "data": {
            "text/plain": [
              "<Figure size 360x216 with 1 Axes>"
            ],
            "image/png": "[encoded data removed]"
          },
          "metadata": {
            "needs_background": "light"
          }
        },
        {
          "output_type": "display_data",
          "data": {
            "text/plain": [
              "<Figure size 360x216 with 1 Axes>"
            ],
            "image/png": "[encoded data removed]"
          },
          "metadata": {
            "needs_background": "light"
          }
        },
        {
          "output_type": "display_data",
          "data": {
            "text/plain": [
              "<Figure size 360x216 with 1 Axes>"
            ],
            "image/png": "[encoded data removed]"
          },
          "metadata": {
            "needs_background": "light"
          }
        },
        {
          "output_type": "display_data",
          "data": {
            "text/plain": [
              "<Figure size 360x216 with 1 Axes>"
            ],
            "image/png": "[encoded data removed]"
          },
          "metadata": {
            "needs_background": "light"
          }
        },
        {
          "output_type": "display_data",
          "data": {
            "text/plain": [
              "<Figure size 360x216 with 1 Axes>"
            ],
            "image/png": "[encoded data removed]"
          },
          "metadata": {
            "needs_background": "light"
          }
        },
        {
          "output_type": "display_data",
          "data": {
            "text/plain": [
              "<Figure size 360x216 with 1 Axes>"
            ],
            "image/png": "[encoded data removed]"
          },
          "metadata": {
            "needs_background": "light"
          }
        },
        {
          "output_type": "display_data",
          "data": {
            "text/plain": [
              "<Figure size 360x216 with 1 Axes>"
            ],
            "image/png": "[encoded data removed]"
          },
          "metadata": {
            "needs_background": "light"
          }
        },
        {
          "output_type": "display_data",
          "data": {
            "text/plain": [
              "<Figure size 360x216 with 1 Axes>"
            ],
            "image/png": "[encoded data removed]"
          },
          "metadata": {
            "needs_background": "light"
          }
        },
        {
          "output_type": "display_data",
          "data": {
            "text/plain": [
              "<Figure size 360x216 with 1 Axes>"
            ],
            "image/png": "[encoded data removed]"
          },
          "metadata": {
            "needs_background": "light"
          }
        },
        {
          "output_type": "display_data",
          "data": {
            "text/plain": [
              "<Figure size 360x216 with 1 Axes>"
            ],
            "image/png": "[encoded data removed]"
          },
          "metadata": {
            "needs_background": "light"
          }
        },
        {
          "output_type": "display_data",
          "data": {
            "text/plain": [
              "<Figure size 360x216 with 1 Axes>"
            ],
            "image/png": "[encoded data removed]"
          },
          "metadata": {
            "needs_background": "light"
          }
        },
        {
          "output_type": "display_data",
          "data": {
            "text/plain": [
              "<Figure size 360x216 with 1 Axes>"
            ],
            "image/png": "[encoded data removed]"
          },
          "metadata": {
            "needs_background": "light"
          }
        },
        {
          "output_type": "display_data",
          "data": {
            "text/plain": [
              "<Figure size 360x216 with 1 Axes>"
            ],
            "image/png": "[encoded data removed]"
          },
          "metadata": {
            "needs_background": "light"
          }
        },
        {
          "output_type": "display_data",
          "data": {
            "text/plain": [
              "<Figure size 360x216 with 1 Axes>"
            ],
            "image/png": "[encoded data removed]"
          },
          "metadata": {
            "needs_background": "light"
          }
        },
        {
          "output_type": "display_data",
          "data": {
            "text/plain": [
              "<Figure size 360x216 with 1 Axes>"
            ],
            "image/png": "[encoded data removed]"
          },
          "metadata": {
            "needs_background": "light"
          }
        },
        {
          "output_type": "display_data",
          "data": {
            "text/plain": [
              "<Figure size 360x216 with 1 Axes>"
            ],
            "image/png": "[encoded data removed]"
          },
          "metadata": {
            "needs_background": "light"
          }
        },
        {
          "output_type": "display_data",
          "data": {
            "text/plain": [
              "<Figure size 360x216 with 1 Axes>"
            ],
            "image/png": "[encoded data removed]"
          },
          "metadata": {
            "needs_background": "light"
          }
        }
      ]
    },
    {
      "cell_type": "markdown",
      "source": [
        "1. **State**: the plot showing the state CA, Nj, WA, TX, MT, MD, MV, ME, KS, OK having more churn rate so we need to concentrate more in these state \n",
        "2. **area_code**: area_code_510 having more churn rate compared to other class\n",
        "3. **account_length**: how long the account has been active = 208,23,188,225,224,222,212,2,14,178 having more churn rate\n",
        "4. **Voice plan**: voice plan having no subscribe having more churn rate\n",
        "5. **Voice.messages**:48, 44, 42, 45, 41, 0, 32,29, 35,18 having more churn rate\n",
        "6. **Intl.plan**: who are subscribe the international plan those people having more churn rate  \n",
        "8. **Intl.mins**: the people who are having 15 to 20 having more churn rate.\n",
        "9. **Intl.calls** : the people who are having total number of international calls = 20  has more churn rate\n",
        "10. **intl.charge**: the people who are having total charge of international calls = 5.5, 5,18,4.18,4.94,4.83,  having more churn rate\n",
        "11. **charge.day.mins**: minutes customer used service during the day above 250 churn rate is more\n",
        "12. **day.calls**:day calls having more churn rate at 165 and 156 \n",
        "13. **day.charge**: total charge during the day having more churn rate\n",
        "14. **eve.mins**: minutes customer used service during the evening having more churn rate\n",
        "15. **eve.calls**: total number of calls during the evening having more churn rate\n",
        "16. **eve.charge**: total charge during the evening having more churn rate\n",
        "night.mins: the people who are having used service during the night having more churn rate\n",
        "17. **night.calls**: the people who are having 152,42,158 night calls having more churn rate\n",
        "18. **night.charge**: total charge during the night calls having more churn rate\n",
        "19. **customer.calls**: number of calls to customer service the people doing 9,6,5 having more churn rate we need to improve the customer service\n"
      ],
      "metadata": {
        "id": "rux0JCUkVHd3"
      }
    },
    {
      "cell_type": "markdown",
      "source": [
        "###Multivariate analysis"
      ],
      "metadata": {
        "id": "7BYh3fEdZiM1"
      }
    },
    {
      "cell_type": "code",
      "source": [
        "data.corr()"
      ],
      "metadata": {
        "colab": {
          "base_uri": "https://localhost:8080/",
          "height": 663
        },
        "id": "28sCmynEVDpu",
        "outputId": "93102179-940d-4000-c45d-50f41d053db7"
      },
      "execution_count": 37,
      "outputs": [
        {
          "output_type": "execute_result",
          "data": {
            "text/plain": [
              "                Unnamed: 0  account.length  voice.messages  intl.mins  \\\n",
              "Unnamed: 0        1.000000       -0.012283       -0.041743   0.008058   \n",
              "account.length   -0.012283        1.000000       -0.014436   0.003942   \n",
              "voice.messages   -0.041743       -0.014436        1.000000   0.001031   \n",
              "intl.mins         0.008058        0.003942        0.001031   1.000000   \n",
              "intl.calls       -0.025876        0.015809       -0.005266   0.011303   \n",
              "intl.charge       0.008038        0.003984        0.001043   0.999991   \n",
              "night.mins       -0.009549       -0.000386        0.005328  -0.007256   \n",
              "night.calls      -0.012384       -0.008796        0.002079   0.000194   \n",
              "night.charge     -0.009524       -0.000397        0.005320  -0.007253   \n",
              "customer.calls    0.015045       -0.005526       -0.011524  -0.013309   \n",
              "churn             0.007169        0.021165       -0.098087   0.062425   \n",
              "day.mins          0.000730       -0.001026        0.005516  -0.020582   \n",
              "day.calls        -0.025128        0.028725        0.000145   0.012945   \n",
              "day.charge        0.000732       -0.001030        0.005515  -0.020588   \n",
              "eve.mins         -0.000074       -0.009994        0.019959  -0.000018   \n",
              "eve.calls         0.008705        0.009036       -0.005126  -0.007559   \n",
              "eve.charge       -0.000069       -0.009988        0.019966  -0.000026   \n",
              "\n",
              "                intl.calls  intl.charge  night.mins  night.calls  \\\n",
              "Unnamed: 0       -0.025876     0.008038   -0.009549    -0.012384   \n",
              "account.length    0.015809     0.003984   -0.000386    -0.008796   \n",
              "voice.messages   -0.005266     0.001043    0.005328     0.002079   \n",
              "intl.mins         0.011303     0.999991   -0.007256     0.000194   \n",
              "intl.calls        1.000000     0.011302   -0.014280     0.002166   \n",
              "intl.charge       0.011302     1.000000   -0.007165     0.000167   \n",
              "night.mins       -0.014280    -0.007165    1.000000     0.023231   \n",
              "night.calls       0.002166     0.000167    0.023231     1.000000   \n",
              "night.charge     -0.014249    -0.007162    0.999999     0.023203   \n",
              "customer.calls   -0.009913    -0.013387   -0.009976    -0.002010   \n",
              "churn            -0.052581     0.062393    0.046002    -0.006948   \n",
              "day.mins         -0.000177    -0.020493    0.010454     0.004289   \n",
              "day.calls         0.008074     0.013028    0.003026    -0.007114   \n",
              "day.charge       -0.000184    -0.020499    0.010454     0.004285   \n",
              "eve.mins          0.008456    -0.000021   -0.017359     0.013198   \n",
              "eve.calls         0.005622    -0.007626    0.003266    -0.014117   \n",
              "eve.charge        0.008459    -0.000029   -0.017364     0.013201   \n",
              "\n",
              "                night.charge  customer.calls     churn  day.mins  day.calls  \\\n",
              "Unnamed: 0         -0.009524        0.015045  0.007169  0.000730  -0.025128   \n",
              "account.length     -0.000397       -0.005526  0.021165 -0.001026   0.028725   \n",
              "voice.messages      0.005320       -0.011524 -0.098087  0.005516   0.000145   \n",
              "intl.mins          -0.007253       -0.013309  0.062425 -0.020582   0.012945   \n",
              "intl.calls         -0.014249       -0.009913 -0.052581 -0.000177   0.008074   \n",
              "intl.charge        -0.007162       -0.013387  0.062393 -0.020493   0.013028   \n",
              "night.mins          0.999999       -0.009976  0.046002  0.010454   0.003026   \n",
              "night.calls         0.023203       -0.002010 -0.006948  0.004289  -0.007114   \n",
              "night.charge        1.000000       -0.009972  0.046000  0.010438   0.003028   \n",
              "customer.calls     -0.009972        1.000000  0.158580  0.005376  -0.010412   \n",
              "churn               0.046000        0.158580  1.000000  0.207142   0.016669   \n",
              "day.mins            0.010438        0.005376  0.207142  1.000000  -0.000653   \n",
              "day.calls           0.003028       -0.010412  0.016669 -0.000653   1.000000   \n",
              "day.charge          0.010438        0.005371  0.207127  1.000000  -0.000649   \n",
              "eve.mins           -0.017365       -0.016452  0.088683 -0.009876  -0.000010   \n",
              "eve.calls           0.003288        0.008552 -0.007106  0.008855   0.006551   \n",
              "eve.charge         -0.017370       -0.016462  0.088681 -0.009890  -0.000005   \n",
              "\n",
              "                day.charge  eve.mins  eve.calls  eve.charge  \n",
              "Unnamed: 0        0.000732 -0.000074   0.008705   -0.000069  \n",
              "account.length   -0.001030 -0.009994   0.009036   -0.009988  \n",
              "voice.messages    0.005515  0.019959  -0.005126    0.019966  \n",
              "intl.mins        -0.020588 -0.000018  -0.007559   -0.000026  \n",
              "intl.calls       -0.000184  0.008456   0.005622    0.008459  \n",
              "intl.charge      -0.020499 -0.000021  -0.007626   -0.000029  \n",
              "night.mins        0.010454 -0.017359   0.003266   -0.017364  \n",
              "night.calls       0.004285  0.013198  -0.014117    0.013201  \n",
              "night.charge      0.010438 -0.017365   0.003288   -0.017370  \n",
              "customer.calls    0.005371 -0.016452   0.008552   -0.016462  \n",
              "churn             0.207127  0.088683  -0.007106    0.088681  \n",
              "day.mins          1.000000 -0.009876   0.008855   -0.009890  \n",
              "day.calls        -0.000649 -0.000010   0.006551   -0.000005  \n",
              "day.charge        1.000000 -0.009873   0.008855   -0.009887  \n",
              "eve.mins         -0.009873  1.000000  -0.001042    1.000000  \n",
              "eve.calls         0.008855 -0.001042   1.000000   -0.001025  \n",
              "eve.charge       -0.009887  1.000000  -0.001025    1.000000  "
            ],
            "text/html": [
              "\n",
              "  <div id=\"df-e0c9339a-f0c9-44dc-951b-d74b248c0bf0\">\n",
              "    <div class=\"colab-df-container\">\n",
              "      <div>\n",
              "<style scoped>\n",
              "    .dataframe tbody tr th:only-of-type {\n",
              "        vertical-align: middle;\n",
              "    }\n",
              "\n",
              "    .dataframe tbody tr th {\n",
              "        vertical-align: top;\n",
              "    }\n",
              "\n",
              "    .dataframe thead th {\n",
              "        text-align: right;\n",
              "    }\n",
              "</style>\n",
              "<table border=\"1\" class=\"dataframe\">\n",
              "  <thead>\n",
              "    <tr style=\"text-align: right;\">\n",
              "      <th></th>\n",
              "      <th>Unnamed: 0</th>\n",
              "      <th>account.length</th>\n",
              "      <th>voice.messages</th>\n",
              "      <th>intl.mins</th>\n",
              "      <th>intl.calls</th>\n",
              "      <th>intl.charge</th>\n",
              "      <th>night.mins</th>\n",
              "      <th>night.calls</th>\n",
              "      <th>night.charge</th>\n",
              "      <th>customer.calls</th>\n",
              "      <th>churn</th>\n",
              "      <th>day.mins</th>\n",
              "      <th>day.calls</th>\n",
              "      <th>day.charge</th>\n",
              "      <th>eve.mins</th>\n",
              "      <th>eve.calls</th>\n",
              "      <th>eve.charge</th>\n",
              "    </tr>\n",
              "  </thead>\n",
              "  <tbody>\n",
              "    <tr>\n",
              "      <th>Unnamed: 0</th>\n",
              "      <td>1.000000</td>\n",
              "      <td>-0.012283</td>\n",
              "      <td>-0.041743</td>\n",
              "      <td>0.008058</td>\n",
              "      <td>-0.025876</td>\n",
              "      <td>0.008038</td>\n",
              "      <td>-0.009549</td>\n",
              "      <td>-0.012384</td>\n",
              "      <td>-0.009524</td>\n",
              "      <td>0.015045</td>\n",
              "      <td>0.007169</td>\n",
              "      <td>0.000730</td>\n",
              "      <td>-0.025128</td>\n",
              "      <td>0.000732</td>\n",
              "      <td>-0.000074</td>\n",
              "      <td>0.008705</td>\n",
              "      <td>-0.000069</td>\n",
              "    </tr>\n",
              "    <tr>\n",
              "      <th>account.length</th>\n",
              "      <td>-0.012283</td>\n",
              "      <td>1.000000</td>\n",
              "      <td>-0.014436</td>\n",
              "      <td>0.003942</td>\n",
              "      <td>0.015809</td>\n",
              "      <td>0.003984</td>\n",
              "      <td>-0.000386</td>\n",
              "      <td>-0.008796</td>\n",
              "      <td>-0.000397</td>\n",
              "      <td>-0.005526</td>\n",
              "      <td>0.021165</td>\n",
              "      <td>-0.001026</td>\n",
              "      <td>0.028725</td>\n",
              "      <td>-0.001030</td>\n",
              "      <td>-0.009994</td>\n",
              "      <td>0.009036</td>\n",
              "      <td>-0.009988</td>\n",
              "    </tr>\n",
              "    <tr>\n",
              "      <th>voice.messages</th>\n",
              "      <td>-0.041743</td>\n",
              "      <td>-0.014436</td>\n",
              "      <td>1.000000</td>\n",
              "      <td>0.001031</td>\n",
              "      <td>-0.005266</td>\n",
              "      <td>0.001043</td>\n",
              "      <td>0.005328</td>\n",
              "      <td>0.002079</td>\n",
              "      <td>0.005320</td>\n",
              "      <td>-0.011524</td>\n",
              "      <td>-0.098087</td>\n",
              "      <td>0.005516</td>\n",
              "      <td>0.000145</td>\n",
              "      <td>0.005515</td>\n",
              "      <td>0.019959</td>\n",
              "      <td>-0.005126</td>\n",
              "      <td>0.019966</td>\n",
              "    </tr>\n",
              "    <tr>\n",
              "      <th>intl.mins</th>\n",
              "      <td>0.008058</td>\n",
              "      <td>0.003942</td>\n",
              "      <td>0.001031</td>\n",
              "      <td>1.000000</td>\n",
              "      <td>0.011303</td>\n",
              "      <td>0.999991</td>\n",
              "      <td>-0.007256</td>\n",
              "      <td>0.000194</td>\n",
              "      <td>-0.007253</td>\n",
              "      <td>-0.013309</td>\n",
              "      <td>0.062425</td>\n",
              "      <td>-0.020582</td>\n",
              "      <td>0.012945</td>\n",
              "      <td>-0.020588</td>\n",
              "      <td>-0.000018</td>\n",
              "      <td>-0.007559</td>\n",
              "      <td>-0.000026</td>\n",
              "    </tr>\n",
              "    <tr>\n",
              "      <th>intl.calls</th>\n",
              "      <td>-0.025876</td>\n",
              "      <td>0.015809</td>\n",
              "      <td>-0.005266</td>\n",
              "      <td>0.011303</td>\n",
              "      <td>1.000000</td>\n",
              "      <td>0.011302</td>\n",
              "      <td>-0.014280</td>\n",
              "      <td>0.002166</td>\n",
              "      <td>-0.014249</td>\n",
              "      <td>-0.009913</td>\n",
              "      <td>-0.052581</td>\n",
              "      <td>-0.000177</td>\n",
              "      <td>0.008074</td>\n",
              "      <td>-0.000184</td>\n",
              "      <td>0.008456</td>\n",
              "      <td>0.005622</td>\n",
              "      <td>0.008459</td>\n",
              "    </tr>\n",
              "    <tr>\n",
              "      <th>intl.charge</th>\n",
              "      <td>0.008038</td>\n",
              "      <td>0.003984</td>\n",
              "      <td>0.001043</td>\n",
              "      <td>0.999991</td>\n",
              "      <td>0.011302</td>\n",
              "      <td>1.000000</td>\n",
              "      <td>-0.007165</td>\n",
              "      <td>0.000167</td>\n",
              "      <td>-0.007162</td>\n",
              "      <td>-0.013387</td>\n",
              "      <td>0.062393</td>\n",
              "      <td>-0.020493</td>\n",
              "      <td>0.013028</td>\n",
              "      <td>-0.020499</td>\n",
              "      <td>-0.000021</td>\n",
              "      <td>-0.007626</td>\n",
              "      <td>-0.000029</td>\n",
              "    </tr>\n",
              "    <tr>\n",
              "      <th>night.mins</th>\n",
              "      <td>-0.009549</td>\n",
              "      <td>-0.000386</td>\n",
              "      <td>0.005328</td>\n",
              "      <td>-0.007256</td>\n",
              "      <td>-0.014280</td>\n",
              "      <td>-0.007165</td>\n",
              "      <td>1.000000</td>\n",
              "      <td>0.023231</td>\n",
              "      <td>0.999999</td>\n",
              "      <td>-0.009976</td>\n",
              "      <td>0.046002</td>\n",
              "      <td>0.010454</td>\n",
              "      <td>0.003026</td>\n",
              "      <td>0.010454</td>\n",
              "      <td>-0.017359</td>\n",
              "      <td>0.003266</td>\n",
              "      <td>-0.017364</td>\n",
              "    </tr>\n",
              "    <tr>\n",
              "      <th>night.calls</th>\n",
              "      <td>-0.012384</td>\n",
              "      <td>-0.008796</td>\n",
              "      <td>0.002079</td>\n",
              "      <td>0.000194</td>\n",
              "      <td>0.002166</td>\n",
              "      <td>0.000167</td>\n",
              "      <td>0.023231</td>\n",
              "      <td>1.000000</td>\n",
              "      <td>0.023203</td>\n",
              "      <td>-0.002010</td>\n",
              "      <td>-0.006948</td>\n",
              "      <td>0.004289</td>\n",
              "      <td>-0.007114</td>\n",
              "      <td>0.004285</td>\n",
              "      <td>0.013198</td>\n",
              "      <td>-0.014117</td>\n",
              "      <td>0.013201</td>\n",
              "    </tr>\n",
              "    <tr>\n",
              "      <th>night.charge</th>\n",
              "      <td>-0.009524</td>\n",
              "      <td>-0.000397</td>\n",
              "      <td>0.005320</td>\n",
              "      <td>-0.007253</td>\n",
              "      <td>-0.014249</td>\n",
              "      <td>-0.007162</td>\n",
              "      <td>0.999999</td>\n",
              "      <td>0.023203</td>\n",
              "      <td>1.000000</td>\n",
              "      <td>-0.009972</td>\n",
              "      <td>0.046000</td>\n",
              "      <td>0.010438</td>\n",
              "      <td>0.003028</td>\n",
              "      <td>0.010438</td>\n",
              "      <td>-0.017365</td>\n",
              "      <td>0.003288</td>\n",
              "      <td>-0.017370</td>\n",
              "    </tr>\n",
              "    <tr>\n",
              "      <th>customer.calls</th>\n",
              "      <td>0.015045</td>\n",
              "      <td>-0.005526</td>\n",
              "      <td>-0.011524</td>\n",
              "      <td>-0.013309</td>\n",
              "      <td>-0.009913</td>\n",
              "      <td>-0.013387</td>\n",
              "      <td>-0.009976</td>\n",
              "      <td>-0.002010</td>\n",
              "      <td>-0.009972</td>\n",
              "      <td>1.000000</td>\n",
              "      <td>0.158580</td>\n",
              "      <td>0.005376</td>\n",
              "      <td>-0.010412</td>\n",
              "      <td>0.005371</td>\n",
              "      <td>-0.016452</td>\n",
              "      <td>0.008552</td>\n",
              "      <td>-0.016462</td>\n",
              "    </tr>\n",
              "    <tr>\n",
              "      <th>churn</th>\n",
              "      <td>0.007169</td>\n",
              "      <td>0.021165</td>\n",
              "      <td>-0.098087</td>\n",
              "      <td>0.062425</td>\n",
              "      <td>-0.052581</td>\n",
              "      <td>0.062393</td>\n",
              "      <td>0.046002</td>\n",
              "      <td>-0.006948</td>\n",
              "      <td>0.046000</td>\n",
              "      <td>0.158580</td>\n",
              "      <td>1.000000</td>\n",
              "      <td>0.207142</td>\n",
              "      <td>0.016669</td>\n",
              "      <td>0.207127</td>\n",
              "      <td>0.088683</td>\n",
              "      <td>-0.007106</td>\n",
              "      <td>0.088681</td>\n",
              "    </tr>\n",
              "    <tr>\n",
              "      <th>day.mins</th>\n",
              "      <td>0.000730</td>\n",
              "      <td>-0.001026</td>\n",
              "      <td>0.005516</td>\n",
              "      <td>-0.020582</td>\n",
              "      <td>-0.000177</td>\n",
              "      <td>-0.020493</td>\n",
              "      <td>0.010454</td>\n",
              "      <td>0.004289</td>\n",
              "      <td>0.010438</td>\n",
              "      <td>0.005376</td>\n",
              "      <td>0.207142</td>\n",
              "      <td>1.000000</td>\n",
              "      <td>-0.000653</td>\n",
              "      <td>1.000000</td>\n",
              "      <td>-0.009876</td>\n",
              "      <td>0.008855</td>\n",
              "      <td>-0.009890</td>\n",
              "    </tr>\n",
              "    <tr>\n",
              "      <th>day.calls</th>\n",
              "      <td>-0.025128</td>\n",
              "      <td>0.028725</td>\n",
              "      <td>0.000145</td>\n",
              "      <td>0.012945</td>\n",
              "      <td>0.008074</td>\n",
              "      <td>0.013028</td>\n",
              "      <td>0.003026</td>\n",
              "      <td>-0.007114</td>\n",
              "      <td>0.003028</td>\n",
              "      <td>-0.010412</td>\n",
              "      <td>0.016669</td>\n",
              "      <td>-0.000653</td>\n",
              "      <td>1.000000</td>\n",
              "      <td>-0.000649</td>\n",
              "      <td>-0.000010</td>\n",
              "      <td>0.006551</td>\n",
              "      <td>-0.000005</td>\n",
              "    </tr>\n",
              "    <tr>\n",
              "      <th>day.charge</th>\n",
              "      <td>0.000732</td>\n",
              "      <td>-0.001030</td>\n",
              "      <td>0.005515</td>\n",
              "      <td>-0.020588</td>\n",
              "      <td>-0.000184</td>\n",
              "      <td>-0.020499</td>\n",
              "      <td>0.010454</td>\n",
              "      <td>0.004285</td>\n",
              "      <td>0.010438</td>\n",
              "      <td>0.005371</td>\n",
              "      <td>0.207127</td>\n",
              "      <td>1.000000</td>\n",
              "      <td>-0.000649</td>\n",
              "      <td>1.000000</td>\n",
              "      <td>-0.009873</td>\n",
              "      <td>0.008855</td>\n",
              "      <td>-0.009887</td>\n",
              "    </tr>\n",
              "    <tr>\n",
              "      <th>eve.mins</th>\n",
              "      <td>-0.000074</td>\n",
              "      <td>-0.009994</td>\n",
              "      <td>0.019959</td>\n",
              "      <td>-0.000018</td>\n",
              "      <td>0.008456</td>\n",
              "      <td>-0.000021</td>\n",
              "      <td>-0.017359</td>\n",
              "      <td>0.013198</td>\n",
              "      <td>-0.017365</td>\n",
              "      <td>-0.016452</td>\n",
              "      <td>0.088683</td>\n",
              "      <td>-0.009876</td>\n",
              "      <td>-0.000010</td>\n",
              "      <td>-0.009873</td>\n",
              "      <td>1.000000</td>\n",
              "      <td>-0.001042</td>\n",
              "      <td>1.000000</td>\n",
              "    </tr>\n",
              "    <tr>\n",
              "      <th>eve.calls</th>\n",
              "      <td>0.008705</td>\n",
              "      <td>0.009036</td>\n",
              "      <td>-0.005126</td>\n",
              "      <td>-0.007559</td>\n",
              "      <td>0.005622</td>\n",
              "      <td>-0.007626</td>\n",
              "      <td>0.003266</td>\n",
              "      <td>-0.014117</td>\n",
              "      <td>0.003288</td>\n",
              "      <td>0.008552</td>\n",
              "      <td>-0.007106</td>\n",
              "      <td>0.008855</td>\n",
              "      <td>0.006551</td>\n",
              "      <td>0.008855</td>\n",
              "      <td>-0.001042</td>\n",
              "      <td>1.000000</td>\n",
              "      <td>-0.001025</td>\n",
              "    </tr>\n",
              "    <tr>\n",
              "      <th>eve.charge</th>\n",
              "      <td>-0.000069</td>\n",
              "      <td>-0.009988</td>\n",
              "      <td>0.019966</td>\n",
              "      <td>-0.000026</td>\n",
              "      <td>0.008459</td>\n",
              "      <td>-0.000029</td>\n",
              "      <td>-0.017364</td>\n",
              "      <td>0.013201</td>\n",
              "      <td>-0.017370</td>\n",
              "      <td>-0.016462</td>\n",
              "      <td>0.088681</td>\n",
              "      <td>-0.009890</td>\n",
              "      <td>-0.000005</td>\n",
              "      <td>-0.009887</td>\n",
              "      <td>1.000000</td>\n",
              "      <td>-0.001025</td>\n",
              "      <td>1.000000</td>\n",
              "    </tr>\n",
              "  </tbody>\n",
              "</table>\n",
              "</div>\n",
              "      <button class=\"colab-df-convert\" onclick=\"convertToInteractive('df-e0c9339a-f0c9-44dc-951b-d74b248c0bf0')\"\n",
              "              title=\"Convert this dataframe to an interactive table.\"\n",
              "              style=\"display:none;\">\n",
              "        \n",
              "  <svg xmlns=\"http://www.w3.org/2000/svg\" height=\"24px\"viewBox=\"0 0 24 24\"\n",
              "       width=\"24px\">\n",
              "    <path d=\"M0 0h24v24H0V0z\" fill=\"none\"/>\n",
              "    <path d=\"M18.56 5.44l.94 2.06.94-2.06 2.06-.94-2.06-.94-.94-2.06-.94 2.06-2.06.94zm-11 1L8.5 8.5l.94-2.06 2.06-.94-2.06-.94L8.5 2.5l-.94 2.06-2.06.94zm10 10l.94 2.06.94-2.06 2.06-.94-2.06-.94-.94-2.06-.94 2.06-2.06.94z\"/><path d=\"M17.41 7.96l-1.37-1.37c-.4-.4-.92-.59-1.43-.59-.52 0-1.04.2-1.43.59L10.3 9.45l-7.72 7.72c-.78.78-.78 2.05 0 2.83L4 21.41c.39.39.9.59 1.41.59.51 0 1.02-.2 1.41-.59l7.78-7.78 2.81-2.81c.8-.78.8-2.07 0-2.86zM5.41 20L4 18.59l7.72-7.72 1.47 1.35L5.41 20z\"/>\n",
              "  </svg>\n",
              "      </button>\n",
              "      \n",
              "  <style>\n",
              "    .colab-df-container {\n",
              "      display:flex;\n",
              "      flex-wrap:wrap;\n",
              "      gap: 12px;\n",
              "    }\n",
              "\n",
              "    .colab-df-convert {\n",
              "      background-color: #E8F0FE;\n",
              "      border: none;\n",
              "      border-radius: 50%;\n",
              "      cursor: pointer;\n",
              "      display: none;\n",
              "      fill: #1967D2;\n",
              "      height: 32px;\n",
              "      padding: 0 0 0 0;\n",
              "      width: 32px;\n",
              "    }\n",
              "\n",
              "    .colab-df-convert:hover {\n",
              "      background-color: #E2EBFA;\n",
              "      box-shadow: 0px 1px 2px rgba(60, 64, 67, 0.3), 0px 1px 3px 1px rgba(60, 64, 67, 0.15);\n",
              "      fill: #174EA6;\n",
              "    }\n",
              "\n",
              "    [theme=dark] .colab-df-convert {\n",
              "      background-color: #3B4455;\n",
              "      fill: #D2E3FC;\n",
              "    }\n",
              "\n",
              "    [theme=dark] .colab-df-convert:hover {\n",
              "      background-color: #434B5C;\n",
              "      box-shadow: 0px 1px 3px 1px rgba(0, 0, 0, 0.15);\n",
              "      filter: drop-shadow(0px 1px 2px rgba(0, 0, 0, 0.3));\n",
              "      fill: #FFFFFF;\n",
              "    }\n",
              "  </style>\n",
              "\n",
              "      <script>\n",
              "        const buttonEl =\n",
              "          document.querySelector('#df-e0c9339a-f0c9-44dc-951b-d74b248c0bf0 button.colab-df-convert');\n",
              "        buttonEl.style.display =\n",
              "          google.colab.kernel.accessAllowed ? 'block' : 'none';\n",
              "\n",
              "        async function convertToInteractive(key) {\n",
              "          const element = document.querySelector('#df-e0c9339a-f0c9-44dc-951b-d74b248c0bf0');\n",
              "          const dataTable =\n",
              "            await google.colab.kernel.invokeFunction('convertToInteractive',\n",
              "                                                     [key], {});\n",
              "          if (!dataTable) return;\n",
              "\n",
              "          const docLinkHtml = 'Like what you see? Visit the ' +\n",
              "            '<a target=\"_blank\" href=https://colab.research.google.com/notebooks/data_table.ipynb>data table notebook</a>'\n",
              "            + ' to learn more about interactive tables.';\n",
              "          element.innerHTML = '';\n",
              "          dataTable['output_type'] = 'display_data';\n",
              "          await google.colab.output.renderOutput(dataTable, element);\n",
              "          const docLink = document.createElement('div');\n",
              "          docLink.innerHTML = docLinkHtml;\n",
              "          element.appendChild(docLink);\n",
              "        }\n",
              "      </script>\n",
              "    </div>\n",
              "  </div>\n",
              "  "
            ]
          },
          "metadata": {},
          "execution_count": 37
        }
      ]
    },
    {
      "cell_type": "code",
      "source": [
        "plt.figure(figsize=(16,9))\n",
        " \n",
        "sns.heatmap(data.corr(), annot = True,mask=np.triu(data.corr()))"
      ],
      "metadata": {
        "colab": {
          "base_uri": "https://localhost:8080/",
          "height": 593
        },
        "id": "kpW428L6Z0sV",
        "outputId": "e541e6a8-6726-4c0f-cc33-8c7d6973cc7c"
      },
      "execution_count": 38,
      "outputs": [
        {
          "output_type": "execute_result",
          "data": {
            "text/plain": [
              "<AxesSubplot:>"
            ]
          },
          "metadata": {},
          "execution_count": 38
        },
        {
          "output_type": "display_data",
          "data": {
            "text/plain": [
              "<Figure size 1152x648 with 2 Axes>"
            ],
            "image/png": "[encoded data removed]"
          },
          "metadata": {
            "needs_background": "light"
          }
        }
      ]
    },
    {
      "cell_type": "markdown",
      "source": [
        "above correlation show there 4 features having highly corelated so we need remove any one of the feature from the data set"
      ],
      "metadata": {
        "id": "rfkDf91QcqSv"
      }
    },
    {
      "cell_type": "code",
      "source": [
        "continuous_data = ['account.length',\n",
        "       'intl.mins', 'intl.charge',\n",
        "       'night.mins', 'night.calls', 'night.charge',\n",
        "       'day.mins', 'day.calls', 'day.charge', 'eve.mins', 'eve.calls',\n",
        "       'eve.charge']"
      ],
      "metadata": {
        "id": "CM5TmE-9gL5O"
      },
      "execution_count": 39,
      "outputs": []
    },
    {
      "cell_type": "code",
      "source": [
        "#plt.figure(figsize = (20, 20))\n",
        "#for i in enumerate(continuous_data):\n",
        "#    plt.subplot(4, 3,i[0]+1)\n",
        "#    sns.histplot(data[i[1]],kde=True)\n",
        "#    plt.xticks(rotation = 45)"
      ],
      "metadata": {
        "id": "DD_xCZhNTFYL"
      },
      "execution_count": 40,
      "outputs": []
    },
    {
      "cell_type": "code",
      "source": [
        "#sns.pairplot(data,hue=\"churn\")"
      ],
      "metadata": {
        "id": "pOd0MZ-QS-q8"
      },
      "execution_count": 41,
      "outputs": []
    },
    {
      "cell_type": "markdown",
      "source": [
        "the pairplot showing all the feature relation and data points distribution\n",
        "1. Positive correlation if x feature increases y features increases \n",
        "2. Negative correlation if x decreases y features also decreases\n",
        "3. correlation of zero implies that there is no linear relationship between X and Y\n"
      ],
      "metadata": {
        "id": "MQTK05gQsHoe"
      }
    },
    {
      "cell_type": "markdown",
      "source": [
        "#Feature Engineering"
      ],
      "metadata": {
        "id": "KgpgodL6u7o_"
      }
    },
    {
      "cell_type": "markdown",
      "source": [
        "##Encoding\n",
        "1. **onehot encoding**   \n",
        "*  **area.cod**e having 3 unique values\n",
        "*  **voice.plan** having 2 unique values \n",
        "* **intl.plan** having 2 unique values\n",
        "* **State** having 51 unique values \n",
        "\n"
      ],
      "metadata": {
        "id": "vhclTW-y365f"
      }
    },
    {
      "cell_type": "code",
      "source": [
        "data = pd.get_dummies(data,drop_first=True)"
      ],
      "metadata": {
        "id": "HT9VIFev7P7S"
      },
      "execution_count": 42,
      "outputs": []
    },
    {
      "cell_type": "markdown",
      "source": [
        "###Split the data to independent variable and dependent variable"
      ],
      "metadata": {
        "id": "4hHNGBfD6yj2"
      }
    },
    {
      "cell_type": "code",
      "source": [
        "data.head()"
      ],
      "metadata": {
        "colab": {
          "base_uri": "https://localhost:8080/",
          "height": 317
        },
        "id": "erf_JzVC5dcL",
        "outputId": "88789aba-954f-45d7-efe7-6ce49706df14"
      },
      "execution_count": 43,
      "outputs": [
        {
          "output_type": "execute_result",
          "data": {
            "text/plain": [
              "   Unnamed: 0  account.length  voice.messages  intl.mins  intl.calls  \\\n",
              "0         1.0             128            25.0       10.0         3.0   \n",
              "1         2.0             107            26.0       13.7         3.0   \n",
              "2         3.0             137             0.0       12.2         5.0   \n",
              "3         4.0              84             0.0        6.6         7.0   \n",
              "4         5.0              75             0.0       10.1         3.0   \n",
              "\n",
              "   intl.charge  night.mins  night.calls  night.charge  customer.calls  ...  \\\n",
              "0         2.70       244.7           91         11.01             1.0  ...   \n",
              "1         3.70       254.4          103         11.45             1.0  ...   \n",
              "2         3.29       162.6          104          7.32             0.0  ...   \n",
              "3         1.78       196.9           89          8.86             2.0  ...   \n",
              "4         2.73       186.9          121          8.41             3.0  ...   \n",
              "\n",
              "   state_VA  state_VT  state_WA  state_WI  state_WV  state_WY  \\\n",
              "0         0         0         0         0         0         0   \n",
              "1         0         0         0         0         0         0   \n",
              "2         0         0         0         0         0         0   \n",
              "3         0         0         0         0         0         0   \n",
              "4         0         0         0         0         0         0   \n",
              "\n",
              "   area.code_area_code_415  area.code_area_code_510  voice.plan_yes  \\\n",
              "0                        1                        0               1   \n",
              "1                        1                        0               1   \n",
              "2                        1                        0               0   \n",
              "3                        0                        0               0   \n",
              "4                        1                        0               0   \n",
              "\n",
              "   intl.plan_yes  \n",
              "0              0  \n",
              "1              0  \n",
              "2              0  \n",
              "3              1  \n",
              "4              1  \n",
              "\n",
              "[5 rows x 71 columns]"
            ],
            "text/html": [
              "\n",
              "  <div id=\"df-7e7fbafb-461d-4ac8-bf53-69358629ea45\">\n",
              "    <div class=\"colab-df-container\">\n",
              "      <div>\n",
              "<style scoped>\n",
              "    .dataframe tbody tr th:only-of-type {\n",
              "        vertical-align: middle;\n",
              "    }\n",
              "\n",
              "    .dataframe tbody tr th {\n",
              "        vertical-align: top;\n",
              "    }\n",
              "\n",
              "    .dataframe thead th {\n",
              "        text-align: right;\n",
              "    }\n",
              "</style>\n",
              "<table border=\"1\" class=\"dataframe\">\n",
              "  <thead>\n",
              "    <tr style=\"text-align: right;\">\n",
              "      <th></th>\n",
              "      <th>Unnamed: 0</th>\n",
              "      <th>account.length</th>\n",
              "      <th>voice.messages</th>\n",
              "      <th>intl.mins</th>\n",
              "      <th>intl.calls</th>\n",
              "      <th>intl.charge</th>\n",
              "      <th>night.mins</th>\n",
              "      <th>night.calls</th>\n",
              "      <th>night.charge</th>\n",
              "      <th>customer.calls</th>\n",
              "      <th>...</th>\n",
              "      <th>state_VA</th>\n",
              "      <th>state_VT</th>\n",
              "      <th>state_WA</th>\n",
              "      <th>state_WI</th>\n",
              "      <th>state_WV</th>\n",
              "      <th>state_WY</th>\n",
              "      <th>area.code_area_code_415</th>\n",
              "      <th>area.code_area_code_510</th>\n",
              "      <th>voice.plan_yes</th>\n",
              "      <th>intl.plan_yes</th>\n",
              "    </tr>\n",
              "  </thead>\n",
              "  <tbody>\n",
              "    <tr>\n",
              "      <th>0</th>\n",
              "      <td>1.0</td>\n",
              "      <td>128</td>\n",
              "      <td>25.0</td>\n",
              "      <td>10.0</td>\n",
              "      <td>3.0</td>\n",
              "      <td>2.70</td>\n",
              "      <td>244.7</td>\n",
              "      <td>91</td>\n",
              "      <td>11.01</td>\n",
              "      <td>1.0</td>\n",
              "      <td>...</td>\n",
              "      <td>0</td>\n",
              "      <td>0</td>\n",
              "      <td>0</td>\n",
              "      <td>0</td>\n",
              "      <td>0</td>\n",
              "      <td>0</td>\n",
              "      <td>1</td>\n",
              "      <td>0</td>\n",
              "      <td>1</td>\n",
              "      <td>0</td>\n",
              "    </tr>\n",
              "    <tr>\n",
              "      <th>1</th>\n",
              "      <td>2.0</td>\n",
              "      <td>107</td>\n",
              "      <td>26.0</td>\n",
              "      <td>13.7</td>\n",
              "      <td>3.0</td>\n",
              "      <td>3.70</td>\n",
              "      <td>254.4</td>\n",
              "      <td>103</td>\n",
              "      <td>11.45</td>\n",
              "      <td>1.0</td>\n",
              "      <td>...</td>\n",
              "      <td>0</td>\n",
              "      <td>0</td>\n",
              "      <td>0</td>\n",
              "      <td>0</td>\n",
              "      <td>0</td>\n",
              "      <td>0</td>\n",
              "      <td>1</td>\n",
              "      <td>0</td>\n",
              "      <td>1</td>\n",
              "      <td>0</td>\n",
              "    </tr>\n",
              "    <tr>\n",
              "      <th>2</th>\n",
              "      <td>3.0</td>\n",
              "      <td>137</td>\n",
              "      <td>0.0</td>\n",
              "      <td>12.2</td>\n",
              "      <td>5.0</td>\n",
              "      <td>3.29</td>\n",
              "      <td>162.6</td>\n",
              "      <td>104</td>\n",
              "      <td>7.32</td>\n",
              "      <td>0.0</td>\n",
              "      <td>...</td>\n",
              "      <td>0</td>\n",
              "      <td>0</td>\n",
              "      <td>0</td>\n",
              "      <td>0</td>\n",
              "      <td>0</td>\n",
              "      <td>0</td>\n",
              "      <td>1</td>\n",
              "      <td>0</td>\n",
              "      <td>0</td>\n",
              "      <td>0</td>\n",
              "    </tr>\n",
              "    <tr>\n",
              "      <th>3</th>\n",
              "      <td>4.0</td>\n",
              "      <td>84</td>\n",
              "      <td>0.0</td>\n",
              "      <td>6.6</td>\n",
              "      <td>7.0</td>\n",
              "      <td>1.78</td>\n",
              "      <td>196.9</td>\n",
              "      <td>89</td>\n",
              "      <td>8.86</td>\n",
              "      <td>2.0</td>\n",
              "      <td>...</td>\n",
              "      <td>0</td>\n",
              "      <td>0</td>\n",
              "      <td>0</td>\n",
              "      <td>0</td>\n",
              "      <td>0</td>\n",
              "      <td>0</td>\n",
              "      <td>0</td>\n",
              "      <td>0</td>\n",
              "      <td>0</td>\n",
              "      <td>1</td>\n",
              "    </tr>\n",
              "    <tr>\n",
              "      <th>4</th>\n",
              "      <td>5.0</td>\n",
              "      <td>75</td>\n",
              "      <td>0.0</td>\n",
              "      <td>10.1</td>\n",
              "      <td>3.0</td>\n",
              "      <td>2.73</td>\n",
              "      <td>186.9</td>\n",
              "      <td>121</td>\n",
              "      <td>8.41</td>\n",
              "      <td>3.0</td>\n",
              "      <td>...</td>\n",
              "      <td>0</td>\n",
              "      <td>0</td>\n",
              "      <td>0</td>\n",
              "      <td>0</td>\n",
              "      <td>0</td>\n",
              "      <td>0</td>\n",
              "      <td>1</td>\n",
              "      <td>0</td>\n",
              "      <td>0</td>\n",
              "      <td>1</td>\n",
              "    </tr>\n",
              "  </tbody>\n",
              "</table>\n",
              "<p>5 rows × 71 columns</p>\n",
              "</div>\n",
              "      <button class=\"colab-df-convert\" onclick=\"convertToInteractive('df-7e7fbafb-461d-4ac8-bf53-69358629ea45')\"\n",
              "              title=\"Convert this dataframe to an interactive table.\"\n",
              "              style=\"display:none;\">\n",
              "        \n",
              "  <svg xmlns=\"http://www.w3.org/2000/svg\" height=\"24px\"viewBox=\"0 0 24 24\"\n",
              "       width=\"24px\">\n",
              "    <path d=\"M0 0h24v24H0V0z\" fill=\"none\"/>\n",
              "    <path d=\"M18.56 5.44l.94 2.06.94-2.06 2.06-.94-2.06-.94-.94-2.06-.94 2.06-2.06.94zm-11 1L8.5 8.5l.94-2.06 2.06-.94-2.06-.94L8.5 2.5l-.94 2.06-2.06.94zm10 10l.94 2.06.94-2.06 2.06-.94-2.06-.94-.94-2.06-.94 2.06-2.06.94z\"/><path d=\"M17.41 7.96l-1.37-1.37c-.4-.4-.92-.59-1.43-.59-.52 0-1.04.2-1.43.59L10.3 9.45l-7.72 7.72c-.78.78-.78 2.05 0 2.83L4 21.41c.39.39.9.59 1.41.59.51 0 1.02-.2 1.41-.59l7.78-7.78 2.81-2.81c.8-.78.8-2.07 0-2.86zM5.41 20L4 18.59l7.72-7.72 1.47 1.35L5.41 20z\"/>\n",
              "  </svg>\n",
              "      </button>\n",
              "      \n",
              "  <style>\n",
              "    .colab-df-container {\n",
              "      display:flex;\n",
              "      flex-wrap:wrap;\n",
              "      gap: 12px;\n",
              "    }\n",
              "\n",
              "    .colab-df-convert {\n",
              "      background-color: #E8F0FE;\n",
              "      border: none;\n",
              "      border-radius: 50%;\n",
              "      cursor: pointer;\n",
              "      display: none;\n",
              "      fill: #1967D2;\n",
              "      height: 32px;\n",
              "      padding: 0 0 0 0;\n",
              "      width: 32px;\n",
              "    }\n",
              "\n",
              "    .colab-df-convert:hover {\n",
              "      background-color: #E2EBFA;\n",
              "      box-shadow: 0px 1px 2px rgba(60, 64, 67, 0.3), 0px 1px 3px 1px rgba(60, 64, 67, 0.15);\n",
              "      fill: #174EA6;\n",
              "    }\n",
              "\n",
              "    [theme=dark] .colab-df-convert {\n",
              "      background-color: #3B4455;\n",
              "      fill: #D2E3FC;\n",
              "    }\n",
              "\n",
              "    [theme=dark] .colab-df-convert:hover {\n",
              "      background-color: #434B5C;\n",
              "      box-shadow: 0px 1px 3px 1px rgba(0, 0, 0, 0.15);\n",
              "      filter: drop-shadow(0px 1px 2px rgba(0, 0, 0, 0.3));\n",
              "      fill: #FFFFFF;\n",
              "    }\n",
              "  </style>\n",
              "\n",
              "      <script>\n",
              "        const buttonEl =\n",
              "          document.querySelector('#df-7e7fbafb-461d-4ac8-bf53-69358629ea45 button.colab-df-convert');\n",
              "        buttonEl.style.display =\n",
              "          google.colab.kernel.accessAllowed ? 'block' : 'none';\n",
              "\n",
              "        async function convertToInteractive(key) {\n",
              "          const element = document.querySelector('#df-7e7fbafb-461d-4ac8-bf53-69358629ea45');\n",
              "          const dataTable =\n",
              "            await google.colab.kernel.invokeFunction('convertToInteractive',\n",
              "                                                     [key], {});\n",
              "          if (!dataTable) return;\n",
              "\n",
              "          const docLinkHtml = 'Like what you see? Visit the ' +\n",
              "            '<a target=\"_blank\" href=https://colab.research.google.com/notebooks/data_table.ipynb>data table notebook</a>'\n",
              "            + ' to learn more about interactive tables.';\n",
              "          element.innerHTML = '';\n",
              "          dataTable['output_type'] = 'display_data';\n",
              "          await google.colab.output.renderOutput(dataTable, element);\n",
              "          const docLink = document.createElement('div');\n",
              "          docLink.innerHTML = docLinkHtml;\n",
              "          element.appendChild(docLink);\n",
              "        }\n",
              "      </script>\n",
              "    </div>\n",
              "  </div>\n",
              "  "
            ]
          },
          "metadata": {},
          "execution_count": 43
        }
      ]
    },
    {
      "cell_type": "code",
      "source": [
        "x = data.drop(['churn','Unnamed: 0'],axis=1)\n",
        "y = data['churn']\n",
        "x.head()"
      ],
      "metadata": {
        "colab": {
          "base_uri": "https://localhost:8080/",
          "height": 299
        },
        "id": "MTEVd1s0151g",
        "outputId": "8dcaa4b4-e737-436e-a3e6-ed845742222b"
      },
      "execution_count": 44,
      "outputs": [
        {
          "output_type": "execute_result",
          "data": {
            "text/plain": [
              "   account.length  voice.messages  intl.mins  intl.calls  intl.charge  \\\n",
              "0             128            25.0       10.0         3.0         2.70   \n",
              "1             107            26.0       13.7         3.0         3.70   \n",
              "2             137             0.0       12.2         5.0         3.29   \n",
              "3              84             0.0        6.6         7.0         1.78   \n",
              "4              75             0.0       10.1         3.0         2.73   \n",
              "\n",
              "   night.mins  night.calls  night.charge  customer.calls  day.mins  ...  \\\n",
              "0       244.7           91         11.01             1.0     265.1  ...   \n",
              "1       254.4          103         11.45             1.0     161.6  ...   \n",
              "2       162.6          104          7.32             0.0     243.4  ...   \n",
              "3       196.9           89          8.86             2.0     299.4  ...   \n",
              "4       186.9          121          8.41             3.0     166.7  ...   \n",
              "\n",
              "   state_VA  state_VT  state_WA  state_WI  state_WV  state_WY  \\\n",
              "0         0         0         0         0         0         0   \n",
              "1         0         0         0         0         0         0   \n",
              "2         0         0         0         0         0         0   \n",
              "3         0         0         0         0         0         0   \n",
              "4         0         0         0         0         0         0   \n",
              "\n",
              "   area.code_area_code_415  area.code_area_code_510  voice.plan_yes  \\\n",
              "0                        1                        0               1   \n",
              "1                        1                        0               1   \n",
              "2                        1                        0               0   \n",
              "3                        0                        0               0   \n",
              "4                        1                        0               0   \n",
              "\n",
              "   intl.plan_yes  \n",
              "0              0  \n",
              "1              0  \n",
              "2              0  \n",
              "3              1  \n",
              "4              1  \n",
              "\n",
              "[5 rows x 69 columns]"
            ],
            "text/html": [
              "\n",
              "  <div id=\"df-93299d23-4a6a-4921-b662-04c0c0e21b33\">\n",
              "    <div class=\"colab-df-container\">\n",
              "      <div>\n",
              "<style scoped>\n",
              "    .dataframe tbody tr th:only-of-type {\n",
              "        vertical-align: middle;\n",
              "    }\n",
              "\n",
              "    .dataframe tbody tr th {\n",
              "        vertical-align: top;\n",
              "    }\n",
              "\n",
              "    .dataframe thead th {\n",
              "        text-align: right;\n",
              "    }\n",
              "</style>\n",
              "<table border=\"1\" class=\"dataframe\">\n",
              "  <thead>\n",
              "    <tr style=\"text-align: right;\">\n",
              "      <th></th>\n",
              "      <th>account.length</th>\n",
              "      <th>voice.messages</th>\n",
              "      <th>intl.mins</th>\n",
              "      <th>intl.calls</th>\n",
              "      <th>intl.charge</th>\n",
              "      <th>night.mins</th>\n",
              "      <th>night.calls</th>\n",
              "      <th>night.charge</th>\n",
              "      <th>customer.calls</th>\n",
              "      <th>day.mins</th>\n",
              "      <th>...</th>\n",
              "      <th>state_VA</th>\n",
              "      <th>state_VT</th>\n",
              "      <th>state_WA</th>\n",
              "      <th>state_WI</th>\n",
              "      <th>state_WV</th>\n",
              "      <th>state_WY</th>\n",
              "      <th>area.code_area_code_415</th>\n",
              "      <th>area.code_area_code_510</th>\n",
              "      <th>voice.plan_yes</th>\n",
              "      <th>intl.plan_yes</th>\n",
              "    </tr>\n",
              "  </thead>\n",
              "  <tbody>\n",
              "    <tr>\n",
              "      <th>0</th>\n",
              "      <td>128</td>\n",
              "      <td>25.0</td>\n",
              "      <td>10.0</td>\n",
              "      <td>3.0</td>\n",
              "      <td>2.70</td>\n",
              "      <td>244.7</td>\n",
              "      <td>91</td>\n",
              "      <td>11.01</td>\n",
              "      <td>1.0</td>\n",
              "      <td>265.1</td>\n",
              "      <td>...</td>\n",
              "      <td>0</td>\n",
              "      <td>0</td>\n",
              "      <td>0</td>\n",
              "      <td>0</td>\n",
              "      <td>0</td>\n",
              "      <td>0</td>\n",
              "      <td>1</td>\n",
              "      <td>0</td>\n",
              "      <td>1</td>\n",
              "      <td>0</td>\n",
              "    </tr>\n",
              "    <tr>\n",
              "      <th>1</th>\n",
              "      <td>107</td>\n",
              "      <td>26.0</td>\n",
              "      <td>13.7</td>\n",
              "      <td>3.0</td>\n",
              "      <td>3.70</td>\n",
              "      <td>254.4</td>\n",
              "      <td>103</td>\n",
              "      <td>11.45</td>\n",
              "      <td>1.0</td>\n",
              "      <td>161.6</td>\n",
              "      <td>...</td>\n",
              "      <td>0</td>\n",
              "      <td>0</td>\n",
              "      <td>0</td>\n",
              "      <td>0</td>\n",
              "      <td>0</td>\n",
              "      <td>0</td>\n",
              "      <td>1</td>\n",
              "      <td>0</td>\n",
              "      <td>1</td>\n",
              "      <td>0</td>\n",
              "    </tr>\n",
              "    <tr>\n",
              "      <th>2</th>\n",
              "      <td>137</td>\n",
              "      <td>0.0</td>\n",
              "      <td>12.2</td>\n",
              "      <td>5.0</td>\n",
              "      <td>3.29</td>\n",
              "      <td>162.6</td>\n",
              "      <td>104</td>\n",
              "      <td>7.32</td>\n",
              "      <td>0.0</td>\n",
              "      <td>243.4</td>\n",
              "      <td>...</td>\n",
              "      <td>0</td>\n",
              "      <td>0</td>\n",
              "      <td>0</td>\n",
              "      <td>0</td>\n",
              "      <td>0</td>\n",
              "      <td>0</td>\n",
              "      <td>1</td>\n",
              "      <td>0</td>\n",
              "      <td>0</td>\n",
              "      <td>0</td>\n",
              "    </tr>\n",
              "    <tr>\n",
              "      <th>3</th>\n",
              "      <td>84</td>\n",
              "      <td>0.0</td>\n",
              "      <td>6.6</td>\n",
              "      <td>7.0</td>\n",
              "      <td>1.78</td>\n",
              "      <td>196.9</td>\n",
              "      <td>89</td>\n",
              "      <td>8.86</td>\n",
              "      <td>2.0</td>\n",
              "      <td>299.4</td>\n",
              "      <td>...</td>\n",
              "      <td>0</td>\n",
              "      <td>0</td>\n",
              "      <td>0</td>\n",
              "      <td>0</td>\n",
              "      <td>0</td>\n",
              "      <td>0</td>\n",
              "      <td>0</td>\n",
              "      <td>0</td>\n",
              "      <td>0</td>\n",
              "      <td>1</td>\n",
              "    </tr>\n",
              "    <tr>\n",
              "      <th>4</th>\n",
              "      <td>75</td>\n",
              "      <td>0.0</td>\n",
              "      <td>10.1</td>\n",
              "      <td>3.0</td>\n",
              "      <td>2.73</td>\n",
              "      <td>186.9</td>\n",
              "      <td>121</td>\n",
              "      <td>8.41</td>\n",
              "      <td>3.0</td>\n",
              "      <td>166.7</td>\n",
              "      <td>...</td>\n",
              "      <td>0</td>\n",
              "      <td>0</td>\n",
              "      <td>0</td>\n",
              "      <td>0</td>\n",
              "      <td>0</td>\n",
              "      <td>0</td>\n",
              "      <td>1</td>\n",
              "      <td>0</td>\n",
              "      <td>0</td>\n",
              "      <td>1</td>\n",
              "    </tr>\n",
              "  </tbody>\n",
              "</table>\n",
              "<p>5 rows × 69 columns</p>\n",
              "</div>\n",
              "      <button class=\"colab-df-convert\" onclick=\"convertToInteractive('df-93299d23-4a6a-4921-b662-04c0c0e21b33')\"\n",
              "              title=\"Convert this dataframe to an interactive table.\"\n",
              "              style=\"display:none;\">\n",
              "        \n",
              "  <svg xmlns=\"http://www.w3.org/2000/svg\" height=\"24px\"viewBox=\"0 0 24 24\"\n",
              "       width=\"24px\">\n",
              "    <path d=\"M0 0h24v24H0V0z\" fill=\"none\"/>\n",
              "    <path d=\"M18.56 5.44l.94 2.06.94-2.06 2.06-.94-2.06-.94-.94-2.06-.94 2.06-2.06.94zm-11 1L8.5 8.5l.94-2.06 2.06-.94-2.06-.94L8.5 2.5l-.94 2.06-2.06.94zm10 10l.94 2.06.94-2.06 2.06-.94-2.06-.94-.94-2.06-.94 2.06-2.06.94z\"/><path d=\"M17.41 7.96l-1.37-1.37c-.4-.4-.92-.59-1.43-.59-.52 0-1.04.2-1.43.59L10.3 9.45l-7.72 7.72c-.78.78-.78 2.05 0 2.83L4 21.41c.39.39.9.59 1.41.59.51 0 1.02-.2 1.41-.59l7.78-7.78 2.81-2.81c.8-.78.8-2.07 0-2.86zM5.41 20L4 18.59l7.72-7.72 1.47 1.35L5.41 20z\"/>\n",
              "  </svg>\n",
              "      </button>\n",
              "      \n",
              "  <style>\n",
              "    .colab-df-container {\n",
              "      display:flex;\n",
              "      flex-wrap:wrap;\n",
              "      gap: 12px;\n",
              "    }\n",
              "\n",
              "    .colab-df-convert {\n",
              "      background-color: #E8F0FE;\n",
              "      border: none;\n",
              "      border-radius: 50%;\n",
              "      cursor: pointer;\n",
              "      display: none;\n",
              "      fill: #1967D2;\n",
              "      height: 32px;\n",
              "      padding: 0 0 0 0;\n",
              "      width: 32px;\n",
              "    }\n",
              "\n",
              "    .colab-df-convert:hover {\n",
              "      background-color: #E2EBFA;\n",
              "      box-shadow: 0px 1px 2px rgba(60, 64, 67, 0.3), 0px 1px 3px 1px rgba(60, 64, 67, 0.15);\n",
              "      fill: #174EA6;\n",
              "    }\n",
              "\n",
              "    [theme=dark] .colab-df-convert {\n",
              "      background-color: #3B4455;\n",
              "      fill: #D2E3FC;\n",
              "    }\n",
              "\n",
              "    [theme=dark] .colab-df-convert:hover {\n",
              "      background-color: #434B5C;\n",
              "      box-shadow: 0px 1px 3px 1px rgba(0, 0, 0, 0.15);\n",
              "      filter: drop-shadow(0px 1px 2px rgba(0, 0, 0, 0.3));\n",
              "      fill: #FFFFFF;\n",
              "    }\n",
              "  </style>\n",
              "\n",
              "      <script>\n",
              "        const buttonEl =\n",
              "          document.querySelector('#df-93299d23-4a6a-4921-b662-04c0c0e21b33 button.colab-df-convert');\n",
              "        buttonEl.style.display =\n",
              "          google.colab.kernel.accessAllowed ? 'block' : 'none';\n",
              "\n",
              "        async function convertToInteractive(key) {\n",
              "          const element = document.querySelector('#df-93299d23-4a6a-4921-b662-04c0c0e21b33');\n",
              "          const dataTable =\n",
              "            await google.colab.kernel.invokeFunction('convertToInteractive',\n",
              "                                                     [key], {});\n",
              "          if (!dataTable) return;\n",
              "\n",
              "          const docLinkHtml = 'Like what you see? Visit the ' +\n",
              "            '<a target=\"_blank\" href=https://colab.research.google.com/notebooks/data_table.ipynb>data table notebook</a>'\n",
              "            + ' to learn more about interactive tables.';\n",
              "          element.innerHTML = '';\n",
              "          dataTable['output_type'] = 'display_data';\n",
              "          await google.colab.output.renderOutput(dataTable, element);\n",
              "          const docLink = document.createElement('div');\n",
              "          docLink.innerHTML = docLinkHtml;\n",
              "          element.appendChild(docLink);\n",
              "        }\n",
              "      </script>\n",
              "    </div>\n",
              "  </div>\n",
              "  "
            ]
          },
          "metadata": {},
          "execution_count": 44
        }
      ]
    },
    {
      "cell_type": "code",
      "source": [
        "x.columns =['account_lenght', 'voice_messages', 'intl_mins', 'intl_calls',\n",
        "       'intl_charge', 'night_mins', 'night_calls', 'night_charge',\n",
        "       'customer_calls', 'day_mins', 'day_calls', 'day_charge', 'eve_mins',\n",
        "       'eve_calls', 'eve_charge', 'state_AL', 'state_AR', 'state_AZ',\n",
        "       'state_CA', 'state_CO', 'state_CT', 'state_DC', 'state_DE', 'state_FL',\n",
        "       'state_GA', 'state_HI', 'state_IA', 'state_ID', 'state_IL', 'state_IN',\n",
        "       'state_KS', 'state_KY', 'state_LA', 'state_MA', 'state_MD', 'state_ME',\n",
        "       'state_MI', 'state_MN', 'state_MO', 'state_MS', 'state_MT', 'state_NC',\n",
        "       'state_ND', 'state_NE', 'state_NH', 'state_NJ', 'state_NM', 'state_NV',\n",
        "       'state_NY', 'state_OH', 'state_OK', 'state_OR', 'state_PA', 'state_RI',\n",
        "       'state_SC', 'state_SD', 'state_TN', 'state_TX', 'state_UT', 'state_VA',\n",
        "       'state_VT', 'state_WA', 'state_WI', 'state_WV', 'state_WY',\n",
        "       'area.code_area_code_415', 'area.code_area_code_510', 'voice.plan_yes',\n",
        "       'intl.plan_yes']"
      ],
      "metadata": {
        "id": "eLhpVZaEXFsz"
      },
      "execution_count": 45,
      "outputs": []
    },
    {
      "cell_type": "code",
      "source": [
        "x.head()"
      ],
      "metadata": {
        "colab": {
          "base_uri": "https://localhost:8080/",
          "height": 299
        },
        "id": "3oSnRoDIX_38",
        "outputId": "ad378d6c-9b82-4be8-c57c-daf161d54581"
      },
      "execution_count": 46,
      "outputs": [
        {
          "output_type": "execute_result",
          "data": {
            "text/plain": [
              "   account_lenght  voice_messages  intl_mins  intl_calls  intl_charge  \\\n",
              "0             128            25.0       10.0         3.0         2.70   \n",
              "1             107            26.0       13.7         3.0         3.70   \n",
              "2             137             0.0       12.2         5.0         3.29   \n",
              "3              84             0.0        6.6         7.0         1.78   \n",
              "4              75             0.0       10.1         3.0         2.73   \n",
              "\n",
              "   night_mins  night_calls  night_charge  customer_calls  day_mins  ...  \\\n",
              "0       244.7           91         11.01             1.0     265.1  ...   \n",
              "1       254.4          103         11.45             1.0     161.6  ...   \n",
              "2       162.6          104          7.32             0.0     243.4  ...   \n",
              "3       196.9           89          8.86             2.0     299.4  ...   \n",
              "4       186.9          121          8.41             3.0     166.7  ...   \n",
              "\n",
              "   state_VA  state_VT  state_WA  state_WI  state_WV  state_WY  \\\n",
              "0         0         0         0         0         0         0   \n",
              "1         0         0         0         0         0         0   \n",
              "2         0         0         0         0         0         0   \n",
              "3         0         0         0         0         0         0   \n",
              "4         0         0         0         0         0         0   \n",
              "\n",
              "   area.code_area_code_415  area.code_area_code_510  voice.plan_yes  \\\n",
              "0                        1                        0               1   \n",
              "1                        1                        0               1   \n",
              "2                        1                        0               0   \n",
              "3                        0                        0               0   \n",
              "4                        1                        0               0   \n",
              "\n",
              "   intl.plan_yes  \n",
              "0              0  \n",
              "1              0  \n",
              "2              0  \n",
              "3              1  \n",
              "4              1  \n",
              "\n",
              "[5 rows x 69 columns]"
            ],
            "text/html": [
              "\n",
              "  <div id=\"df-81ba1ce9-a444-418b-b4c9-64565b4f07d7\">\n",
              "    <div class=\"colab-df-container\">\n",
              "      <div>\n",
              "<style scoped>\n",
              "    .dataframe tbody tr th:only-of-type {\n",
              "        vertical-align: middle;\n",
              "    }\n",
              "\n",
              "    .dataframe tbody tr th {\n",
              "        vertical-align: top;\n",
              "    }\n",
              "\n",
              "    .dataframe thead th {\n",
              "        text-align: right;\n",
              "    }\n",
              "</style>\n",
              "<table border=\"1\" class=\"dataframe\">\n",
              "  <thead>\n",
              "    <tr style=\"text-align: right;\">\n",
              "      <th></th>\n",
              "      <th>account_lenght</th>\n",
              "      <th>voice_messages</th>\n",
              "      <th>intl_mins</th>\n",
              "      <th>intl_calls</th>\n",
              "      <th>intl_charge</th>\n",
              "      <th>night_mins</th>\n",
              "      <th>night_calls</th>\n",
              "      <th>night_charge</th>\n",
              "      <th>customer_calls</th>\n",
              "      <th>day_mins</th>\n",
              "      <th>...</th>\n",
              "      <th>state_VA</th>\n",
              "      <th>state_VT</th>\n",
              "      <th>state_WA</th>\n",
              "      <th>state_WI</th>\n",
              "      <th>state_WV</th>\n",
              "      <th>state_WY</th>\n",
              "      <th>area.code_area_code_415</th>\n",
              "      <th>area.code_area_code_510</th>\n",
              "      <th>voice.plan_yes</th>\n",
              "      <th>intl.plan_yes</th>\n",
              "    </tr>\n",
              "  </thead>\n",
              "  <tbody>\n",
              "    <tr>\n",
              "      <th>0</th>\n",
              "      <td>128</td>\n",
              "      <td>25.0</td>\n",
              "      <td>10.0</td>\n",
              "      <td>3.0</td>\n",
              "      <td>2.70</td>\n",
              "      <td>244.7</td>\n",
              "      <td>91</td>\n",
              "      <td>11.01</td>\n",
              "      <td>1.0</td>\n",
              "      <td>265.1</td>\n",
              "      <td>...</td>\n",
              "      <td>0</td>\n",
              "      <td>0</td>\n",
              "      <td>0</td>\n",
              "      <td>0</td>\n",
              "      <td>0</td>\n",
              "      <td>0</td>\n",
              "      <td>1</td>\n",
              "      <td>0</td>\n",
              "      <td>1</td>\n",
              "      <td>0</td>\n",
              "    </tr>\n",
              "    <tr>\n",
              "      <th>1</th>\n",
              "      <td>107</td>\n",
              "      <td>26.0</td>\n",
              "      <td>13.7</td>\n",
              "      <td>3.0</td>\n",
              "      <td>3.70</td>\n",
              "      <td>254.4</td>\n",
              "      <td>103</td>\n",
              "      <td>11.45</td>\n",
              "      <td>1.0</td>\n",
              "      <td>161.6</td>\n",
              "      <td>...</td>\n",
              "      <td>0</td>\n",
              "      <td>0</td>\n",
              "      <td>0</td>\n",
              "      <td>0</td>\n",
              "      <td>0</td>\n",
              "      <td>0</td>\n",
              "      <td>1</td>\n",
              "      <td>0</td>\n",
              "      <td>1</td>\n",
              "      <td>0</td>\n",
              "    </tr>\n",
              "    <tr>\n",
              "      <th>2</th>\n",
              "      <td>137</td>\n",
              "      <td>0.0</td>\n",
              "      <td>12.2</td>\n",
              "      <td>5.0</td>\n",
              "      <td>3.29</td>\n",
              "      <td>162.6</td>\n",
              "      <td>104</td>\n",
              "      <td>7.32</td>\n",
              "      <td>0.0</td>\n",
              "      <td>243.4</td>\n",
              "      <td>...</td>\n",
              "      <td>0</td>\n",
              "      <td>0</td>\n",
              "      <td>0</td>\n",
              "      <td>0</td>\n",
              "      <td>0</td>\n",
              "      <td>0</td>\n",
              "      <td>1</td>\n",
              "      <td>0</td>\n",
              "      <td>0</td>\n",
              "      <td>0</td>\n",
              "    </tr>\n",
              "    <tr>\n",
              "      <th>3</th>\n",
              "      <td>84</td>\n",
              "      <td>0.0</td>\n",
              "      <td>6.6</td>\n",
              "      <td>7.0</td>\n",
              "      <td>1.78</td>\n",
              "      <td>196.9</td>\n",
              "      <td>89</td>\n",
              "      <td>8.86</td>\n",
              "      <td>2.0</td>\n",
              "      <td>299.4</td>\n",
              "      <td>...</td>\n",
              "      <td>0</td>\n",
              "      <td>0</td>\n",
              "      <td>0</td>\n",
              "      <td>0</td>\n",
              "      <td>0</td>\n",
              "      <td>0</td>\n",
              "      <td>0</td>\n",
              "      <td>0</td>\n",
              "      <td>0</td>\n",
              "      <td>1</td>\n",
              "    </tr>\n",
              "    <tr>\n",
              "      <th>4</th>\n",
              "      <td>75</td>\n",
              "      <td>0.0</td>\n",
              "      <td>10.1</td>\n",
              "      <td>3.0</td>\n",
              "      <td>2.73</td>\n",
              "      <td>186.9</td>\n",
              "      <td>121</td>\n",
              "      <td>8.41</td>\n",
              "      <td>3.0</td>\n",
              "      <td>166.7</td>\n",
              "      <td>...</td>\n",
              "      <td>0</td>\n",
              "      <td>0</td>\n",
              "      <td>0</td>\n",
              "      <td>0</td>\n",
              "      <td>0</td>\n",
              "      <td>0</td>\n",
              "      <td>1</td>\n",
              "      <td>0</td>\n",
              "      <td>0</td>\n",
              "      <td>1</td>\n",
              "    </tr>\n",
              "  </tbody>\n",
              "</table>\n",
              "<p>5 rows × 69 columns</p>\n",
              "</div>\n",
              "      <button class=\"colab-df-convert\" onclick=\"convertToInteractive('df-81ba1ce9-a444-418b-b4c9-64565b4f07d7')\"\n",
              "              title=\"Convert this dataframe to an interactive table.\"\n",
              "              style=\"display:none;\">\n",
              "        \n",
              "  <svg xmlns=\"http://www.w3.org/2000/svg\" height=\"24px\"viewBox=\"0 0 24 24\"\n",
              "       width=\"24px\">\n",
              "    <path d=\"M0 0h24v24H0V0z\" fill=\"none\"/>\n",
              "    <path d=\"M18.56 5.44l.94 2.06.94-2.06 2.06-.94-2.06-.94-.94-2.06-.94 2.06-2.06.94zm-11 1L8.5 8.5l.94-2.06 2.06-.94-2.06-.94L8.5 2.5l-.94 2.06-2.06.94zm10 10l.94 2.06.94-2.06 2.06-.94-2.06-.94-.94-2.06-.94 2.06-2.06.94z\"/><path d=\"M17.41 7.96l-1.37-1.37c-.4-.4-.92-.59-1.43-.59-.52 0-1.04.2-1.43.59L10.3 9.45l-7.72 7.72c-.78.78-.78 2.05 0 2.83L4 21.41c.39.39.9.59 1.41.59.51 0 1.02-.2 1.41-.59l7.78-7.78 2.81-2.81c.8-.78.8-2.07 0-2.86zM5.41 20L4 18.59l7.72-7.72 1.47 1.35L5.41 20z\"/>\n",
              "  </svg>\n",
              "      </button>\n",
              "      \n",
              "  <style>\n",
              "    .colab-df-container {\n",
              "      display:flex;\n",
              "      flex-wrap:wrap;\n",
              "      gap: 12px;\n",
              "    }\n",
              "\n",
              "    .colab-df-convert {\n",
              "      background-color: #E8F0FE;\n",
              "      border: none;\n",
              "      border-radius: 50%;\n",
              "      cursor: pointer;\n",
              "      display: none;\n",
              "      fill: #1967D2;\n",
              "      height: 32px;\n",
              "      padding: 0 0 0 0;\n",
              "      width: 32px;\n",
              "    }\n",
              "\n",
              "    .colab-df-convert:hover {\n",
              "      background-color: #E2EBFA;\n",
              "      box-shadow: 0px 1px 2px rgba(60, 64, 67, 0.3), 0px 1px 3px 1px rgba(60, 64, 67, 0.15);\n",
              "      fill: #174EA6;\n",
              "    }\n",
              "\n",
              "    [theme=dark] .colab-df-convert {\n",
              "      background-color: #3B4455;\n",
              "      fill: #D2E3FC;\n",
              "    }\n",
              "\n",
              "    [theme=dark] .colab-df-convert:hover {\n",
              "      background-color: #434B5C;\n",
              "      box-shadow: 0px 1px 3px 1px rgba(0, 0, 0, 0.15);\n",
              "      filter: drop-shadow(0px 1px 2px rgba(0, 0, 0, 0.3));\n",
              "      fill: #FFFFFF;\n",
              "    }\n",
              "  </style>\n",
              "\n",
              "      <script>\n",
              "        const buttonEl =\n",
              "          document.querySelector('#df-81ba1ce9-a444-418b-b4c9-64565b4f07d7 button.colab-df-convert');\n",
              "        buttonEl.style.display =\n",
              "          google.colab.kernel.accessAllowed ? 'block' : 'none';\n",
              "\n",
              "        async function convertToInteractive(key) {\n",
              "          const element = document.querySelector('#df-81ba1ce9-a444-418b-b4c9-64565b4f07d7');\n",
              "          const dataTable =\n",
              "            await google.colab.kernel.invokeFunction('convertToInteractive',\n",
              "                                                     [key], {});\n",
              "          if (!dataTable) return;\n",
              "\n",
              "          const docLinkHtml = 'Like what you see? Visit the ' +\n",
              "            '<a target=\"_blank\" href=https://colab.research.google.com/notebooks/data_table.ipynb>data table notebook</a>'\n",
              "            + ' to learn more about interactive tables.';\n",
              "          element.innerHTML = '';\n",
              "          dataTable['output_type'] = 'display_data';\n",
              "          await google.colab.output.renderOutput(dataTable, element);\n",
              "          const docLink = document.createElement('div');\n",
              "          docLink.innerHTML = docLinkHtml;\n",
              "          element.appendChild(docLink);\n",
              "        }\n",
              "      </script>\n",
              "    </div>\n",
              "  </div>\n",
              "  "
            ]
          },
          "metadata": {},
          "execution_count": 46
        }
      ]
    },
    {
      "cell_type": "code",
      "source": [
        "sns.countplot(x=data.churn);"
      ],
      "metadata": {
        "id": "FLyOmycbupAe",
        "colab": {
          "base_uri": "https://localhost:8080/",
          "height": 279
        },
        "outputId": "c6870a89-4862-4780-b713-2d0e00e4ddf1"
      },
      "execution_count": 47,
      "outputs": [
        {
          "output_type": "display_data",
          "data": {
            "text/plain": [
              "<Figure size 432x288 with 1 Axes>"
            ],
            "image/png": "[encoded data removed]"
          },
          "metadata": {
            "needs_background": "light"
          }
        }
      ]
    },
    {
      "cell_type": "markdown",
      "source": [
        "Target variable having imbalce so we need to Balance data by SMOTE method to Up sampling becouse data set is small"
      ],
      "metadata": {
        "id": "GEHe0vvm1YbZ"
      }
    },
    {
      "cell_type": "code",
      "source": [
        "from imblearn.over_sampling import SMOTE\n",
        "sm = SMOTE(random_state=42)\n",
        "x_balance, y_balance = sm.fit_resample(x, y)"
      ],
      "metadata": {
        "id": "buQMSTuQ1oeQ"
      },
      "execution_count": 48,
      "outputs": []
    },
    {
      "cell_type": "code",
      "source": [
        "sns.countplot(y_balance)"
      ],
      "metadata": {
        "id": "KZ4VvHUZ-k9B",
        "colab": {
          "base_uri": "https://localhost:8080/",
          "height": 296
        },
        "outputId": "156c1cc4-d615-48c8-fa03-6f434bfa8dbd"
      },
      "execution_count": 49,
      "outputs": [
        {
          "output_type": "execute_result",
          "data": {
            "text/plain": [
              "<AxesSubplot:xlabel='churn', ylabel='count'>"
            ]
          },
          "metadata": {},
          "execution_count": 49
        },
        {
          "output_type": "display_data",
          "data": {
            "text/plain": [
              "<Figure size 432x288 with 1 Axes>"
            ],
            "image/png": "[encoded data removed]"
          },
          "metadata": {
            "needs_background": "light"
          }
        }
      ]
    },
    {
      "cell_type": "markdown",
      "source": [
        "##Spliting the data to Test and Train"
      ],
      "metadata": {
        "id": "zY_sZLWo2mjP"
      }
    },
    {
      "cell_type": "code",
      "source": [
        "from sklearn.model_selection import train_test_split\n",
        "x_train,x_test,y_train,y_test = train_test_split(x_balance,y_balance,test_size=0.2,random_state=42)"
      ],
      "metadata": {
        "id": "XXgol15f154o"
      },
      "execution_count": 50,
      "outputs": []
    },
    {
      "cell_type": "markdown",
      "source": [
        "#Model Building"
      ],
      "metadata": {
        "id": "U0UfEit_AWv3"
      }
    },
    {
      "cell_type": "code",
      "source": [
        "from sklearn.linear_model import LogisticRegression\n",
        "from sklearn.naive_bayes import GaussianNB\n",
        "from sklearn.naive_bayes import BernoulliNB\n",
        "from sklearn.svm import SVC\n",
        "from sklearn.neighbors import KNeighborsClassifier\n",
        "from sklearn.tree import DecisionTreeClassifier\n",
        "from sklearn.ensemble import RandomForestClassifier\n",
        "from xgboost import XGBClassifier\n",
        "\n",
        "g=GaussianNB()\n",
        "b=BernoulliNB()\n",
        "KN=KNeighborsClassifier()\n",
        "SVC=SVC() \n",
        "D=DecisionTreeClassifier()\n",
        "R=RandomForestClassifier()\n",
        "Log=LogisticRegression()\n",
        "XGB=XGBClassifier()"
      ],
      "metadata": {
        "id": "-MVnFOd-ASt8"
      },
      "execution_count": 51,
      "outputs": []
    },
    {
      "cell_type": "code",
      "source": [
        "algos=[g,b,KN,SVC,D,R,Log,XGB]"
      ],
      "metadata": {
        "id": "6hhn5P6EASwj"
      },
      "execution_count": 52,
      "outputs": []
    },
    {
      "cell_type": "code",
      "source": [
        "algo_names=['GaussianNB','BernoulliNB','KNeighborsClassifier','SVC','DecisionTreeClassifier','RandomForestClassifier','LogisticRegression','XGBClassifier']"
      ],
      "metadata": {
        "id": "LeX9mSAVASzV"
      },
      "execution_count": 53,
      "outputs": []
    },
    {
      "cell_type": "code",
      "source": [
        "from sklearn.metrics import accuracy_score,precision_score,recall_score,f1_score\n",
        "from sklearn.metrics import confusion_matrix,classification_report\n",
        "\n",
        "accuracy_scored=[]\n",
        "precision_scored=[]\n",
        "recall_scored=[]\n",
        "f1_scored=[]\n",
        "for item in algos:\n",
        "  item.fit(x_train,y_train)\n",
        "  item.predict(x_test)\n",
        "  accuracy_scored.append(accuracy_score(y_test,item.predict(x_test)))\n",
        "  precision_scored.append(precision_score(y_test,item.predict(x_test)))\n",
        "  recall_scored.append(recall_score(y_test,item.predict(x_test)))\n",
        "  f1_scored.append(f1_score(y_test,item.predict(x_test)))\n",
        "    "
      ],
      "metadata": {
        "id": "Cm88x0K2A7bm"
      },
      "execution_count": 54,
      "outputs": []
    },
    {
      "cell_type": "code",
      "source": [
        "# create dataframe with results\n",
        "result=pd.DataFrame(columns=['f1_score','recall_score','precision_score','accuracy_score'],index=algo_names)\n",
        "result['f1_score']=f1_scored\n",
        "result['recall_score']=recall_scored\n",
        "result['precision_score']=precision_scored\n",
        "result['accuracy_score']=accuracy_scored\n",
        "result.sort_values('accuracy_score',ascending=False)"
      ],
      "metadata": {
        "id": "7FuKaaUnCDE3",
        "colab": {
          "base_uri": "https://localhost:8080/",
          "height": 300
        },
        "outputId": "ea8cf1ba-a61b-455a-884b-ef4581576532"
      },
      "execution_count": 55,
      "outputs": [
        {
          "output_type": "execute_result",
          "data": {
            "text/plain": [
              "                        f1_score  recall_score  precision_score  \\\n",
              "XGBClassifier           0.977573      0.972540         0.982659   \n",
              "RandomForestClassifier  0.951434      0.930206         0.973653   \n",
              "DecisionTreeClassifier  0.933559      0.948513         0.919069   \n",
              "GaussianNB              0.884826      0.830664         0.946545   \n",
              "BernoulliNB             0.837374      0.810069         0.866585   \n",
              "KNeighborsClassifier    0.858586      0.972540         0.768535   \n",
              "LogisticRegression      0.700115      0.694508         0.705814   \n",
              "SVC                     0.589273      0.458810         0.823409   \n",
              "\n",
              "                        accuracy_score  \n",
              "XGBClassifier                 0.977299  \n",
              "RandomForestClassifier        0.951688  \n",
              "DecisionTreeClassifier        0.931315  \n",
              "GaussianNB                    0.889988  \n",
              "BernoulliNB                   0.839930  \n",
              "KNeighborsClassifier          0.837020  \n",
              "LogisticRegression            0.697322  \n",
              "SVC                           0.674622  "
            ],
            "text/html": [
              "\n",
              "  <div id=\"df-00eaf387-8bdc-4df6-93c5-c03c4f3cd26b\">\n",
              "    <div class=\"colab-df-container\">\n",
              "      <div>\n",
              "<style scoped>\n",
              "    .dataframe tbody tr th:only-of-type {\n",
              "        vertical-align: middle;\n",
              "    }\n",
              "\n",
              "    .dataframe tbody tr th {\n",
              "        vertical-align: top;\n",
              "    }\n",
              "\n",
              "    .dataframe thead th {\n",
              "        text-align: right;\n",
              "    }\n",
              "</style>\n",
              "<table border=\"1\" class=\"dataframe\">\n",
              "  <thead>\n",
              "    <tr style=\"text-align: right;\">\n",
              "      <th></th>\n",
              "      <th>f1_score</th>\n",
              "      <th>recall_score</th>\n",
              "      <th>precision_score</th>\n",
              "      <th>accuracy_score</th>\n",
              "    </tr>\n",
              "  </thead>\n",
              "  <tbody>\n",
              "    <tr>\n",
              "      <th>XGBClassifier</th>\n",
              "      <td>0.977573</td>\n",
              "      <td>0.972540</td>\n",
              "      <td>0.982659</td>\n",
              "      <td>0.977299</td>\n",
              "    </tr>\n",
              "    <tr>\n",
              "      <th>RandomForestClassifier</th>\n",
              "      <td>0.951434</td>\n",
              "      <td>0.930206</td>\n",
              "      <td>0.973653</td>\n",
              "      <td>0.951688</td>\n",
              "    </tr>\n",
              "    <tr>\n",
              "      <th>DecisionTreeClassifier</th>\n",
              "      <td>0.933559</td>\n",
              "      <td>0.948513</td>\n",
              "      <td>0.919069</td>\n",
              "      <td>0.931315</td>\n",
              "    </tr>\n",
              "    <tr>\n",
              "      <th>GaussianNB</th>\n",
              "      <td>0.884826</td>\n",
              "      <td>0.830664</td>\n",
              "      <td>0.946545</td>\n",
              "      <td>0.889988</td>\n",
              "    </tr>\n",
              "    <tr>\n",
              "      <th>BernoulliNB</th>\n",
              "      <td>0.837374</td>\n",
              "      <td>0.810069</td>\n",
              "      <td>0.866585</td>\n",
              "      <td>0.839930</td>\n",
              "    </tr>\n",
              "    <tr>\n",
              "      <th>KNeighborsClassifier</th>\n",
              "      <td>0.858586</td>\n",
              "      <td>0.972540</td>\n",
              "      <td>0.768535</td>\n",
              "      <td>0.837020</td>\n",
              "    </tr>\n",
              "    <tr>\n",
              "      <th>LogisticRegression</th>\n",
              "      <td>0.700115</td>\n",
              "      <td>0.694508</td>\n",
              "      <td>0.705814</td>\n",
              "      <td>0.697322</td>\n",
              "    </tr>\n",
              "    <tr>\n",
              "      <th>SVC</th>\n",
              "      <td>0.589273</td>\n",
              "      <td>0.458810</td>\n",
              "      <td>0.823409</td>\n",
              "      <td>0.674622</td>\n",
              "    </tr>\n",
              "  </tbody>\n",
              "</table>\n",
              "</div>\n",
              "      <button class=\"colab-df-convert\" onclick=\"convertToInteractive('df-00eaf387-8bdc-4df6-93c5-c03c4f3cd26b')\"\n",
              "              title=\"Convert this dataframe to an interactive table.\"\n",
              "              style=\"display:none;\">\n",
              "        \n",
              "  <svg xmlns=\"http://www.w3.org/2000/svg\" height=\"24px\"viewBox=\"0 0 24 24\"\n",
              "       width=\"24px\">\n",
              "    <path d=\"M0 0h24v24H0V0z\" fill=\"none\"/>\n",
              "    <path d=\"M18.56 5.44l.94 2.06.94-2.06 2.06-.94-2.06-.94-.94-2.06-.94 2.06-2.06.94zm-11 1L8.5 8.5l.94-2.06 2.06-.94-2.06-.94L8.5 2.5l-.94 2.06-2.06.94zm10 10l.94 2.06.94-2.06 2.06-.94-2.06-.94-.94-2.06-.94 2.06-2.06.94z\"/><path d=\"M17.41 7.96l-1.37-1.37c-.4-.4-.92-.59-1.43-.59-.52 0-1.04.2-1.43.59L10.3 9.45l-7.72 7.72c-.78.78-.78 2.05 0 2.83L4 21.41c.39.39.9.59 1.41.59.51 0 1.02-.2 1.41-.59l7.78-7.78 2.81-2.81c.8-.78.8-2.07 0-2.86zM5.41 20L4 18.59l7.72-7.72 1.47 1.35L5.41 20z\"/>\n",
              "  </svg>\n",
              "      </button>\n",
              "      \n",
              "  <style>\n",
              "    .colab-df-container {\n",
              "      display:flex;\n",
              "      flex-wrap:wrap;\n",
              "      gap: 12px;\n",
              "    }\n",
              "\n",
              "    .colab-df-convert {\n",
              "      background-color: #E8F0FE;\n",
              "      border: none;\n",
              "      border-radius: 50%;\n",
              "      cursor: pointer;\n",
              "      display: none;\n",
              "      fill: #1967D2;\n",
              "      height: 32px;\n",
              "      padding: 0 0 0 0;\n",
              "      width: 32px;\n",
              "    }\n",
              "\n",
              "    .colab-df-convert:hover {\n",
              "      background-color: #E2EBFA;\n",
              "      box-shadow: 0px 1px 2px rgba(60, 64, 67, 0.3), 0px 1px 3px 1px rgba(60, 64, 67, 0.15);\n",
              "      fill: #174EA6;\n",
              "    }\n",
              "\n",
              "    [theme=dark] .colab-df-convert {\n",
              "      background-color: #3B4455;\n",
              "      fill: #D2E3FC;\n",
              "    }\n",
              "\n",
              "    [theme=dark] .colab-df-convert:hover {\n",
              "      background-color: #434B5C;\n",
              "      box-shadow: 0px 1px 3px 1px rgba(0, 0, 0, 0.15);\n",
              "      filter: drop-shadow(0px 1px 2px rgba(0, 0, 0, 0.3));\n",
              "      fill: #FFFFFF;\n",
              "    }\n",
              "  </style>\n",
              "\n",
              "      <script>\n",
              "        const buttonEl =\n",
              "          document.querySelector('#df-00eaf387-8bdc-4df6-93c5-c03c4f3cd26b button.colab-df-convert');\n",
              "        buttonEl.style.display =\n",
              "          google.colab.kernel.accessAllowed ? 'block' : 'none';\n",
              "\n",
              "        async function convertToInteractive(key) {\n",
              "          const element = document.querySelector('#df-00eaf387-8bdc-4df6-93c5-c03c4f3cd26b');\n",
              "          const dataTable =\n",
              "            await google.colab.kernel.invokeFunction('convertToInteractive',\n",
              "                                                     [key], {});\n",
              "          if (!dataTable) return;\n",
              "\n",
              "          const docLinkHtml = 'Like what you see? Visit the ' +\n",
              "            '<a target=\"_blank\" href=https://colab.research.google.com/notebooks/data_table.ipynb>data table notebook</a>'\n",
              "            + ' to learn more about interactive tables.';\n",
              "          element.innerHTML = '';\n",
              "          dataTable['output_type'] = 'display_data';\n",
              "          await google.colab.output.renderOutput(dataTable, element);\n",
              "          const docLink = document.createElement('div');\n",
              "          docLink.innerHTML = docLinkHtml;\n",
              "          element.appendChild(docLink);\n",
              "        }\n",
              "      </script>\n",
              "    </div>\n",
              "  </div>\n",
              "  "
            ]
          },
          "metadata": {},
          "execution_count": 55
        }
      ]
    },
    {
      "cell_type": "markdown",
      "source": [
        "XGBClassifier, RandomForestClassifier, DecisionTreeClassifier are 3 Top \n",
        "machine learning model are the best models for this dataset\n",
        "* The best result scored the XGBClassifier with f1: 0.97%, recall: 97%, precision: 98% and accuracy score: 97%"
      ],
      "metadata": {
        "id": "xjiI3IgtDOLV"
      }
    },
    {
      "cell_type": "markdown",
      "source": [
        "**Conclusions**\n",
        "\n",
        "We can definitely suggest to prevent churn :\n",
        "1. Implmenting a better network infrastructure in the Area_code_510 becouse it has high churn rate\n",
        "2. updating network to improve services for long duration users.\n",
        "3. updating the best Pricing Strategies for voice plan, massage plan.\n",
        "4. Updating Internationall Call Rates.\n",
        "5. Implmenting a better network infrastructure in in high churn rate Areas\n",
        "6. Upgrading their services when in emegenvy only in evening period as low network traffic."
      ],
      "metadata": {
        "id": "SyOMKyrtMdgd"
      }
    },
    {
      "cell_type": "markdown",
      "source": [
        "#Pickling the model"
      ],
      "metadata": {
        "id": "Q56rrLhiP6N8"
      }
    },
    {
      "cell_type": "code",
      "source": [
        "import pickle"
      ],
      "metadata": {
        "id": "ikdLNF1FP5Lu"
      },
      "execution_count": 56,
      "outputs": []
    },
    {
      "cell_type": "code",
      "source": [
        "filename = 'model.sav'"
      ],
      "metadata": {
        "id": "Haxf0n4IP5OU"
      },
      "execution_count": 57,
      "outputs": []
    },
    {
      "cell_type": "code",
      "source": [
        "pickle.dump(XGB, open(filename, 'wb'))"
      ],
      "metadata": {
        "id": "ovOt3KwdP5Qw"
      },
      "execution_count": 58,
      "outputs": []
    },
    {
      "cell_type": "code",
      "source": [
        "load_model = pickle.load(open(filename, 'rb'))"
      ],
      "metadata": {
        "id": "cA-1dio2P5Ru"
      },
      "execution_count": 59,
      "outputs": []
    },
    {
      "cell_type": "code",
      "source": [
        "model_score_r1 = load_model.score(x_train, y_train)"
      ],
      "metadata": {
        "id": "-zq8gIWZPUmk"
      },
      "execution_count": 60,
      "outputs": []
    },
    {
      "cell_type": "code",
      "source": [
        "model_score_r1"
      ],
      "metadata": {
        "id": "bvV2yAlKQMmc",
        "colab": {
          "base_uri": "https://localhost:8080/"
        },
        "outputId": "ed7a5f39-59f0-4836-ca5f-0756dfb89529"
      },
      "execution_count": 61,
      "outputs": [
        {
          "output_type": "execute_result",
          "data": {
            "text/plain": [
              "0.9983983692486895"
            ]
          },
          "metadata": {},
          "execution_count": 61
        }
      ]
    },
    {
      "cell_type": "code",
      "source": [
        "model_score_r3 = load_model.score(x_test, y_test)"
      ],
      "metadata": {
        "id": "V_5AeL6CQMnd"
      },
      "execution_count": 62,
      "outputs": []
    },
    {
      "cell_type": "code",
      "source": [
        "model_score_r3"
      ],
      "metadata": {
        "id": "_R2rJy68RAGd",
        "colab": {
          "base_uri": "https://localhost:8080/"
        },
        "outputId": "748eb1bc-ec76-4617-8ffa-0e185f7e2442"
      },
      "execution_count": 63,
      "outputs": [
        {
          "output_type": "execute_result",
          "data": {
            "text/plain": [
              "0.9772991850989523"
            ]
          },
          "metadata": {},
          "execution_count": 63
        }
      ]
    }
  ]
}